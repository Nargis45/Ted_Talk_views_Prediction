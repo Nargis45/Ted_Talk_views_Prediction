{
  "nbformat": 4,
  "nbformat_minor": 0,
  "metadata": {
    "colab": {
      "provenance": [],
      "collapsed_sections": [
        "v2wTuP6dRy0o"
      ],
      "authorship_tag": "ABX9TyNzv8hCII2psZvKhDs7wTgQ",
      "include_colab_link": true
    },
    "kernelspec": {
      "name": "python3",
      "display_name": "Python 3"
    },
    "language_info": {
      "name": "python"
    }
  },
  "cells": [
    {
      "cell_type": "markdown",
      "metadata": {
        "id": "view-in-github",
        "colab_type": "text"
      },
      "source": [
        "<a href=\"https://colab.research.google.com/github/Nargis45/Ted_Talk_views_Prediction/blob/main/Ted_Talk_Views_Prediction.ipynb\" target=\"_parent\"><img src=\"https://colab.research.google.com/assets/colab-badge.svg\" alt=\"Open In Colab\"/></a>"
      ]
    },
    {
      "cell_type": "markdown",
      "source": [
        "# **Ted Talk Views Prediction**"
      ],
      "metadata": {
        "id": "Vq3hdbbwR1pG"
      }
    },
    {
      "cell_type": "markdown",
      "source": [
        "**TED is devoted to spreading powerful ideas on just about any topic. These datasets contain over 4,000 TED talks including transcripts in many languages Founded in 1984 by Richard Salman as a nonprofit organization that aimed at bringing experts from the fields of Technology, Entertainment, and Design together, TED Conferences have gone on to become the Mecca of ideas from virtually all walks of life. As of 2015, TED and its sister TEDx chapters have published more than 2000 talks for free consumption by the masses and its speaker list boasts of the likes of Al Gore, Jimmy Wales, Shahrukh Khan, and Bill Gates.**"
      ],
      "metadata": {
        "id": "4sKzbvK2R_k1"
      }
    },
    {
      "cell_type": "markdown",
      "source": [
        "# **Dataset Information**\n",
        "\n",
        "\n",
        "*   Number of instances: 4,005\n",
        "*   Number of attributes: 19\n",
        "\n"
      ],
      "metadata": {
        "id": "tEB-X8q7SKx4"
      }
    },
    {
      "cell_type": "markdown",
      "source": [
        "# **Features information:**\n",
        "\n",
        "**The dataset contains features like:**\n",
        "\n",
        "* **talk_id**: Talk identification number provided by TED\n",
        "* **title**: Title of the talk\n",
        "* **speaker_1**: First speaker in TED's speaker list\n",
        "* **all_speakers**: Speakers in the talk\n",
        "* **occupations**: Occupations of the speakers\n",
        "* **about_speakers**: Blurb about each speaker\n",
        "* **recorded_date**: Date the talk was recorded\n",
        "* **published_date**: Date the talk was published to TED.com\n",
        "* **event**: Event or medium in which the talk was given\n",
        "* **native_lang**: Language the talk was given in\n",
        "* **available_lang**: All available languages (lang_code) for a talk\n",
        "* **comments**: Count of comments\n",
        "* **duration**: Duration in seconds\n",
        "* **topics**: Related tags or topics for the talk\n",
        "* **related_talks**: Related talks (key='talk_id',value='title')\n",
        "* **url**: URL of the talk\n",
        "* **description**: Description of the talk\n",
        "* **transcript**: Full transcript of the talk"
      ],
      "metadata": {
        "id": "3YEDSHiJSamh"
      }
    },
    {
      "cell_type": "markdown",
      "source": [
        "# **Target Variable :**\n",
        "\n",
        "\n",
        "\n",
        "*  **views**: Count of views\n",
        "\n"
      ],
      "metadata": {
        "id": "S7pUV-6VTKg6"
      }
    },
    {
      "cell_type": "markdown",
      "source": [
        "#**Goal:**\n",
        "* The main objective is to build a predictive model, which could help in predicting the views of the videos uploaded on the TEDx website."
      ],
      "metadata": {
        "id": "6DV3Iq8lTiEy"
      }
    },
    {
      "cell_type": "markdown",
      "source": [
        "# **Project Work flow**\n",
        "\n",
        "1. Importing Libraries\n",
        "\n",
        "2. Loading the Dataset\n",
        "\n",
        "3. EDA on features\n",
        "\n",
        "4. Feature Engineering\n",
        "\n",
        "5. Data Cleaning\n",
        "\n",
        "6. Feature Selection\n",
        "\n",
        "6. HyperParameter Tuning and Modeling\n",
        "\n",
        "7. Evaluation and comparision of models\n",
        "\n",
        "8. Selecting the best model\n",
        "\n",
        "9. Conclusion"
      ],
      "metadata": {
        "id": "FPCed8luT2sc"
      }
    },
    {
      "cell_type": "markdown",
      "source": [
        "# **1. Importing Libraries**"
      ],
      "metadata": {
        "id": "OlvPXTuyT7hk"
      }
    },
    {
      "cell_type": "code",
      "source": [
        "#importing the libraries\n",
        "import pandas as pd\n",
        "import numpy as np\n",
        "from datetime import datetime\n",
        "import seaborn as sns\n",
        "import matplotlib.pyplot as plt\n",
        "%matplotlib inline"
      ],
      "metadata": {
        "id": "kNCs0eVWR8Ck"
      },
      "execution_count": 1,
      "outputs": []
    },
    {
      "cell_type": "markdown",
      "source": [
        "**Mounting the drive.**"
      ],
      "metadata": {
        "id": "aWyxRzwaUsBv"
      }
    },
    {
      "cell_type": "code",
      "source": [
        "#mounting the drive to import the file\n",
        "from google.colab import drive\n",
        "drive.mount('/content/drive')"
      ],
      "metadata": {
        "colab": {
          "base_uri": "https://localhost:8080/"
        },
        "id": "WnPShLSYUWJa",
        "outputId": "b6798453-64ef-47c5-9b5e-79df7b3603d6"
      },
      "execution_count": 2,
      "outputs": [
        {
          "output_type": "stream",
          "name": "stdout",
          "text": [
            "Mounted at /content/drive\n"
          ]
        }
      ]
    },
    {
      "cell_type": "markdown",
      "source": [
        "# **2. Loading the dataset**"
      ],
      "metadata": {
        "id": "7cabg4R8U1V6"
      }
    },
    {
      "cell_type": "code",
      "source": [
        "#loading the data file and creating a dataframe\n",
        "path='/content/drive/MyDrive/Colab Notebooks/data_ted_talks.csv'\n",
        "df=pd.read_csv(path)\n",
        "df.head()"
      ],
      "metadata": {
        "colab": {
          "base_uri": "https://localhost:8080/",
          "height": 634
        },
        "id": "wag6zpCOUxNt",
        "outputId": "1f1647c1-1db4-409d-ef0b-f6fd8a5659bb"
      },
      "execution_count": 3,
      "outputs": [
        {
          "output_type": "execute_result",
          "data": {
            "text/plain": [
              "   talk_id                            title         speaker_1  \\\n",
              "0        1      Averting the climate crisis           Al Gore   \n",
              "1       92  The best stats you've ever seen      Hans Rosling   \n",
              "2        7                 Simplicity sells       David Pogue   \n",
              "3       53              Greening the ghetto     Majora Carter   \n",
              "4       66      Do schools kill creativity?  Sir Ken Robinson   \n",
              "\n",
              "              all_speakers                                    occupations  \\\n",
              "0           {0: 'Al Gore'}                      {0: ['climate advocate']}   \n",
              "1      {0: 'Hans Rosling'}  {0: ['global health expert; data visionary']}   \n",
              "2       {0: 'David Pogue'}                  {0: ['technology columnist']}   \n",
              "3     {0: 'Majora Carter'}    {0: ['activist for environmental justice']}   \n",
              "4  {0: 'Sir Ken Robinson'}                    {0: ['author', 'educator']}   \n",
              "\n",
              "                                      about_speakers     views recorded_date  \\\n",
              "0  {0: 'Nobel Laureate Al Gore focused the world’...   3523392    2006-02-25   \n",
              "1  {0: 'In Hans Rosling’s hands, data sings. Glob...  14501685    2006-02-22   \n",
              "2  {0: 'David Pogue is the personal technology co...   1920832    2006-02-24   \n",
              "3  {0: 'Majora Carter redefined the field of envi...   2664069    2006-02-26   \n",
              "4  {0: \"Creativity expert Sir Ken Robinson challe...  65051954    2006-02-25   \n",
              "\n",
              "  published_date    event native_lang  \\\n",
              "0     2006-06-27  TED2006          en   \n",
              "1     2006-06-27  TED2006          en   \n",
              "2     2006-06-27  TED2006          en   \n",
              "3     2006-06-27  TED2006          en   \n",
              "4     2006-06-27  TED2006          en   \n",
              "\n",
              "                                      available_lang  comments  duration  \\\n",
              "0  ['ar', 'bg', 'cs', 'de', 'el', 'en', 'es', 'fa...     272.0       977   \n",
              "1  ['ar', 'az', 'bg', 'bn', 'bs', 'cs', 'da', 'de...     628.0      1190   \n",
              "2  ['ar', 'bg', 'de', 'el', 'en', 'es', 'fa', 'fr...     124.0      1286   \n",
              "3  ['ar', 'bg', 'bn', 'ca', 'cs', 'de', 'en', 'es...     219.0      1116   \n",
              "4  ['af', 'ar', 'az', 'be', 'bg', 'bn', 'ca', 'cs...    4931.0      1164   \n",
              "\n",
              "                                              topics  \\\n",
              "0  ['alternative energy', 'cars', 'climate change...   \n",
              "1  ['Africa', 'Asia', 'Google', 'demo', 'economic...   \n",
              "2  ['computers', 'entertainment', 'interface desi...   \n",
              "3  ['MacArthur grant', 'activism', 'business', 'c...   \n",
              "4  ['children', 'creativity', 'culture', 'dance',...   \n",
              "\n",
              "                                       related_talks  \\\n",
              "0  {243: 'New thinking on the climate crisis', 54...   \n",
              "1  {2056: \"Own your body's data\", 2296: 'A visual...   \n",
              "2  {1725: '10 top time-saving tech tips', 2274: '...   \n",
              "3  {1041: '3 stories of local eco-entrepreneurshi...   \n",
              "4  {865: 'Bring on the learning revolution!', 173...   \n",
              "\n",
              "                                                 url  \\\n",
              "0  https://www.ted.com/talks/al_gore_averting_the...   \n",
              "1  https://www.ted.com/talks/hans_rosling_the_bes...   \n",
              "2  https://www.ted.com/talks/david_pogue_simplici...   \n",
              "3  https://www.ted.com/talks/majora_carter_greeni...   \n",
              "4  https://www.ted.com/talks/sir_ken_robinson_do_...   \n",
              "\n",
              "                                         description  \\\n",
              "0  With the same humor and humanity he exuded in ...   \n",
              "1  You've never seen data presented like this. Wi...   \n",
              "2  New York Times columnist David Pogue takes aim...   \n",
              "3  In an emotionally charged talk, MacArthur-winn...   \n",
              "4  Sir Ken Robinson makes an entertaining and pro...   \n",
              "\n",
              "                                          transcript  \n",
              "0  Thank you so much, Chris. And it's truly a gre...  \n",
              "1  About 10 years ago, I took on the task to teac...  \n",
              "2  (Music: \"The Sound of Silence,\" Simon & Garfun...  \n",
              "3  If you're here today — and I'm very happy that...  \n",
              "4  Good morning. How are you? (Audience) Good. It...  "
            ],
            "text/html": [
              "\n",
              "  <div id=\"df-dc361eca-6f14-4e60-beac-3b9c15c85773\">\n",
              "    <div class=\"colab-df-container\">\n",
              "      <div>\n",
              "<style scoped>\n",
              "    .dataframe tbody tr th:only-of-type {\n",
              "        vertical-align: middle;\n",
              "    }\n",
              "\n",
              "    .dataframe tbody tr th {\n",
              "        vertical-align: top;\n",
              "    }\n",
              "\n",
              "    .dataframe thead th {\n",
              "        text-align: right;\n",
              "    }\n",
              "</style>\n",
              "<table border=\"1\" class=\"dataframe\">\n",
              "  <thead>\n",
              "    <tr style=\"text-align: right;\">\n",
              "      <th></th>\n",
              "      <th>talk_id</th>\n",
              "      <th>title</th>\n",
              "      <th>speaker_1</th>\n",
              "      <th>all_speakers</th>\n",
              "      <th>occupations</th>\n",
              "      <th>about_speakers</th>\n",
              "      <th>views</th>\n",
              "      <th>recorded_date</th>\n",
              "      <th>published_date</th>\n",
              "      <th>event</th>\n",
              "      <th>native_lang</th>\n",
              "      <th>available_lang</th>\n",
              "      <th>comments</th>\n",
              "      <th>duration</th>\n",
              "      <th>topics</th>\n",
              "      <th>related_talks</th>\n",
              "      <th>url</th>\n",
              "      <th>description</th>\n",
              "      <th>transcript</th>\n",
              "    </tr>\n",
              "  </thead>\n",
              "  <tbody>\n",
              "    <tr>\n",
              "      <th>0</th>\n",
              "      <td>1</td>\n",
              "      <td>Averting the climate crisis</td>\n",
              "      <td>Al Gore</td>\n",
              "      <td>{0: 'Al Gore'}</td>\n",
              "      <td>{0: ['climate advocate']}</td>\n",
              "      <td>{0: 'Nobel Laureate Al Gore focused the world’...</td>\n",
              "      <td>3523392</td>\n",
              "      <td>2006-02-25</td>\n",
              "      <td>2006-06-27</td>\n",
              "      <td>TED2006</td>\n",
              "      <td>en</td>\n",
              "      <td>['ar', 'bg', 'cs', 'de', 'el', 'en', 'es', 'fa...</td>\n",
              "      <td>272.0</td>\n",
              "      <td>977</td>\n",
              "      <td>['alternative energy', 'cars', 'climate change...</td>\n",
              "      <td>{243: 'New thinking on the climate crisis', 54...</td>\n",
              "      <td>https://www.ted.com/talks/al_gore_averting_the...</td>\n",
              "      <td>With the same humor and humanity he exuded in ...</td>\n",
              "      <td>Thank you so much, Chris. And it's truly a gre...</td>\n",
              "    </tr>\n",
              "    <tr>\n",
              "      <th>1</th>\n",
              "      <td>92</td>\n",
              "      <td>The best stats you've ever seen</td>\n",
              "      <td>Hans Rosling</td>\n",
              "      <td>{0: 'Hans Rosling'}</td>\n",
              "      <td>{0: ['global health expert; data visionary']}</td>\n",
              "      <td>{0: 'In Hans Rosling’s hands, data sings. Glob...</td>\n",
              "      <td>14501685</td>\n",
              "      <td>2006-02-22</td>\n",
              "      <td>2006-06-27</td>\n",
              "      <td>TED2006</td>\n",
              "      <td>en</td>\n",
              "      <td>['ar', 'az', 'bg', 'bn', 'bs', 'cs', 'da', 'de...</td>\n",
              "      <td>628.0</td>\n",
              "      <td>1190</td>\n",
              "      <td>['Africa', 'Asia', 'Google', 'demo', 'economic...</td>\n",
              "      <td>{2056: \"Own your body's data\", 2296: 'A visual...</td>\n",
              "      <td>https://www.ted.com/talks/hans_rosling_the_bes...</td>\n",
              "      <td>You've never seen data presented like this. Wi...</td>\n",
              "      <td>About 10 years ago, I took on the task to teac...</td>\n",
              "    </tr>\n",
              "    <tr>\n",
              "      <th>2</th>\n",
              "      <td>7</td>\n",
              "      <td>Simplicity sells</td>\n",
              "      <td>David Pogue</td>\n",
              "      <td>{0: 'David Pogue'}</td>\n",
              "      <td>{0: ['technology columnist']}</td>\n",
              "      <td>{0: 'David Pogue is the personal technology co...</td>\n",
              "      <td>1920832</td>\n",
              "      <td>2006-02-24</td>\n",
              "      <td>2006-06-27</td>\n",
              "      <td>TED2006</td>\n",
              "      <td>en</td>\n",
              "      <td>['ar', 'bg', 'de', 'el', 'en', 'es', 'fa', 'fr...</td>\n",
              "      <td>124.0</td>\n",
              "      <td>1286</td>\n",
              "      <td>['computers', 'entertainment', 'interface desi...</td>\n",
              "      <td>{1725: '10 top time-saving tech tips', 2274: '...</td>\n",
              "      <td>https://www.ted.com/talks/david_pogue_simplici...</td>\n",
              "      <td>New York Times columnist David Pogue takes aim...</td>\n",
              "      <td>(Music: \"The Sound of Silence,\" Simon &amp; Garfun...</td>\n",
              "    </tr>\n",
              "    <tr>\n",
              "      <th>3</th>\n",
              "      <td>53</td>\n",
              "      <td>Greening the ghetto</td>\n",
              "      <td>Majora Carter</td>\n",
              "      <td>{0: 'Majora Carter'}</td>\n",
              "      <td>{0: ['activist for environmental justice']}</td>\n",
              "      <td>{0: 'Majora Carter redefined the field of envi...</td>\n",
              "      <td>2664069</td>\n",
              "      <td>2006-02-26</td>\n",
              "      <td>2006-06-27</td>\n",
              "      <td>TED2006</td>\n",
              "      <td>en</td>\n",
              "      <td>['ar', 'bg', 'bn', 'ca', 'cs', 'de', 'en', 'es...</td>\n",
              "      <td>219.0</td>\n",
              "      <td>1116</td>\n",
              "      <td>['MacArthur grant', 'activism', 'business', 'c...</td>\n",
              "      <td>{1041: '3 stories of local eco-entrepreneurshi...</td>\n",
              "      <td>https://www.ted.com/talks/majora_carter_greeni...</td>\n",
              "      <td>In an emotionally charged talk, MacArthur-winn...</td>\n",
              "      <td>If you're here today — and I'm very happy that...</td>\n",
              "    </tr>\n",
              "    <tr>\n",
              "      <th>4</th>\n",
              "      <td>66</td>\n",
              "      <td>Do schools kill creativity?</td>\n",
              "      <td>Sir Ken Robinson</td>\n",
              "      <td>{0: 'Sir Ken Robinson'}</td>\n",
              "      <td>{0: ['author', 'educator']}</td>\n",
              "      <td>{0: \"Creativity expert Sir Ken Robinson challe...</td>\n",
              "      <td>65051954</td>\n",
              "      <td>2006-02-25</td>\n",
              "      <td>2006-06-27</td>\n",
              "      <td>TED2006</td>\n",
              "      <td>en</td>\n",
              "      <td>['af', 'ar', 'az', 'be', 'bg', 'bn', 'ca', 'cs...</td>\n",
              "      <td>4931.0</td>\n",
              "      <td>1164</td>\n",
              "      <td>['children', 'creativity', 'culture', 'dance',...</td>\n",
              "      <td>{865: 'Bring on the learning revolution!', 173...</td>\n",
              "      <td>https://www.ted.com/talks/sir_ken_robinson_do_...</td>\n",
              "      <td>Sir Ken Robinson makes an entertaining and pro...</td>\n",
              "      <td>Good morning. How are you? (Audience) Good. It...</td>\n",
              "    </tr>\n",
              "  </tbody>\n",
              "</table>\n",
              "</div>\n",
              "      <button class=\"colab-df-convert\" onclick=\"convertToInteractive('df-dc361eca-6f14-4e60-beac-3b9c15c85773')\"\n",
              "              title=\"Convert this dataframe to an interactive table.\"\n",
              "              style=\"display:none;\">\n",
              "        \n",
              "  <svg xmlns=\"http://www.w3.org/2000/svg\" height=\"24px\"viewBox=\"0 0 24 24\"\n",
              "       width=\"24px\">\n",
              "    <path d=\"M0 0h24v24H0V0z\" fill=\"none\"/>\n",
              "    <path d=\"M18.56 5.44l.94 2.06.94-2.06 2.06-.94-2.06-.94-.94-2.06-.94 2.06-2.06.94zm-11 1L8.5 8.5l.94-2.06 2.06-.94-2.06-.94L8.5 2.5l-.94 2.06-2.06.94zm10 10l.94 2.06.94-2.06 2.06-.94-2.06-.94-.94-2.06-.94 2.06-2.06.94z\"/><path d=\"M17.41 7.96l-1.37-1.37c-.4-.4-.92-.59-1.43-.59-.52 0-1.04.2-1.43.59L10.3 9.45l-7.72 7.72c-.78.78-.78 2.05 0 2.83L4 21.41c.39.39.9.59 1.41.59.51 0 1.02-.2 1.41-.59l7.78-7.78 2.81-2.81c.8-.78.8-2.07 0-2.86zM5.41 20L4 18.59l7.72-7.72 1.47 1.35L5.41 20z\"/>\n",
              "  </svg>\n",
              "      </button>\n",
              "      \n",
              "  <style>\n",
              "    .colab-df-container {\n",
              "      display:flex;\n",
              "      flex-wrap:wrap;\n",
              "      gap: 12px;\n",
              "    }\n",
              "\n",
              "    .colab-df-convert {\n",
              "      background-color: #E8F0FE;\n",
              "      border: none;\n",
              "      border-radius: 50%;\n",
              "      cursor: pointer;\n",
              "      display: none;\n",
              "      fill: #1967D2;\n",
              "      height: 32px;\n",
              "      padding: 0 0 0 0;\n",
              "      width: 32px;\n",
              "    }\n",
              "\n",
              "    .colab-df-convert:hover {\n",
              "      background-color: #E2EBFA;\n",
              "      box-shadow: 0px 1px 2px rgba(60, 64, 67, 0.3), 0px 1px 3px 1px rgba(60, 64, 67, 0.15);\n",
              "      fill: #174EA6;\n",
              "    }\n",
              "\n",
              "    [theme=dark] .colab-df-convert {\n",
              "      background-color: #3B4455;\n",
              "      fill: #D2E3FC;\n",
              "    }\n",
              "\n",
              "    [theme=dark] .colab-df-convert:hover {\n",
              "      background-color: #434B5C;\n",
              "      box-shadow: 0px 1px 3px 1px rgba(0, 0, 0, 0.15);\n",
              "      filter: drop-shadow(0px 1px 2px rgba(0, 0, 0, 0.3));\n",
              "      fill: #FFFFFF;\n",
              "    }\n",
              "  </style>\n",
              "\n",
              "      <script>\n",
              "        const buttonEl =\n",
              "          document.querySelector('#df-dc361eca-6f14-4e60-beac-3b9c15c85773 button.colab-df-convert');\n",
              "        buttonEl.style.display =\n",
              "          google.colab.kernel.accessAllowed ? 'block' : 'none';\n",
              "\n",
              "        async function convertToInteractive(key) {\n",
              "          const element = document.querySelector('#df-dc361eca-6f14-4e60-beac-3b9c15c85773');\n",
              "          const dataTable =\n",
              "            await google.colab.kernel.invokeFunction('convertToInteractive',\n",
              "                                                     [key], {});\n",
              "          if (!dataTable) return;\n",
              "\n",
              "          const docLinkHtml = 'Like what you see? Visit the ' +\n",
              "            '<a target=\"_blank\" href=https://colab.research.google.com/notebooks/data_table.ipynb>data table notebook</a>'\n",
              "            + ' to learn more about interactive tables.';\n",
              "          element.innerHTML = '';\n",
              "          dataTable['output_type'] = 'display_data';\n",
              "          await google.colab.output.renderOutput(dataTable, element);\n",
              "          const docLink = document.createElement('div');\n",
              "          docLink.innerHTML = docLinkHtml;\n",
              "          element.appendChild(docLink);\n",
              "        }\n",
              "      </script>\n",
              "    </div>\n",
              "  </div>\n",
              "  "
            ]
          },
          "metadata": {},
          "execution_count": 3
        }
      ]
    },
    {
      "cell_type": "markdown",
      "source": [
        "**Now, we have loaded the dataset. So, let's start with Data Cleaning and EDA on features.**"
      ],
      "metadata": {
        "id": "WgLA9IV9VDAd"
      }
    },
    {
      "cell_type": "markdown",
      "source": [
        "# **3. Exploratory Data Analysis on features**"
      ],
      "metadata": {
        "id": "cv20gB9GVKcs"
      }
    },
    {
      "cell_type": "code",
      "source": [
        "#shape of the dataset.\n",
        "df.shape"
      ],
      "metadata": {
        "colab": {
          "base_uri": "https://localhost:8080/"
        },
        "id": "N_8QcsMBU6nj",
        "outputId": "473a341c-73e0-4fc3-aba5-907778e0f6ae"
      },
      "execution_count": 4,
      "outputs": [
        {
          "output_type": "execute_result",
          "data": {
            "text/plain": [
              "(4005, 19)"
            ]
          },
          "metadata": {},
          "execution_count": 4
        }
      ]
    },
    {
      "cell_type": "code",
      "source": [
        "#printing the dataset info\n",
        "df.info()"
      ],
      "metadata": {
        "colab": {
          "base_uri": "https://localhost:8080/"
        },
        "id": "tNWTbr7xVSeS",
        "outputId": "7fc32d98-202d-47d6-b7d2-973a2bc9bd54"
      },
      "execution_count": 5,
      "outputs": [
        {
          "output_type": "stream",
          "name": "stdout",
          "text": [
            "<class 'pandas.core.frame.DataFrame'>\n",
            "RangeIndex: 4005 entries, 0 to 4004\n",
            "Data columns (total 19 columns):\n",
            " #   Column          Non-Null Count  Dtype  \n",
            "---  ------          --------------  -----  \n",
            " 0   talk_id         4005 non-null   int64  \n",
            " 1   title           4005 non-null   object \n",
            " 2   speaker_1       4005 non-null   object \n",
            " 3   all_speakers    4001 non-null   object \n",
            " 4   occupations     3483 non-null   object \n",
            " 5   about_speakers  3502 non-null   object \n",
            " 6   views           4005 non-null   int64  \n",
            " 7   recorded_date   4004 non-null   object \n",
            " 8   published_date  4005 non-null   object \n",
            " 9   event           4005 non-null   object \n",
            " 10  native_lang     4005 non-null   object \n",
            " 11  available_lang  4005 non-null   object \n",
            " 12  comments        3350 non-null   float64\n",
            " 13  duration        4005 non-null   int64  \n",
            " 14  topics          4005 non-null   object \n",
            " 15  related_talks   4005 non-null   object \n",
            " 16  url             4005 non-null   object \n",
            " 17  description     4005 non-null   object \n",
            " 18  transcript      4005 non-null   object \n",
            "dtypes: float64(1), int64(3), object(15)\n",
            "memory usage: 594.6+ KB\n"
          ]
        }
      ]
    },
    {
      "cell_type": "markdown",
      "source": [
        "* **Here, we have talk_id, views, comments, duration as numerical columns in our dataset and rest all columns are either categorical or they contains textual data.**\n",
        "* **So let's generate some numerical columns from these columns.**"
      ],
      "metadata": {
        "id": "ag4RIOzTVj8n"
      }
    },
    {
      "cell_type": "code",
      "source": [
        "#checking for duplicate rows in the dataset\n",
        "df.duplicated().sum()"
      ],
      "metadata": {
        "colab": {
          "base_uri": "https://localhost:8080/"
        },
        "id": "BYxFRAw5Vuv3",
        "outputId": "5fe03d90-019c-4e97-8301-ca957fa1c14b"
      },
      "execution_count": 6,
      "outputs": [
        {
          "output_type": "execute_result",
          "data": {
            "text/plain": [
              "0"
            ]
          },
          "metadata": {},
          "execution_count": 6
        }
      ]
    },
    {
      "cell_type": "markdown",
      "source": [
        "**The dataset do not contain any duplicate rows.**"
      ],
      "metadata": {
        "id": "3IwIHYmRV3h9"
      }
    },
    {
      "cell_type": "markdown",
      "source": [
        "## **Let's Check null values**"
      ],
      "metadata": {
        "id": "GJ9e_acqV9kR"
      }
    },
    {
      "cell_type": "code",
      "source": [
        "df.isnull().sum()"
      ],
      "metadata": {
        "colab": {
          "base_uri": "https://localhost:8080/"
        },
        "id": "RCijIdHYWdne",
        "outputId": "d6ee4a80-a1b7-4f5c-90c5-e92b9f689306"
      },
      "execution_count": 7,
      "outputs": [
        {
          "output_type": "execute_result",
          "data": {
            "text/plain": [
              "talk_id             0\n",
              "title               0\n",
              "speaker_1           0\n",
              "all_speakers        4\n",
              "occupations       522\n",
              "about_speakers    503\n",
              "views               0\n",
              "recorded_date       1\n",
              "published_date      0\n",
              "event               0\n",
              "native_lang         0\n",
              "available_lang      0\n",
              "comments          655\n",
              "duration            0\n",
              "topics              0\n",
              "related_talks       0\n",
              "url                 0\n",
              "description         0\n",
              "transcript          0\n",
              "dtype: int64"
            ]
          },
          "metadata": {},
          "execution_count": 7
        }
      ]
    },
    {
      "cell_type": "code",
      "source": [
        "#plotting the dataset using heatmap to see missing values.\n",
        "sns.heatmap(df.isnull(),yticklabels=False,cbar=False,cmap='viridis')\n",
        "plt.figure(figsize = (10, 6))"
      ],
      "metadata": {
        "colab": {
          "base_uri": "https://localhost:8080/",
          "height": 369
        },
        "id": "qZuGMqZFVz2W",
        "outputId": "4023b41c-3c80-416f-c495-3385841c42c4"
      },
      "execution_count": 8,
      "outputs": [
        {
          "output_type": "execute_result",
          "data": {
            "text/plain": [
              "<Figure size 720x432 with 0 Axes>"
            ]
          },
          "metadata": {},
          "execution_count": 8
        },
        {
          "output_type": "display_data",
          "data": {
            "text/plain": [
              "<Figure size 432x288 with 1 Axes>"
            ],
            "image/png": "[encoded data removed]"
          },
          "metadata": {
            "needs_background": "light"
          }
        },
        {
          "output_type": "display_data",
          "data": {
            "text/plain": [
              "<Figure size 720x432 with 0 Axes>"
            ]
          },
          "metadata": {}
        }
      ]
    },
    {
      "cell_type": "markdown",
      "source": [
        "**The dataset contains NaN values in 4 columns:**\n",
        "\n",
        "* all_speakers\n",
        "* occupations\n",
        "* about_speakers\n",
        "* comments"
      ],
      "metadata": {
        "id": "00lzRYMHWiR4"
      }
    },
    {
      "cell_type": "code",
      "source": [
        "#replacing Nan values of occupations column with 'other' \n",
        "for index, row in df.iterrows():\n",
        "    if pd.isnull(row['occupations']):\n",
        "        df['occupations'][index] = str({0:'Other'})\n",
        "#applying  function on occupations column\n",
        "df['occupations'] = df.apply(lambda row: eval(row['occupations']), axis=1)\n",
        "df.tail()"
      ],
      "metadata": {
        "colab": {
          "base_uri": "https://localhost:8080/",
          "height": 739
        },
        "id": "6rWybg_hAuDD",
        "outputId": "a7b214a8-ed9e-4749-8fa0-42de2d2d4de6"
      },
      "execution_count": 9,
      "outputs": [
        {
          "output_type": "stream",
          "name": "stderr",
          "text": [
            "/usr/local/lib/python3.7/dist-packages/ipykernel_launcher.py:4: SettingWithCopyWarning: \n",
            "A value is trying to be set on a copy of a slice from a DataFrame\n",
            "\n",
            "See the caveats in the documentation: https://pandas.pydata.org/pandas-docs/stable/user_guide/indexing.html#returning-a-view-versus-a-copy\n",
            "  after removing the cwd from sys.path.\n"
          ]
        },
        {
          "output_type": "execute_result",
          "data": {
            "text/plain": [
              "      talk_id                                             title  \\\n",
              "4000    62678       Crisis support for the world, one text away   \n",
              "4001    62782                      The dark history of IQ tests   \n",
              "4002    62263  How \"policing for profit\" undermines your rights   \n",
              "4003    62784      The electrifying speeches of Sojourner Truth   \n",
              "4004    62794              The most important anus in the ocean   \n",
              "\n",
              "                 speaker_1                 all_speakers  \\\n",
              "4000          Nancy Lublin          {0: 'Nancy Lublin'}   \n",
              "4001   Stefan C Dombrowski   {0: 'Stefan C Dombrowski'}   \n",
              "4002  Dick M. Carpenter II  {0: 'Dick M. Carpenter II'}   \n",
              "4003     Daina Ramey Berry     {0: 'Daina Ramey Berry'}   \n",
              "4004          Cella Wright          {0: 'Cella Wright'}   \n",
              "\n",
              "                   occupations  \\\n",
              "4000  {0: ['health activist']}   \n",
              "4001              {0: 'Other'}   \n",
              "4002   {0: ['law researcher']}   \n",
              "4003              {0: 'Other'}   \n",
              "4004              {0: 'Other'}   \n",
              "\n",
              "                                         about_speakers   views recorded_date  \\\n",
              "4000  {0: 'Nancy Lublin, cofounder and CEO of Crisis...  502934    2020-04-22   \n",
              "4001                                                NaN  307187    2020-04-27   \n",
              "4002  {0: 'Dick M. Carpenter II studies cutting edge...  464414    2019-06-22   \n",
              "4003                                                NaN   56582    2020-04-28   \n",
              "4004                                                NaN       0    2020-04-30   \n",
              "\n",
              "     published_date                 event native_lang  \\\n",
              "4000     2020-04-27  TED2020: The Prequel          en   \n",
              "4001     2020-04-27                TED-Ed          en   \n",
              "4002     2020-04-28          TEDxMileHigh          en   \n",
              "4003     2020-04-30                TED-Ed          en   \n",
              "4004     2020-04-30                TED-Ed          en   \n",
              "\n",
              "                   available_lang  comments  duration  \\\n",
              "4000                       ['en']       6.0       690   \n",
              "4001  ['en', 'es', 'my', 'pt-br']       NaN       346   \n",
              "4002                       ['en']       9.0       774   \n",
              "4003                       ['en']       NaN       257   \n",
              "4004                       ['en']       NaN       281   \n",
              "\n",
              "                                                 topics  \\\n",
              "4000  ['activism', 'data', 'technology', 'mental hea...   \n",
              "4001  ['TED-Ed', 'education', 'history', 'animation'...   \n",
              "4002  ['society', 'law', 'policy', 'justice system',...   \n",
              "4003  ['TED-Ed', 'education', 'animation', 'United S...   \n",
              "4004  ['animals', 'TED-Ed', 'animation', 'oceans', '...   \n",
              "\n",
              "                                          related_talks  \\\n",
              "4000  {2362: 'How data from a crisis text line is sa...   \n",
              "4001  {35386: 'How does the Rorschach inkblot test w...   \n",
              "4002  {2406: 'I love being a police officer, but we ...   \n",
              "4003  {20973: 'The breathtaking courage of Harriet T...   \n",
              "4004  {62347: 'The bug that poops candy', 29159: 'In...   \n",
              "\n",
              "                                                    url  \\\n",
              "4000  https://www.ted.com/talks/nancy_lublin_crisis_...   \n",
              "4001  https://www.ted.com/talks/stefan_c_dombrowski_...   \n",
              "4002  https://www.ted.com/talks/dick_m_carpenter_ii_...   \n",
              "4003  https://www.ted.com/talks/daina_ramey_berry_th...   \n",
              "4004  https://www.ted.com/talks/cella_wright_the_mos...   \n",
              "\n",
              "                                            description  \\\n",
              "4000  What if we could help people in crisis anytime...   \n",
              "4001  In 1905, psychologists Alfred Binet and Théodo...   \n",
              "4002  Many countries have an active, centuries-old l...   \n",
              "4003  Isabella Baumfree was born into slavery in lat...   \n",
              "4004  Is it a fuzzy sock? An overripe banana? A mold...   \n",
              "\n",
              "                                             transcript  \n",
              "4000  \"I'm 14, and I want to go home.\" \"My name is B...  \n",
              "4001  In 1905, psychologists Alfred Binet and Théodo...  \n",
              "4002  Picture yourself driving down the road tomorro...  \n",
              "4003  In early 1828, Sojourner Truth approached the ...  \n",
              "4004  Can you guess what you’re looking at? Is it a ...  "
            ],
            "text/html": [
              "\n",
              "  <div id=\"df-440a0b63-249a-4c02-bbfa-e346956ad632\">\n",
              "    <div class=\"colab-df-container\">\n",
              "      <div>\n",
              "<style scoped>\n",
              "    .dataframe tbody tr th:only-of-type {\n",
              "        vertical-align: middle;\n",
              "    }\n",
              "\n",
              "    .dataframe tbody tr th {\n",
              "        vertical-align: top;\n",
              "    }\n",
              "\n",
              "    .dataframe thead th {\n",
              "        text-align: right;\n",
              "    }\n",
              "</style>\n",
              "<table border=\"1\" class=\"dataframe\">\n",
              "  <thead>\n",
              "    <tr style=\"text-align: right;\">\n",
              "      <th></th>\n",
              "      <th>talk_id</th>\n",
              "      <th>title</th>\n",
              "      <th>speaker_1</th>\n",
              "      <th>all_speakers</th>\n",
              "      <th>occupations</th>\n",
              "      <th>about_speakers</th>\n",
              "      <th>views</th>\n",
              "      <th>recorded_date</th>\n",
              "      <th>published_date</th>\n",
              "      <th>event</th>\n",
              "      <th>native_lang</th>\n",
              "      <th>available_lang</th>\n",
              "      <th>comments</th>\n",
              "      <th>duration</th>\n",
              "      <th>topics</th>\n",
              "      <th>related_talks</th>\n",
              "      <th>url</th>\n",
              "      <th>description</th>\n",
              "      <th>transcript</th>\n",
              "    </tr>\n",
              "  </thead>\n",
              "  <tbody>\n",
              "    <tr>\n",
              "      <th>4000</th>\n",
              "      <td>62678</td>\n",
              "      <td>Crisis support for the world, one text away</td>\n",
              "      <td>Nancy Lublin</td>\n",
              "      <td>{0: 'Nancy Lublin'}</td>\n",
              "      <td>{0: ['health activist']}</td>\n",
              "      <td>{0: 'Nancy Lublin, cofounder and CEO of Crisis...</td>\n",
              "      <td>502934</td>\n",
              "      <td>2020-04-22</td>\n",
              "      <td>2020-04-27</td>\n",
              "      <td>TED2020: The Prequel</td>\n",
              "      <td>en</td>\n",
              "      <td>['en']</td>\n",
              "      <td>6.0</td>\n",
              "      <td>690</td>\n",
              "      <td>['activism', 'data', 'technology', 'mental hea...</td>\n",
              "      <td>{2362: 'How data from a crisis text line is sa...</td>\n",
              "      <td>https://www.ted.com/talks/nancy_lublin_crisis_...</td>\n",
              "      <td>What if we could help people in crisis anytime...</td>\n",
              "      <td>\"I'm 14, and I want to go home.\" \"My name is B...</td>\n",
              "    </tr>\n",
              "    <tr>\n",
              "      <th>4001</th>\n",
              "      <td>62782</td>\n",
              "      <td>The dark history of IQ tests</td>\n",
              "      <td>Stefan C Dombrowski</td>\n",
              "      <td>{0: 'Stefan C Dombrowski'}</td>\n",
              "      <td>{0: 'Other'}</td>\n",
              "      <td>NaN</td>\n",
              "      <td>307187</td>\n",
              "      <td>2020-04-27</td>\n",
              "      <td>2020-04-27</td>\n",
              "      <td>TED-Ed</td>\n",
              "      <td>en</td>\n",
              "      <td>['en', 'es', 'my', 'pt-br']</td>\n",
              "      <td>NaN</td>\n",
              "      <td>346</td>\n",
              "      <td>['TED-Ed', 'education', 'history', 'animation'...</td>\n",
              "      <td>{35386: 'How does the Rorschach inkblot test w...</td>\n",
              "      <td>https://www.ted.com/talks/stefan_c_dombrowski_...</td>\n",
              "      <td>In 1905, psychologists Alfred Binet and Théodo...</td>\n",
              "      <td>In 1905, psychologists Alfred Binet and Théodo...</td>\n",
              "    </tr>\n",
              "    <tr>\n",
              "      <th>4002</th>\n",
              "      <td>62263</td>\n",
              "      <td>How \"policing for profit\" undermines your rights</td>\n",
              "      <td>Dick M. Carpenter II</td>\n",
              "      <td>{0: 'Dick M. Carpenter II'}</td>\n",
              "      <td>{0: ['law researcher']}</td>\n",
              "      <td>{0: 'Dick M. Carpenter II studies cutting edge...</td>\n",
              "      <td>464414</td>\n",
              "      <td>2019-06-22</td>\n",
              "      <td>2020-04-28</td>\n",
              "      <td>TEDxMileHigh</td>\n",
              "      <td>en</td>\n",
              "      <td>['en']</td>\n",
              "      <td>9.0</td>\n",
              "      <td>774</td>\n",
              "      <td>['society', 'law', 'policy', 'justice system',...</td>\n",
              "      <td>{2406: 'I love being a police officer, but we ...</td>\n",
              "      <td>https://www.ted.com/talks/dick_m_carpenter_ii_...</td>\n",
              "      <td>Many countries have an active, centuries-old l...</td>\n",
              "      <td>Picture yourself driving down the road tomorro...</td>\n",
              "    </tr>\n",
              "    <tr>\n",
              "      <th>4003</th>\n",
              "      <td>62784</td>\n",
              "      <td>The electrifying speeches of Sojourner Truth</td>\n",
              "      <td>Daina Ramey Berry</td>\n",
              "      <td>{0: 'Daina Ramey Berry'}</td>\n",
              "      <td>{0: 'Other'}</td>\n",
              "      <td>NaN</td>\n",
              "      <td>56582</td>\n",
              "      <td>2020-04-28</td>\n",
              "      <td>2020-04-30</td>\n",
              "      <td>TED-Ed</td>\n",
              "      <td>en</td>\n",
              "      <td>['en']</td>\n",
              "      <td>NaN</td>\n",
              "      <td>257</td>\n",
              "      <td>['TED-Ed', 'education', 'animation', 'United S...</td>\n",
              "      <td>{20973: 'The breathtaking courage of Harriet T...</td>\n",
              "      <td>https://www.ted.com/talks/daina_ramey_berry_th...</td>\n",
              "      <td>Isabella Baumfree was born into slavery in lat...</td>\n",
              "      <td>In early 1828, Sojourner Truth approached the ...</td>\n",
              "    </tr>\n",
              "    <tr>\n",
              "      <th>4004</th>\n",
              "      <td>62794</td>\n",
              "      <td>The most important anus in the ocean</td>\n",
              "      <td>Cella Wright</td>\n",
              "      <td>{0: 'Cella Wright'}</td>\n",
              "      <td>{0: 'Other'}</td>\n",
              "      <td>NaN</td>\n",
              "      <td>0</td>\n",
              "      <td>2020-04-30</td>\n",
              "      <td>2020-04-30</td>\n",
              "      <td>TED-Ed</td>\n",
              "      <td>en</td>\n",
              "      <td>['en']</td>\n",
              "      <td>NaN</td>\n",
              "      <td>281</td>\n",
              "      <td>['animals', 'TED-Ed', 'animation', 'oceans', '...</td>\n",
              "      <td>{62347: 'The bug that poops candy', 29159: 'In...</td>\n",
              "      <td>https://www.ted.com/talks/cella_wright_the_mos...</td>\n",
              "      <td>Is it a fuzzy sock? An overripe banana? A mold...</td>\n",
              "      <td>Can you guess what you’re looking at? Is it a ...</td>\n",
              "    </tr>\n",
              "  </tbody>\n",
              "</table>\n",
              "</div>\n",
              "      <button class=\"colab-df-convert\" onclick=\"convertToInteractive('df-440a0b63-249a-4c02-bbfa-e346956ad632')\"\n",
              "              title=\"Convert this dataframe to an interactive table.\"\n",
              "              style=\"display:none;\">\n",
              "        \n",
              "  <svg xmlns=\"http://www.w3.org/2000/svg\" height=\"24px\"viewBox=\"0 0 24 24\"\n",
              "       width=\"24px\">\n",
              "    <path d=\"M0 0h24v24H0V0z\" fill=\"none\"/>\n",
              "    <path d=\"M18.56 5.44l.94 2.06.94-2.06 2.06-.94-2.06-.94-.94-2.06-.94 2.06-2.06.94zm-11 1L8.5 8.5l.94-2.06 2.06-.94-2.06-.94L8.5 2.5l-.94 2.06-2.06.94zm10 10l.94 2.06.94-2.06 2.06-.94-2.06-.94-.94-2.06-.94 2.06-2.06.94z\"/><path d=\"M17.41 7.96l-1.37-1.37c-.4-.4-.92-.59-1.43-.59-.52 0-1.04.2-1.43.59L10.3 9.45l-7.72 7.72c-.78.78-.78 2.05 0 2.83L4 21.41c.39.39.9.59 1.41.59.51 0 1.02-.2 1.41-.59l7.78-7.78 2.81-2.81c.8-.78.8-2.07 0-2.86zM5.41 20L4 18.59l7.72-7.72 1.47 1.35L5.41 20z\"/>\n",
              "  </svg>\n",
              "      </button>\n",
              "      \n",
              "  <style>\n",
              "    .colab-df-container {\n",
              "      display:flex;\n",
              "      flex-wrap:wrap;\n",
              "      gap: 12px;\n",
              "    }\n",
              "\n",
              "    .colab-df-convert {\n",
              "      background-color: #E8F0FE;\n",
              "      border: none;\n",
              "      border-radius: 50%;\n",
              "      cursor: pointer;\n",
              "      display: none;\n",
              "      fill: #1967D2;\n",
              "      height: 32px;\n",
              "      padding: 0 0 0 0;\n",
              "      width: 32px;\n",
              "    }\n",
              "\n",
              "    .colab-df-convert:hover {\n",
              "      background-color: #E2EBFA;\n",
              "      box-shadow: 0px 1px 2px rgba(60, 64, 67, 0.3), 0px 1px 3px 1px rgba(60, 64, 67, 0.15);\n",
              "      fill: #174EA6;\n",
              "    }\n",
              "\n",
              "    [theme=dark] .colab-df-convert {\n",
              "      background-color: #3B4455;\n",
              "      fill: #D2E3FC;\n",
              "    }\n",
              "\n",
              "    [theme=dark] .colab-df-convert:hover {\n",
              "      background-color: #434B5C;\n",
              "      box-shadow: 0px 1px 3px 1px rgba(0, 0, 0, 0.15);\n",
              "      filter: drop-shadow(0px 1px 2px rgba(0, 0, 0, 0.3));\n",
              "      fill: #FFFFFF;\n",
              "    }\n",
              "  </style>\n",
              "\n",
              "      <script>\n",
              "        const buttonEl =\n",
              "          document.querySelector('#df-440a0b63-249a-4c02-bbfa-e346956ad632 button.colab-df-convert');\n",
              "        buttonEl.style.display =\n",
              "          google.colab.kernel.accessAllowed ? 'block' : 'none';\n",
              "\n",
              "        async function convertToInteractive(key) {\n",
              "          const element = document.querySelector('#df-440a0b63-249a-4c02-bbfa-e346956ad632');\n",
              "          const dataTable =\n",
              "            await google.colab.kernel.invokeFunction('convertToInteractive',\n",
              "                                                     [key], {});\n",
              "          if (!dataTable) return;\n",
              "\n",
              "          const docLinkHtml = 'Like what you see? Visit the ' +\n",
              "            '<a target=\"_blank\" href=https://colab.research.google.com/notebooks/data_table.ipynb>data table notebook</a>'\n",
              "            + ' to learn more about interactive tables.';\n",
              "          element.innerHTML = '';\n",
              "          dataTable['output_type'] = 'display_data';\n",
              "          await google.colab.output.renderOutput(dataTable, element);\n",
              "          const docLink = document.createElement('div');\n",
              "          docLink.innerHTML = docLinkHtml;\n",
              "          element.appendChild(docLink);\n",
              "        }\n",
              "      </script>\n",
              "    </div>\n",
              "  </div>\n",
              "  "
            ]
          },
          "metadata": {},
          "execution_count": 9
        }
      ]
    },
    {
      "cell_type": "code",
      "source": [
        "#defining a new feature called occupation\n",
        "df['occupation'] = 'other'\n",
        "#iterating through the each row and extracting occupations of speakers\n",
        "for index, row in df.iterrows():\n",
        "    occup_list=list(row['occupations'].values())[0][0]\n",
        "    df.loc[index,'occupation'] = str(occup_list)\n",
        " \n",
        "df.tail()"
      ],
      "metadata": {
        "colab": {
          "base_uri": "https://localhost:8080/",
          "height": 652
        },
        "id": "MdDJK_qKA-2a",
        "outputId": "d5b45d90-3c0e-4bb3-c00a-87b0c375c978"
      },
      "execution_count": 10,
      "outputs": [
        {
          "output_type": "execute_result",
          "data": {
            "text/plain": [
              "      talk_id                                             title  \\\n",
              "4000    62678       Crisis support for the world, one text away   \n",
              "4001    62782                      The dark history of IQ tests   \n",
              "4002    62263  How \"policing for profit\" undermines your rights   \n",
              "4003    62784      The electrifying speeches of Sojourner Truth   \n",
              "4004    62794              The most important anus in the ocean   \n",
              "\n",
              "                 speaker_1                 all_speakers  \\\n",
              "4000          Nancy Lublin          {0: 'Nancy Lublin'}   \n",
              "4001   Stefan C Dombrowski   {0: 'Stefan C Dombrowski'}   \n",
              "4002  Dick M. Carpenter II  {0: 'Dick M. Carpenter II'}   \n",
              "4003     Daina Ramey Berry     {0: 'Daina Ramey Berry'}   \n",
              "4004          Cella Wright          {0: 'Cella Wright'}   \n",
              "\n",
              "                   occupations  \\\n",
              "4000  {0: ['health activist']}   \n",
              "4001              {0: 'Other'}   \n",
              "4002   {0: ['law researcher']}   \n",
              "4003              {0: 'Other'}   \n",
              "4004              {0: 'Other'}   \n",
              "\n",
              "                                         about_speakers   views recorded_date  \\\n",
              "4000  {0: 'Nancy Lublin, cofounder and CEO of Crisis...  502934    2020-04-22   \n",
              "4001                                                NaN  307187    2020-04-27   \n",
              "4002  {0: 'Dick M. Carpenter II studies cutting edge...  464414    2019-06-22   \n",
              "4003                                                NaN   56582    2020-04-28   \n",
              "4004                                                NaN       0    2020-04-30   \n",
              "\n",
              "     published_date                 event native_lang  \\\n",
              "4000     2020-04-27  TED2020: The Prequel          en   \n",
              "4001     2020-04-27                TED-Ed          en   \n",
              "4002     2020-04-28          TEDxMileHigh          en   \n",
              "4003     2020-04-30                TED-Ed          en   \n",
              "4004     2020-04-30                TED-Ed          en   \n",
              "\n",
              "                   available_lang  comments  duration  \\\n",
              "4000                       ['en']       6.0       690   \n",
              "4001  ['en', 'es', 'my', 'pt-br']       NaN       346   \n",
              "4002                       ['en']       9.0       774   \n",
              "4003                       ['en']       NaN       257   \n",
              "4004                       ['en']       NaN       281   \n",
              "\n",
              "                                                 topics  \\\n",
              "4000  ['activism', 'data', 'technology', 'mental hea...   \n",
              "4001  ['TED-Ed', 'education', 'history', 'animation'...   \n",
              "4002  ['society', 'law', 'policy', 'justice system',...   \n",
              "4003  ['TED-Ed', 'education', 'animation', 'United S...   \n",
              "4004  ['animals', 'TED-Ed', 'animation', 'oceans', '...   \n",
              "\n",
              "                                          related_talks  \\\n",
              "4000  {2362: 'How data from a crisis text line is sa...   \n",
              "4001  {35386: 'How does the Rorschach inkblot test w...   \n",
              "4002  {2406: 'I love being a police officer, but we ...   \n",
              "4003  {20973: 'The breathtaking courage of Harriet T...   \n",
              "4004  {62347: 'The bug that poops candy', 29159: 'In...   \n",
              "\n",
              "                                                    url  \\\n",
              "4000  https://www.ted.com/talks/nancy_lublin_crisis_...   \n",
              "4001  https://www.ted.com/talks/stefan_c_dombrowski_...   \n",
              "4002  https://www.ted.com/talks/dick_m_carpenter_ii_...   \n",
              "4003  https://www.ted.com/talks/daina_ramey_berry_th...   \n",
              "4004  https://www.ted.com/talks/cella_wright_the_mos...   \n",
              "\n",
              "                                            description  \\\n",
              "4000  What if we could help people in crisis anytime...   \n",
              "4001  In 1905, psychologists Alfred Binet and Théodo...   \n",
              "4002  Many countries have an active, centuries-old l...   \n",
              "4003  Isabella Baumfree was born into slavery in lat...   \n",
              "4004  Is it a fuzzy sock? An overripe banana? A mold...   \n",
              "\n",
              "                                             transcript       occupation  \n",
              "4000  \"I'm 14, and I want to go home.\" \"My name is B...  health activist  \n",
              "4001  In 1905, psychologists Alfred Binet and Théodo...                O  \n",
              "4002  Picture yourself driving down the road tomorro...   law researcher  \n",
              "4003  In early 1828, Sojourner Truth approached the ...                O  \n",
              "4004  Can you guess what you’re looking at? Is it a ...                O  "
            ],
            "text/html": [
              "\n",
              "  <div id=\"df-9d64be08-1b8a-4270-9656-b8043f0104d4\">\n",
              "    <div class=\"colab-df-container\">\n",
              "      <div>\n",
              "<style scoped>\n",
              "    .dataframe tbody tr th:only-of-type {\n",
              "        vertical-align: middle;\n",
              "    }\n",
              "\n",
              "    .dataframe tbody tr th {\n",
              "        vertical-align: top;\n",
              "    }\n",
              "\n",
              "    .dataframe thead th {\n",
              "        text-align: right;\n",
              "    }\n",
              "</style>\n",
              "<table border=\"1\" class=\"dataframe\">\n",
              "  <thead>\n",
              "    <tr style=\"text-align: right;\">\n",
              "      <th></th>\n",
              "      <th>talk_id</th>\n",
              "      <th>title</th>\n",
              "      <th>speaker_1</th>\n",
              "      <th>all_speakers</th>\n",
              "      <th>occupations</th>\n",
              "      <th>about_speakers</th>\n",
              "      <th>views</th>\n",
              "      <th>recorded_date</th>\n",
              "      <th>published_date</th>\n",
              "      <th>event</th>\n",
              "      <th>native_lang</th>\n",
              "      <th>available_lang</th>\n",
              "      <th>comments</th>\n",
              "      <th>duration</th>\n",
              "      <th>topics</th>\n",
              "      <th>related_talks</th>\n",
              "      <th>url</th>\n",
              "      <th>description</th>\n",
              "      <th>transcript</th>\n",
              "      <th>occupation</th>\n",
              "    </tr>\n",
              "  </thead>\n",
              "  <tbody>\n",
              "    <tr>\n",
              "      <th>4000</th>\n",
              "      <td>62678</td>\n",
              "      <td>Crisis support for the world, one text away</td>\n",
              "      <td>Nancy Lublin</td>\n",
              "      <td>{0: 'Nancy Lublin'}</td>\n",
              "      <td>{0: ['health activist']}</td>\n",
              "      <td>{0: 'Nancy Lublin, cofounder and CEO of Crisis...</td>\n",
              "      <td>502934</td>\n",
              "      <td>2020-04-22</td>\n",
              "      <td>2020-04-27</td>\n",
              "      <td>TED2020: The Prequel</td>\n",
              "      <td>en</td>\n",
              "      <td>['en']</td>\n",
              "      <td>6.0</td>\n",
              "      <td>690</td>\n",
              "      <td>['activism', 'data', 'technology', 'mental hea...</td>\n",
              "      <td>{2362: 'How data from a crisis text line is sa...</td>\n",
              "      <td>https://www.ted.com/talks/nancy_lublin_crisis_...</td>\n",
              "      <td>What if we could help people in crisis anytime...</td>\n",
              "      <td>\"I'm 14, and I want to go home.\" \"My name is B...</td>\n",
              "      <td>health activist</td>\n",
              "    </tr>\n",
              "    <tr>\n",
              "      <th>4001</th>\n",
              "      <td>62782</td>\n",
              "      <td>The dark history of IQ tests</td>\n",
              "      <td>Stefan C Dombrowski</td>\n",
              "      <td>{0: 'Stefan C Dombrowski'}</td>\n",
              "      <td>{0: 'Other'}</td>\n",
              "      <td>NaN</td>\n",
              "      <td>307187</td>\n",
              "      <td>2020-04-27</td>\n",
              "      <td>2020-04-27</td>\n",
              "      <td>TED-Ed</td>\n",
              "      <td>en</td>\n",
              "      <td>['en', 'es', 'my', 'pt-br']</td>\n",
              "      <td>NaN</td>\n",
              "      <td>346</td>\n",
              "      <td>['TED-Ed', 'education', 'history', 'animation'...</td>\n",
              "      <td>{35386: 'How does the Rorschach inkblot test w...</td>\n",
              "      <td>https://www.ted.com/talks/stefan_c_dombrowski_...</td>\n",
              "      <td>In 1905, psychologists Alfred Binet and Théodo...</td>\n",
              "      <td>In 1905, psychologists Alfred Binet and Théodo...</td>\n",
              "      <td>O</td>\n",
              "    </tr>\n",
              "    <tr>\n",
              "      <th>4002</th>\n",
              "      <td>62263</td>\n",
              "      <td>How \"policing for profit\" undermines your rights</td>\n",
              "      <td>Dick M. Carpenter II</td>\n",
              "      <td>{0: 'Dick M. Carpenter II'}</td>\n",
              "      <td>{0: ['law researcher']}</td>\n",
              "      <td>{0: 'Dick M. Carpenter II studies cutting edge...</td>\n",
              "      <td>464414</td>\n",
              "      <td>2019-06-22</td>\n",
              "      <td>2020-04-28</td>\n",
              "      <td>TEDxMileHigh</td>\n",
              "      <td>en</td>\n",
              "      <td>['en']</td>\n",
              "      <td>9.0</td>\n",
              "      <td>774</td>\n",
              "      <td>['society', 'law', 'policy', 'justice system',...</td>\n",
              "      <td>{2406: 'I love being a police officer, but we ...</td>\n",
              "      <td>https://www.ted.com/talks/dick_m_carpenter_ii_...</td>\n",
              "      <td>Many countries have an active, centuries-old l...</td>\n",
              "      <td>Picture yourself driving down the road tomorro...</td>\n",
              "      <td>law researcher</td>\n",
              "    </tr>\n",
              "    <tr>\n",
              "      <th>4003</th>\n",
              "      <td>62784</td>\n",
              "      <td>The electrifying speeches of Sojourner Truth</td>\n",
              "      <td>Daina Ramey Berry</td>\n",
              "      <td>{0: 'Daina Ramey Berry'}</td>\n",
              "      <td>{0: 'Other'}</td>\n",
              "      <td>NaN</td>\n",
              "      <td>56582</td>\n",
              "      <td>2020-04-28</td>\n",
              "      <td>2020-04-30</td>\n",
              "      <td>TED-Ed</td>\n",
              "      <td>en</td>\n",
              "      <td>['en']</td>\n",
              "      <td>NaN</td>\n",
              "      <td>257</td>\n",
              "      <td>['TED-Ed', 'education', 'animation', 'United S...</td>\n",
              "      <td>{20973: 'The breathtaking courage of Harriet T...</td>\n",
              "      <td>https://www.ted.com/talks/daina_ramey_berry_th...</td>\n",
              "      <td>Isabella Baumfree was born into slavery in lat...</td>\n",
              "      <td>In early 1828, Sojourner Truth approached the ...</td>\n",
              "      <td>O</td>\n",
              "    </tr>\n",
              "    <tr>\n",
              "      <th>4004</th>\n",
              "      <td>62794</td>\n",
              "      <td>The most important anus in the ocean</td>\n",
              "      <td>Cella Wright</td>\n",
              "      <td>{0: 'Cella Wright'}</td>\n",
              "      <td>{0: 'Other'}</td>\n",
              "      <td>NaN</td>\n",
              "      <td>0</td>\n",
              "      <td>2020-04-30</td>\n",
              "      <td>2020-04-30</td>\n",
              "      <td>TED-Ed</td>\n",
              "      <td>en</td>\n",
              "      <td>['en']</td>\n",
              "      <td>NaN</td>\n",
              "      <td>281</td>\n",
              "      <td>['animals', 'TED-Ed', 'animation', 'oceans', '...</td>\n",
              "      <td>{62347: 'The bug that poops candy', 29159: 'In...</td>\n",
              "      <td>https://www.ted.com/talks/cella_wright_the_mos...</td>\n",
              "      <td>Is it a fuzzy sock? An overripe banana? A mold...</td>\n",
              "      <td>Can you guess what you’re looking at? Is it a ...</td>\n",
              "      <td>O</td>\n",
              "    </tr>\n",
              "  </tbody>\n",
              "</table>\n",
              "</div>\n",
              "      <button class=\"colab-df-convert\" onclick=\"convertToInteractive('df-9d64be08-1b8a-4270-9656-b8043f0104d4')\"\n",
              "              title=\"Convert this dataframe to an interactive table.\"\n",
              "              style=\"display:none;\">\n",
              "        \n",
              "  <svg xmlns=\"http://www.w3.org/2000/svg\" height=\"24px\"viewBox=\"0 0 24 24\"\n",
              "       width=\"24px\">\n",
              "    <path d=\"M0 0h24v24H0V0z\" fill=\"none\"/>\n",
              "    <path d=\"M18.56 5.44l.94 2.06.94-2.06 2.06-.94-2.06-.94-.94-2.06-.94 2.06-2.06.94zm-11 1L8.5 8.5l.94-2.06 2.06-.94-2.06-.94L8.5 2.5l-.94 2.06-2.06.94zm10 10l.94 2.06.94-2.06 2.06-.94-2.06-.94-.94-2.06-.94 2.06-2.06.94z\"/><path d=\"M17.41 7.96l-1.37-1.37c-.4-.4-.92-.59-1.43-.59-.52 0-1.04.2-1.43.59L10.3 9.45l-7.72 7.72c-.78.78-.78 2.05 0 2.83L4 21.41c.39.39.9.59 1.41.59.51 0 1.02-.2 1.41-.59l7.78-7.78 2.81-2.81c.8-.78.8-2.07 0-2.86zM5.41 20L4 18.59l7.72-7.72 1.47 1.35L5.41 20z\"/>\n",
              "  </svg>\n",
              "      </button>\n",
              "      \n",
              "  <style>\n",
              "    .colab-df-container {\n",
              "      display:flex;\n",
              "      flex-wrap:wrap;\n",
              "      gap: 12px;\n",
              "    }\n",
              "\n",
              "    .colab-df-convert {\n",
              "      background-color: #E8F0FE;\n",
              "      border: none;\n",
              "      border-radius: 50%;\n",
              "      cursor: pointer;\n",
              "      display: none;\n",
              "      fill: #1967D2;\n",
              "      height: 32px;\n",
              "      padding: 0 0 0 0;\n",
              "      width: 32px;\n",
              "    }\n",
              "\n",
              "    .colab-df-convert:hover {\n",
              "      background-color: #E2EBFA;\n",
              "      box-shadow: 0px 1px 2px rgba(60, 64, 67, 0.3), 0px 1px 3px 1px rgba(60, 64, 67, 0.15);\n",
              "      fill: #174EA6;\n",
              "    }\n",
              "\n",
              "    [theme=dark] .colab-df-convert {\n",
              "      background-color: #3B4455;\n",
              "      fill: #D2E3FC;\n",
              "    }\n",
              "\n",
              "    [theme=dark] .colab-df-convert:hover {\n",
              "      background-color: #434B5C;\n",
              "      box-shadow: 0px 1px 3px 1px rgba(0, 0, 0, 0.15);\n",
              "      filter: drop-shadow(0px 1px 2px rgba(0, 0, 0, 0.3));\n",
              "      fill: #FFFFFF;\n",
              "    }\n",
              "  </style>\n",
              "\n",
              "      <script>\n",
              "        const buttonEl =\n",
              "          document.querySelector('#df-9d64be08-1b8a-4270-9656-b8043f0104d4 button.colab-df-convert');\n",
              "        buttonEl.style.display =\n",
              "          google.colab.kernel.accessAllowed ? 'block' : 'none';\n",
              "\n",
              "        async function convertToInteractive(key) {\n",
              "          const element = document.querySelector('#df-9d64be08-1b8a-4270-9656-b8043f0104d4');\n",
              "          const dataTable =\n",
              "            await google.colab.kernel.invokeFunction('convertToInteractive',\n",
              "                                                     [key], {});\n",
              "          if (!dataTable) return;\n",
              "\n",
              "          const docLinkHtml = 'Like what you see? Visit the ' +\n",
              "            '<a target=\"_blank\" href=https://colab.research.google.com/notebooks/data_table.ipynb>data table notebook</a>'\n",
              "            + ' to learn more about interactive tables.';\n",
              "          element.innerHTML = '';\n",
              "          dataTable['output_type'] = 'display_data';\n",
              "          await google.colab.output.renderOutput(dataTable, element);\n",
              "          const docLink = document.createElement('div');\n",
              "          docLink.innerHTML = docLinkHtml;\n",
              "          element.appendChild(docLink);\n",
              "        }\n",
              "      </script>\n",
              "    </div>\n",
              "  </div>\n",
              "  "
            ]
          },
          "metadata": {},
          "execution_count": 10
        }
      ]
    },
    {
      "cell_type": "code",
      "source": [
        "#getting values of occupation other thn 'O'\n",
        "df1=df[df['occupation']!='O']"
      ],
      "metadata": {
        "id": "n1JUx37-BTbC"
      },
      "execution_count": 11,
      "outputs": []
    },
    {
      "cell_type": "code",
      "source": [
        "#finding top 10 occupation\n",
        "df2=df1['occupation'].value_counts().head(10).reset_index().sort_values(by='occupation',ascending=False)\n",
        "df2"
      ],
      "metadata": {
        "colab": {
          "base_uri": "https://localhost:8080/",
          "height": 363
        },
        "id": "IWNsahjmB2Jk",
        "outputId": "f977480e-8b74-44f4-9ddb-2b93fadab4d4"
      },
      "execution_count": 12,
      "outputs": [
        {
          "output_type": "execute_result",
          "data": {
            "text/plain": [
              "            index  occupation\n",
              "0          writer          99\n",
              "1          author          74\n",
              "2      journalist          68\n",
              "3          artist          67\n",
              "4    entrepreneur          61\n",
              "5        designer          56\n",
              "6  neuroscientist          47\n",
              "7       architect          46\n",
              "8        inventor          41\n",
              "9    psychologist          38"
            ],
            "text/html": [
              "\n",
              "  <div id=\"df-17edfd1c-6849-41ba-9906-b688ba83f376\">\n",
              "    <div class=\"colab-df-container\">\n",
              "      <div>\n",
              "<style scoped>\n",
              "    .dataframe tbody tr th:only-of-type {\n",
              "        vertical-align: middle;\n",
              "    }\n",
              "\n",
              "    .dataframe tbody tr th {\n",
              "        vertical-align: top;\n",
              "    }\n",
              "\n",
              "    .dataframe thead th {\n",
              "        text-align: right;\n",
              "    }\n",
              "</style>\n",
              "<table border=\"1\" class=\"dataframe\">\n",
              "  <thead>\n",
              "    <tr style=\"text-align: right;\">\n",
              "      <th></th>\n",
              "      <th>index</th>\n",
              "      <th>occupation</th>\n",
              "    </tr>\n",
              "  </thead>\n",
              "  <tbody>\n",
              "    <tr>\n",
              "      <th>0</th>\n",
              "      <td>writer</td>\n",
              "      <td>99</td>\n",
              "    </tr>\n",
              "    <tr>\n",
              "      <th>1</th>\n",
              "      <td>author</td>\n",
              "      <td>74</td>\n",
              "    </tr>\n",
              "    <tr>\n",
              "      <th>2</th>\n",
              "      <td>journalist</td>\n",
              "      <td>68</td>\n",
              "    </tr>\n",
              "    <tr>\n",
              "      <th>3</th>\n",
              "      <td>artist</td>\n",
              "      <td>67</td>\n",
              "    </tr>\n",
              "    <tr>\n",
              "      <th>4</th>\n",
              "      <td>entrepreneur</td>\n",
              "      <td>61</td>\n",
              "    </tr>\n",
              "    <tr>\n",
              "      <th>5</th>\n",
              "      <td>designer</td>\n",
              "      <td>56</td>\n",
              "    </tr>\n",
              "    <tr>\n",
              "      <th>6</th>\n",
              "      <td>neuroscientist</td>\n",
              "      <td>47</td>\n",
              "    </tr>\n",
              "    <tr>\n",
              "      <th>7</th>\n",
              "      <td>architect</td>\n",
              "      <td>46</td>\n",
              "    </tr>\n",
              "    <tr>\n",
              "      <th>8</th>\n",
              "      <td>inventor</td>\n",
              "      <td>41</td>\n",
              "    </tr>\n",
              "    <tr>\n",
              "      <th>9</th>\n",
              "      <td>psychologist</td>\n",
              "      <td>38</td>\n",
              "    </tr>\n",
              "  </tbody>\n",
              "</table>\n",
              "</div>\n",
              "      <button class=\"colab-df-convert\" onclick=\"convertToInteractive('df-17edfd1c-6849-41ba-9906-b688ba83f376')\"\n",
              "              title=\"Convert this dataframe to an interactive table.\"\n",
              "              style=\"display:none;\">\n",
              "        \n",
              "  <svg xmlns=\"http://www.w3.org/2000/svg\" height=\"24px\"viewBox=\"0 0 24 24\"\n",
              "       width=\"24px\">\n",
              "    <path d=\"M0 0h24v24H0V0z\" fill=\"none\"/>\n",
              "    <path d=\"M18.56 5.44l.94 2.06.94-2.06 2.06-.94-2.06-.94-.94-2.06-.94 2.06-2.06.94zm-11 1L8.5 8.5l.94-2.06 2.06-.94-2.06-.94L8.5 2.5l-.94 2.06-2.06.94zm10 10l.94 2.06.94-2.06 2.06-.94-2.06-.94-.94-2.06-.94 2.06-2.06.94z\"/><path d=\"M17.41 7.96l-1.37-1.37c-.4-.4-.92-.59-1.43-.59-.52 0-1.04.2-1.43.59L10.3 9.45l-7.72 7.72c-.78.78-.78 2.05 0 2.83L4 21.41c.39.39.9.59 1.41.59.51 0 1.02-.2 1.41-.59l7.78-7.78 2.81-2.81c.8-.78.8-2.07 0-2.86zM5.41 20L4 18.59l7.72-7.72 1.47 1.35L5.41 20z\"/>\n",
              "  </svg>\n",
              "      </button>\n",
              "      \n",
              "  <style>\n",
              "    .colab-df-container {\n",
              "      display:flex;\n",
              "      flex-wrap:wrap;\n",
              "      gap: 12px;\n",
              "    }\n",
              "\n",
              "    .colab-df-convert {\n",
              "      background-color: #E8F0FE;\n",
              "      border: none;\n",
              "      border-radius: 50%;\n",
              "      cursor: pointer;\n",
              "      display: none;\n",
              "      fill: #1967D2;\n",
              "      height: 32px;\n",
              "      padding: 0 0 0 0;\n",
              "      width: 32px;\n",
              "    }\n",
              "\n",
              "    .colab-df-convert:hover {\n",
              "      background-color: #E2EBFA;\n",
              "      box-shadow: 0px 1px 2px rgba(60, 64, 67, 0.3), 0px 1px 3px 1px rgba(60, 64, 67, 0.15);\n",
              "      fill: #174EA6;\n",
              "    }\n",
              "\n",
              "    [theme=dark] .colab-df-convert {\n",
              "      background-color: #3B4455;\n",
              "      fill: #D2E3FC;\n",
              "    }\n",
              "\n",
              "    [theme=dark] .colab-df-convert:hover {\n",
              "      background-color: #434B5C;\n",
              "      box-shadow: 0px 1px 3px 1px rgba(0, 0, 0, 0.15);\n",
              "      filter: drop-shadow(0px 1px 2px rgba(0, 0, 0, 0.3));\n",
              "      fill: #FFFFFF;\n",
              "    }\n",
              "  </style>\n",
              "\n",
              "      <script>\n",
              "        const buttonEl =\n",
              "          document.querySelector('#df-17edfd1c-6849-41ba-9906-b688ba83f376 button.colab-df-convert');\n",
              "        buttonEl.style.display =\n",
              "          google.colab.kernel.accessAllowed ? 'block' : 'none';\n",
              "\n",
              "        async function convertToInteractive(key) {\n",
              "          const element = document.querySelector('#df-17edfd1c-6849-41ba-9906-b688ba83f376');\n",
              "          const dataTable =\n",
              "            await google.colab.kernel.invokeFunction('convertToInteractive',\n",
              "                                                     [key], {});\n",
              "          if (!dataTable) return;\n",
              "\n",
              "          const docLinkHtml = 'Like what you see? Visit the ' +\n",
              "            '<a target=\"_blank\" href=https://colab.research.google.com/notebooks/data_table.ipynb>data table notebook</a>'\n",
              "            + ' to learn more about interactive tables.';\n",
              "          element.innerHTML = '';\n",
              "          dataTable['output_type'] = 'display_data';\n",
              "          await google.colab.output.renderOutput(dataTable, element);\n",
              "          const docLink = document.createElement('div');\n",
              "          docLink.innerHTML = docLinkHtml;\n",
              "          element.appendChild(docLink);\n",
              "        }\n",
              "      </script>\n",
              "    </div>\n",
              "  </div>\n",
              "  "
            ]
          },
          "metadata": {},
          "execution_count": 12
        }
      ]
    },
    {
      "cell_type": "code",
      "source": [
        "#plotting top 10 occupation\n",
        "plt.figure(figsize=(14,6))\n",
        "sns.barplot(x='index',y='occupation', data=df2)\n",
        "plt.title('Top 10 Occupation')\n",
        "plt.xlabel('Occupation')\n",
        "plt.ylabel('')"
      ],
      "metadata": {
        "colab": {
          "base_uri": "https://localhost:8080/",
          "height": 421
        },
        "id": "0OsCGrzhB-Qj",
        "outputId": "de9da7b9-72bf-46e7-bdde-9cd5835e440c"
      },
      "execution_count": 13,
      "outputs": [
        {
          "output_type": "execute_result",
          "data": {
            "text/plain": [
              "Text(0, 0.5, '')"
            ]
          },
          "metadata": {},
          "execution_count": 13
        },
        {
          "output_type": "display_data",
          "data": {
            "text/plain": [
              "<Figure size 1008x432 with 1 Axes>"
            ],
            "image/png": "[encoded data removed]"
          },
          "metadata": {
            "needs_background": "light"
          }
        }
      ]
    },
    {
      "cell_type": "markdown",
      "source": [
        "* **Most of the speakers are writer followed by author and journalist**"
      ],
      "metadata": {
        "id": "JlxavK5UEgcf"
      }
    },
    {
      "cell_type": "markdown",
      "source": [
        "##**Let's find top 5 most watched video**"
      ],
      "metadata": {
        "id": "llglLxcmXJYO"
      }
    },
    {
      "cell_type": "code",
      "source": [
        "#top 5 most viewed videos\n",
        "popular_df=df[['speaker_1','views']].sort_values('views',ascending=False).head()\n",
        "popular_df"
      ],
      "metadata": {
        "colab": {
          "base_uri": "https://localhost:8080/",
          "height": 206
        },
        "id": "9Vt0FJEHW_42",
        "outputId": "7650025f-ec3b-4393-ec06-0a4495561b68"
      },
      "execution_count": 14,
      "outputs": [
        {
          "output_type": "execute_result",
          "data": {
            "text/plain": [
              "             speaker_1     views\n",
              "4     Sir Ken Robinson  65051954\n",
              "1296         Amy Cuddy  57074270\n",
              "2062      James Veitch  56932551\n",
              "646        Simon Sinek  49730580\n",
              "796        Brené Brown  47544833"
            ],
            "text/html": [
              "\n",
              "  <div id=\"df-ac498574-2e5a-443b-99fc-d398c356f9d3\">\n",
              "    <div class=\"colab-df-container\">\n",
              "      <div>\n",
              "<style scoped>\n",
              "    .dataframe tbody tr th:only-of-type {\n",
              "        vertical-align: middle;\n",
              "    }\n",
              "\n",
              "    .dataframe tbody tr th {\n",
              "        vertical-align: top;\n",
              "    }\n",
              "\n",
              "    .dataframe thead th {\n",
              "        text-align: right;\n",
              "    }\n",
              "</style>\n",
              "<table border=\"1\" class=\"dataframe\">\n",
              "  <thead>\n",
              "    <tr style=\"text-align: right;\">\n",
              "      <th></th>\n",
              "      <th>speaker_1</th>\n",
              "      <th>views</th>\n",
              "    </tr>\n",
              "  </thead>\n",
              "  <tbody>\n",
              "    <tr>\n",
              "      <th>4</th>\n",
              "      <td>Sir Ken Robinson</td>\n",
              "      <td>65051954</td>\n",
              "    </tr>\n",
              "    <tr>\n",
              "      <th>1296</th>\n",
              "      <td>Amy Cuddy</td>\n",
              "      <td>57074270</td>\n",
              "    </tr>\n",
              "    <tr>\n",
              "      <th>2062</th>\n",
              "      <td>James Veitch</td>\n",
              "      <td>56932551</td>\n",
              "    </tr>\n",
              "    <tr>\n",
              "      <th>646</th>\n",
              "      <td>Simon Sinek</td>\n",
              "      <td>49730580</td>\n",
              "    </tr>\n",
              "    <tr>\n",
              "      <th>796</th>\n",
              "      <td>Brené Brown</td>\n",
              "      <td>47544833</td>\n",
              "    </tr>\n",
              "  </tbody>\n",
              "</table>\n",
              "</div>\n",
              "      <button class=\"colab-df-convert\" onclick=\"convertToInteractive('df-ac498574-2e5a-443b-99fc-d398c356f9d3')\"\n",
              "              title=\"Convert this dataframe to an interactive table.\"\n",
              "              style=\"display:none;\">\n",
              "        \n",
              "  <svg xmlns=\"http://www.w3.org/2000/svg\" height=\"24px\"viewBox=\"0 0 24 24\"\n",
              "       width=\"24px\">\n",
              "    <path d=\"M0 0h24v24H0V0z\" fill=\"none\"/>\n",
              "    <path d=\"M18.56 5.44l.94 2.06.94-2.06 2.06-.94-2.06-.94-.94-2.06-.94 2.06-2.06.94zm-11 1L8.5 8.5l.94-2.06 2.06-.94-2.06-.94L8.5 2.5l-.94 2.06-2.06.94zm10 10l.94 2.06.94-2.06 2.06-.94-2.06-.94-.94-2.06-.94 2.06-2.06.94z\"/><path d=\"M17.41 7.96l-1.37-1.37c-.4-.4-.92-.59-1.43-.59-.52 0-1.04.2-1.43.59L10.3 9.45l-7.72 7.72c-.78.78-.78 2.05 0 2.83L4 21.41c.39.39.9.59 1.41.59.51 0 1.02-.2 1.41-.59l7.78-7.78 2.81-2.81c.8-.78.8-2.07 0-2.86zM5.41 20L4 18.59l7.72-7.72 1.47 1.35L5.41 20z\"/>\n",
              "  </svg>\n",
              "      </button>\n",
              "      \n",
              "  <style>\n",
              "    .colab-df-container {\n",
              "      display:flex;\n",
              "      flex-wrap:wrap;\n",
              "      gap: 12px;\n",
              "    }\n",
              "\n",
              "    .colab-df-convert {\n",
              "      background-color: #E8F0FE;\n",
              "      border: none;\n",
              "      border-radius: 50%;\n",
              "      cursor: pointer;\n",
              "      display: none;\n",
              "      fill: #1967D2;\n",
              "      height: 32px;\n",
              "      padding: 0 0 0 0;\n",
              "      width: 32px;\n",
              "    }\n",
              "\n",
              "    .colab-df-convert:hover {\n",
              "      background-color: #E2EBFA;\n",
              "      box-shadow: 0px 1px 2px rgba(60, 64, 67, 0.3), 0px 1px 3px 1px rgba(60, 64, 67, 0.15);\n",
              "      fill: #174EA6;\n",
              "    }\n",
              "\n",
              "    [theme=dark] .colab-df-convert {\n",
              "      background-color: #3B4455;\n",
              "      fill: #D2E3FC;\n",
              "    }\n",
              "\n",
              "    [theme=dark] .colab-df-convert:hover {\n",
              "      background-color: #434B5C;\n",
              "      box-shadow: 0px 1px 3px 1px rgba(0, 0, 0, 0.15);\n",
              "      filter: drop-shadow(0px 1px 2px rgba(0, 0, 0, 0.3));\n",
              "      fill: #FFFFFF;\n",
              "    }\n",
              "  </style>\n",
              "\n",
              "      <script>\n",
              "        const buttonEl =\n",
              "          document.querySelector('#df-ac498574-2e5a-443b-99fc-d398c356f9d3 button.colab-df-convert');\n",
              "        buttonEl.style.display =\n",
              "          google.colab.kernel.accessAllowed ? 'block' : 'none';\n",
              "\n",
              "        async function convertToInteractive(key) {\n",
              "          const element = document.querySelector('#df-ac498574-2e5a-443b-99fc-d398c356f9d3');\n",
              "          const dataTable =\n",
              "            await google.colab.kernel.invokeFunction('convertToInteractive',\n",
              "                                                     [key], {});\n",
              "          if (!dataTable) return;\n",
              "\n",
              "          const docLinkHtml = 'Like what you see? Visit the ' +\n",
              "            '<a target=\"_blank\" href=https://colab.research.google.com/notebooks/data_table.ipynb>data table notebook</a>'\n",
              "            + ' to learn more about interactive tables.';\n",
              "          element.innerHTML = '';\n",
              "          dataTable['output_type'] = 'display_data';\n",
              "          await google.colab.output.renderOutput(dataTable, element);\n",
              "          const docLink = document.createElement('div');\n",
              "          docLink.innerHTML = docLinkHtml;\n",
              "          element.appendChild(docLink);\n",
              "        }\n",
              "      </script>\n",
              "    </div>\n",
              "  </div>\n",
              "  "
            ]
          },
          "metadata": {},
          "execution_count": 14
        }
      ]
    },
    {
      "cell_type": "code",
      "source": [
        "#finding Speaker's of most popular video\n",
        "plt.figure(figsize=(10,6))\n",
        "plt.title(\"top 5 most watched video and itsspeaker\")\n",
        "sns.barplot(x='speaker_1',y='views',data=popular_df)"
      ],
      "metadata": {
        "colab": {
          "base_uri": "https://localhost:8080/",
          "height": 422
        },
        "id": "6N3EHOa4Xffu",
        "outputId": "c7f1a89a-745c-4366-9b76-4331cda6f865"
      },
      "execution_count": 15,
      "outputs": [
        {
          "output_type": "execute_result",
          "data": {
            "text/plain": [
              "<matplotlib.axes._subplots.AxesSubplot at 0x7f15d728ee50>"
            ]
          },
          "metadata": {},
          "execution_count": 15
        },
        {
          "output_type": "display_data",
          "data": {
            "text/plain": [
              "<Figure size 720x432 with 1 Axes>"
            ],
            "image/png": "[encoded data removed]"
          },
          "metadata": {
            "needs_background": "light"
          }
        }
      ]
    },
    {
      "cell_type": "markdown",
      "source": [
        "* **Sir Ken Robinson's talk is the most popular TED Talk of with more than 65 million views.**\n",
        "* **It is only talk that has crossed 60 million views**"
      ],
      "metadata": {
        "id": "DqM4w-c6X2ry"
      }
    },
    {
      "cell_type": "markdown",
      "source": [
        "**Most popular speaker**"
      ],
      "metadata": {
        "id": "X83AMzHrYCao"
      }
    },
    {
      "cell_type": "code",
      "source": [
        "#finding speaker from the dataset with maximum number of views\n",
        "popular_speaker_df=df.groupby('speaker_1').sum()['views'].reset_index().sort_values('views',ascending=False).head(10)\n",
        "popular_speaker_df"
      ],
      "metadata": {
        "colab": {
          "base_uri": "https://localhost:8080/",
          "height": 363
        },
        "id": "5LVAlD4_XqYx",
        "outputId": "66c4987d-c5ec-4e67-b428-3d3cf965173a"
      },
      "execution_count": 16,
      "outputs": [
        {
          "output_type": "execute_result",
          "data": {
            "text/plain": [
              "             speaker_1      views\n",
              "104       Alex Gendler  117619583\n",
              "2881  Sir Ken Robinson   84380518\n",
              "1382      James Veitch   78843641\n",
              "2875       Simon Sinek   62661183\n",
              "441        Brené Brown   61285977\n",
              "404         Bill Gates   57107176\n",
              "173          Amy Cuddy   57074270\n",
              "1655   Julian Treasure   54799681\n",
              "1231      Hans Rosling   39871561\n",
              "3085         Tim Urban   37976820"
            ],
            "text/html": [
              "\n",
              "  <div id=\"df-67065e32-ad03-474a-909c-843f1429faea\">\n",
              "    <div class=\"colab-df-container\">\n",
              "      <div>\n",
              "<style scoped>\n",
              "    .dataframe tbody tr th:only-of-type {\n",
              "        vertical-align: middle;\n",
              "    }\n",
              "\n",
              "    .dataframe tbody tr th {\n",
              "        vertical-align: top;\n",
              "    }\n",
              "\n",
              "    .dataframe thead th {\n",
              "        text-align: right;\n",
              "    }\n",
              "</style>\n",
              "<table border=\"1\" class=\"dataframe\">\n",
              "  <thead>\n",
              "    <tr style=\"text-align: right;\">\n",
              "      <th></th>\n",
              "      <th>speaker_1</th>\n",
              "      <th>views</th>\n",
              "    </tr>\n",
              "  </thead>\n",
              "  <tbody>\n",
              "    <tr>\n",
              "      <th>104</th>\n",
              "      <td>Alex Gendler</td>\n",
              "      <td>117619583</td>\n",
              "    </tr>\n",
              "    <tr>\n",
              "      <th>2881</th>\n",
              "      <td>Sir Ken Robinson</td>\n",
              "      <td>84380518</td>\n",
              "    </tr>\n",
              "    <tr>\n",
              "      <th>1382</th>\n",
              "      <td>James Veitch</td>\n",
              "      <td>78843641</td>\n",
              "    </tr>\n",
              "    <tr>\n",
              "      <th>2875</th>\n",
              "      <td>Simon Sinek</td>\n",
              "      <td>62661183</td>\n",
              "    </tr>\n",
              "    <tr>\n",
              "      <th>441</th>\n",
              "      <td>Brené Brown</td>\n",
              "      <td>61285977</td>\n",
              "    </tr>\n",
              "    <tr>\n",
              "      <th>404</th>\n",
              "      <td>Bill Gates</td>\n",
              "      <td>57107176</td>\n",
              "    </tr>\n",
              "    <tr>\n",
              "      <th>173</th>\n",
              "      <td>Amy Cuddy</td>\n",
              "      <td>57074270</td>\n",
              "    </tr>\n",
              "    <tr>\n",
              "      <th>1655</th>\n",
              "      <td>Julian Treasure</td>\n",
              "      <td>54799681</td>\n",
              "    </tr>\n",
              "    <tr>\n",
              "      <th>1231</th>\n",
              "      <td>Hans Rosling</td>\n",
              "      <td>39871561</td>\n",
              "    </tr>\n",
              "    <tr>\n",
              "      <th>3085</th>\n",
              "      <td>Tim Urban</td>\n",
              "      <td>37976820</td>\n",
              "    </tr>\n",
              "  </tbody>\n",
              "</table>\n",
              "</div>\n",
              "      <button class=\"colab-df-convert\" onclick=\"convertToInteractive('df-67065e32-ad03-474a-909c-843f1429faea')\"\n",
              "              title=\"Convert this dataframe to an interactive table.\"\n",
              "              style=\"display:none;\">\n",
              "        \n",
              "  <svg xmlns=\"http://www.w3.org/2000/svg\" height=\"24px\"viewBox=\"0 0 24 24\"\n",
              "       width=\"24px\">\n",
              "    <path d=\"M0 0h24v24H0V0z\" fill=\"none\"/>\n",
              "    <path d=\"M18.56 5.44l.94 2.06.94-2.06 2.06-.94-2.06-.94-.94-2.06-.94 2.06-2.06.94zm-11 1L8.5 8.5l.94-2.06 2.06-.94-2.06-.94L8.5 2.5l-.94 2.06-2.06.94zm10 10l.94 2.06.94-2.06 2.06-.94-2.06-.94-.94-2.06-.94 2.06-2.06.94z\"/><path d=\"M17.41 7.96l-1.37-1.37c-.4-.4-.92-.59-1.43-.59-.52 0-1.04.2-1.43.59L10.3 9.45l-7.72 7.72c-.78.78-.78 2.05 0 2.83L4 21.41c.39.39.9.59 1.41.59.51 0 1.02-.2 1.41-.59l7.78-7.78 2.81-2.81c.8-.78.8-2.07 0-2.86zM5.41 20L4 18.59l7.72-7.72 1.47 1.35L5.41 20z\"/>\n",
              "  </svg>\n",
              "      </button>\n",
              "      \n",
              "  <style>\n",
              "    .colab-df-container {\n",
              "      display:flex;\n",
              "      flex-wrap:wrap;\n",
              "      gap: 12px;\n",
              "    }\n",
              "\n",
              "    .colab-df-convert {\n",
              "      background-color: #E8F0FE;\n",
              "      border: none;\n",
              "      border-radius: 50%;\n",
              "      cursor: pointer;\n",
              "      display: none;\n",
              "      fill: #1967D2;\n",
              "      height: 32px;\n",
              "      padding: 0 0 0 0;\n",
              "      width: 32px;\n",
              "    }\n",
              "\n",
              "    .colab-df-convert:hover {\n",
              "      background-color: #E2EBFA;\n",
              "      box-shadow: 0px 1px 2px rgba(60, 64, 67, 0.3), 0px 1px 3px 1px rgba(60, 64, 67, 0.15);\n",
              "      fill: #174EA6;\n",
              "    }\n",
              "\n",
              "    [theme=dark] .colab-df-convert {\n",
              "      background-color: #3B4455;\n",
              "      fill: #D2E3FC;\n",
              "    }\n",
              "\n",
              "    [theme=dark] .colab-df-convert:hover {\n",
              "      background-color: #434B5C;\n",
              "      box-shadow: 0px 1px 3px 1px rgba(0, 0, 0, 0.15);\n",
              "      filter: drop-shadow(0px 1px 2px rgba(0, 0, 0, 0.3));\n",
              "      fill: #FFFFFF;\n",
              "    }\n",
              "  </style>\n",
              "\n",
              "      <script>\n",
              "        const buttonEl =\n",
              "          document.querySelector('#df-67065e32-ad03-474a-909c-843f1429faea button.colab-df-convert');\n",
              "        buttonEl.style.display =\n",
              "          google.colab.kernel.accessAllowed ? 'block' : 'none';\n",
              "\n",
              "        async function convertToInteractive(key) {\n",
              "          const element = document.querySelector('#df-67065e32-ad03-474a-909c-843f1429faea');\n",
              "          const dataTable =\n",
              "            await google.colab.kernel.invokeFunction('convertToInteractive',\n",
              "                                                     [key], {});\n",
              "          if (!dataTable) return;\n",
              "\n",
              "          const docLinkHtml = 'Like what you see? Visit the ' +\n",
              "            '<a target=\"_blank\" href=https://colab.research.google.com/notebooks/data_table.ipynb>data table notebook</a>'\n",
              "            + ' to learn more about interactive tables.';\n",
              "          element.innerHTML = '';\n",
              "          dataTable['output_type'] = 'display_data';\n",
              "          await google.colab.output.renderOutput(dataTable, element);\n",
              "          const docLink = document.createElement('div');\n",
              "          docLink.innerHTML = docLinkHtml;\n",
              "          element.appendChild(docLink);\n",
              "        }\n",
              "      </script>\n",
              "    </div>\n",
              "  </div>\n",
              "  "
            ]
          },
          "metadata": {},
          "execution_count": 16
        }
      ]
    },
    {
      "cell_type": "code",
      "source": [
        "#printing most popular Speaker on the basis of total views on their talks\n",
        "plt.figure(figsize=(20,6))\n",
        "plt.title('Top 10 Speaker according to total views on their talks')\n",
        "sns.barplot(x='speaker_1',y='views',data=popular_speaker_df)"
      ],
      "metadata": {
        "colab": {
          "base_uri": "https://localhost:8080/",
          "height": 422
        },
        "id": "3HfNLvFlYRwJ",
        "outputId": "69f76678-b89f-4703-adcc-733a5240414b"
      },
      "execution_count": 17,
      "outputs": [
        {
          "output_type": "execute_result",
          "data": {
            "text/plain": [
              "<matplotlib.axes._subplots.AxesSubplot at 0x7f15d6fc2250>"
            ]
          },
          "metadata": {},
          "execution_count": 17
        },
        {
          "output_type": "display_data",
          "data": {
            "text/plain": [
              "<Figure size 1440x432 with 1 Axes>"
            ],
            "image/png": "[encoded data removed]"
          },
          "metadata": {
            "needs_background": "light"
          }
        }
      ]
    },
    {
      "cell_type": "markdown",
      "source": [
        "* **Alex Gendler is the most popular speaker followed by Sir Ken Robinson**"
      ],
      "metadata": {
        "id": "exbhvladY3Hm"
      }
    },
    {
      "cell_type": "markdown",
      "source": [
        "## **Analysis on native_lang column**"
      ],
      "metadata": {
        "id": "_WzslmISbHB2"
      }
    },
    {
      "cell_type": "code",
      "source": [
        "#printing the value counts of native_lang column\n",
        "df.native_lang.value_counts()"
      ],
      "metadata": {
        "colab": {
          "base_uri": "https://localhost:8080/"
        },
        "id": "-ZjdVC7ja8JP",
        "outputId": "c1b60f83-4891-4432-8be8-faff168a72ac"
      },
      "execution_count": 18,
      "outputs": [
        {
          "output_type": "execute_result",
          "data": {
            "text/plain": [
              "en       3957\n",
              "es         27\n",
              "fr          9\n",
              "ja          3\n",
              "hi          2\n",
              "de          1\n",
              "pt          1\n",
              "ko          1\n",
              "zh-cn       1\n",
              "ar          1\n",
              "pt-br       1\n",
              "it          1\n",
              "Name: native_lang, dtype: int64"
            ]
          },
          "metadata": {},
          "execution_count": 18
        }
      ]
    },
    {
      "cell_type": "code",
      "source": [
        "#plotting the countplot of native_lang column\n",
        "plt.title('Native language')\n",
        "sns.countplot(df['native_lang'])"
      ],
      "metadata": {
        "colab": {
          "base_uri": "https://localhost:8080/",
          "height": 368
        },
        "id": "NK56dsgvbMuH",
        "outputId": "f1431174-6db0-4a44-b29d-7d3a1c16cc18"
      },
      "execution_count": 19,
      "outputs": [
        {
          "output_type": "stream",
          "name": "stderr",
          "text": [
            "/usr/local/lib/python3.7/dist-packages/seaborn/_decorators.py:43: FutureWarning: Pass the following variable as a keyword arg: x. From version 0.12, the only valid positional argument will be `data`, and passing other arguments without an explicit keyword will result in an error or misinterpretation.\n",
            "  FutureWarning\n"
          ]
        },
        {
          "output_type": "execute_result",
          "data": {
            "text/plain": [
              "<matplotlib.axes._subplots.AxesSubplot at 0x7f15d6eda890>"
            ]
          },
          "metadata": {},
          "execution_count": 19
        },
        {
          "output_type": "display_data",
          "data": {
            "text/plain": [
              "<Figure size 432x288 with 1 Axes>"
            ],
            "image/png": "[encoded data removed]"
          },
          "metadata": {
            "needs_background": "light"
          }
        }
      ]
    },
    {
      "cell_type": "markdown",
      "source": [
        "* **Here, approx 99% values in native_lang column is en.**\n",
        "* **So, this column will not impact much and of no use to us and we can simply remove it.**"
      ],
      "metadata": {
        "id": "c-c1E3m9bSQb"
      }
    },
    {
      "cell_type": "code",
      "source": [
        "#Dropping the native_lang column\n",
        "df.drop(columns='native_lang',inplace=True)"
      ],
      "metadata": {
        "id": "ZEXJgCmCbfFT"
      },
      "execution_count": 20,
      "outputs": []
    },
    {
      "cell_type": "markdown",
      "source": [
        "## **Analysis on published_date column**"
      ],
      "metadata": {
        "id": "OGcjDL_6Yw8o"
      }
    },
    {
      "cell_type": "code",
      "source": [
        "#applying strptime on published_date column\n",
        "import datetime\n",
        "df['published_date'] = df['published_date'].apply(lambda x: datetime.datetime.strptime(x,\"%Y-%m-%d\"))"
      ],
      "metadata": {
        "id": "N3fItvtqk4a0"
      },
      "execution_count": 21,
      "outputs": []
    },
    {
      "cell_type": "code",
      "source": [
        "#extracting release day, month and year from the published date column\n",
        "df['release_day'] = df['published_date'].apply(lambda x: x.weekday())\n",
        "df['release_month']=df['published_date'].apply(lambda x: x.month)\n",
        "df['release_year'] = df['published_date'].apply(lambda x: x.year)"
      ],
      "metadata": {
        "id": "iSNmFjf2Y8uA"
      },
      "execution_count": 22,
      "outputs": []
    },
    {
      "cell_type": "markdown",
      "source": [
        "**Extracted weekday, month and year from published_date column and added three separate columns as:**\n",
        "\n",
        "* **release_day**\n",
        "* **release_month**\n",
        "* **release_year** "
      ],
      "metadata": {
        "id": "elZhIgwSZF7z"
      }
    },
    {
      "cell_type": "code",
      "source": [
        "df.head()"
      ],
      "metadata": {
        "colab": {
          "base_uri": "https://localhost:8080/",
          "height": 664
        },
        "id": "RIbyfD7NZC5E",
        "outputId": "12d0e59e-0c40-4f5c-ec89-8b5b07a675ef"
      },
      "execution_count": 23,
      "outputs": [
        {
          "output_type": "execute_result",
          "data": {
            "text/plain": [
              "   talk_id                            title         speaker_1  \\\n",
              "0        1      Averting the climate crisis           Al Gore   \n",
              "1       92  The best stats you've ever seen      Hans Rosling   \n",
              "2        7                 Simplicity sells       David Pogue   \n",
              "3       53              Greening the ghetto     Majora Carter   \n",
              "4       66      Do schools kill creativity?  Sir Ken Robinson   \n",
              "\n",
              "              all_speakers                                    occupations  \\\n",
              "0           {0: 'Al Gore'}                      {0: ['climate advocate']}   \n",
              "1      {0: 'Hans Rosling'}  {0: ['global health expert; data visionary']}   \n",
              "2       {0: 'David Pogue'}                  {0: ['technology columnist']}   \n",
              "3     {0: 'Majora Carter'}    {0: ['activist for environmental justice']}   \n",
              "4  {0: 'Sir Ken Robinson'}                    {0: ['author', 'educator']}   \n",
              "\n",
              "                                      about_speakers     views recorded_date  \\\n",
              "0  {0: 'Nobel Laureate Al Gore focused the world’...   3523392    2006-02-25   \n",
              "1  {0: 'In Hans Rosling’s hands, data sings. Glob...  14501685    2006-02-22   \n",
              "2  {0: 'David Pogue is the personal technology co...   1920832    2006-02-24   \n",
              "3  {0: 'Majora Carter redefined the field of envi...   2664069    2006-02-26   \n",
              "4  {0: \"Creativity expert Sir Ken Robinson challe...  65051954    2006-02-25   \n",
              "\n",
              "  published_date    event  ... duration  \\\n",
              "0     2006-06-27  TED2006  ...      977   \n",
              "1     2006-06-27  TED2006  ...     1190   \n",
              "2     2006-06-27  TED2006  ...     1286   \n",
              "3     2006-06-27  TED2006  ...     1116   \n",
              "4     2006-06-27  TED2006  ...     1164   \n",
              "\n",
              "                                              topics  \\\n",
              "0  ['alternative energy', 'cars', 'climate change...   \n",
              "1  ['Africa', 'Asia', 'Google', 'demo', 'economic...   \n",
              "2  ['computers', 'entertainment', 'interface desi...   \n",
              "3  ['MacArthur grant', 'activism', 'business', 'c...   \n",
              "4  ['children', 'creativity', 'culture', 'dance',...   \n",
              "\n",
              "                                       related_talks  \\\n",
              "0  {243: 'New thinking on the climate crisis', 54...   \n",
              "1  {2056: \"Own your body's data\", 2296: 'A visual...   \n",
              "2  {1725: '10 top time-saving tech tips', 2274: '...   \n",
              "3  {1041: '3 stories of local eco-entrepreneurshi...   \n",
              "4  {865: 'Bring on the learning revolution!', 173...   \n",
              "\n",
              "                                                 url  \\\n",
              "0  https://www.ted.com/talks/al_gore_averting_the...   \n",
              "1  https://www.ted.com/talks/hans_rosling_the_bes...   \n",
              "2  https://www.ted.com/talks/david_pogue_simplici...   \n",
              "3  https://www.ted.com/talks/majora_carter_greeni...   \n",
              "4  https://www.ted.com/talks/sir_ken_robinson_do_...   \n",
              "\n",
              "                                         description  \\\n",
              "0  With the same humor and humanity he exuded in ...   \n",
              "1  You've never seen data presented like this. Wi...   \n",
              "2  New York Times columnist David Pogue takes aim...   \n",
              "3  In an emotionally charged talk, MacArthur-winn...   \n",
              "4  Sir Ken Robinson makes an entertaining and pro...   \n",
              "\n",
              "                                          transcript  \\\n",
              "0  Thank you so much, Chris. And it's truly a gre...   \n",
              "1  About 10 years ago, I took on the task to teac...   \n",
              "2  (Music: \"The Sound of Silence,\" Simon & Garfun...   \n",
              "3  If you're here today — and I'm very happy that...   \n",
              "4  Good morning. How are you? (Audience) Good. It...   \n",
              "\n",
              "                             occupation release_day release_month  \\\n",
              "0                      climate advocate           1             6   \n",
              "1  global health expert; data visionary           1             6   \n",
              "2                  technology columnist           1             6   \n",
              "3    activist for environmental justice           1             6   \n",
              "4                                author           1             6   \n",
              "\n",
              "   release_year  \n",
              "0          2006  \n",
              "1          2006  \n",
              "2          2006  \n",
              "3          2006  \n",
              "4          2006  \n",
              "\n",
              "[5 rows x 22 columns]"
            ],
            "text/html": [
              "\n",
              "  <div id=\"df-449c040a-2d08-4b0a-9662-d0ec2d4fcb92\">\n",
              "    <div class=\"colab-df-container\">\n",
              "      <div>\n",
              "<style scoped>\n",
              "    .dataframe tbody tr th:only-of-type {\n",
              "        vertical-align: middle;\n",
              "    }\n",
              "\n",
              "    .dataframe tbody tr th {\n",
              "        vertical-align: top;\n",
              "    }\n",
              "\n",
              "    .dataframe thead th {\n",
              "        text-align: right;\n",
              "    }\n",
              "</style>\n",
              "<table border=\"1\" class=\"dataframe\">\n",
              "  <thead>\n",
              "    <tr style=\"text-align: right;\">\n",
              "      <th></th>\n",
              "      <th>talk_id</th>\n",
              "      <th>title</th>\n",
              "      <th>speaker_1</th>\n",
              "      <th>all_speakers</th>\n",
              "      <th>occupations</th>\n",
              "      <th>about_speakers</th>\n",
              "      <th>views</th>\n",
              "      <th>recorded_date</th>\n",
              "      <th>published_date</th>\n",
              "      <th>event</th>\n",
              "      <th>...</th>\n",
              "      <th>duration</th>\n",
              "      <th>topics</th>\n",
              "      <th>related_talks</th>\n",
              "      <th>url</th>\n",
              "      <th>description</th>\n",
              "      <th>transcript</th>\n",
              "      <th>occupation</th>\n",
              "      <th>release_day</th>\n",
              "      <th>release_month</th>\n",
              "      <th>release_year</th>\n",
              "    </tr>\n",
              "  </thead>\n",
              "  <tbody>\n",
              "    <tr>\n",
              "      <th>0</th>\n",
              "      <td>1</td>\n",
              "      <td>Averting the climate crisis</td>\n",
              "      <td>Al Gore</td>\n",
              "      <td>{0: 'Al Gore'}</td>\n",
              "      <td>{0: ['climate advocate']}</td>\n",
              "      <td>{0: 'Nobel Laureate Al Gore focused the world’...</td>\n",
              "      <td>3523392</td>\n",
              "      <td>2006-02-25</td>\n",
              "      <td>2006-06-27</td>\n",
              "      <td>TED2006</td>\n",
              "      <td>...</td>\n",
              "      <td>977</td>\n",
              "      <td>['alternative energy', 'cars', 'climate change...</td>\n",
              "      <td>{243: 'New thinking on the climate crisis', 54...</td>\n",
              "      <td>https://www.ted.com/talks/al_gore_averting_the...</td>\n",
              "      <td>With the same humor and humanity he exuded in ...</td>\n",
              "      <td>Thank you so much, Chris. And it's truly a gre...</td>\n",
              "      <td>climate advocate</td>\n",
              "      <td>1</td>\n",
              "      <td>6</td>\n",
              "      <td>2006</td>\n",
              "    </tr>\n",
              "    <tr>\n",
              "      <th>1</th>\n",
              "      <td>92</td>\n",
              "      <td>The best stats you've ever seen</td>\n",
              "      <td>Hans Rosling</td>\n",
              "      <td>{0: 'Hans Rosling'}</td>\n",
              "      <td>{0: ['global health expert; data visionary']}</td>\n",
              "      <td>{0: 'In Hans Rosling’s hands, data sings. Glob...</td>\n",
              "      <td>14501685</td>\n",
              "      <td>2006-02-22</td>\n",
              "      <td>2006-06-27</td>\n",
              "      <td>TED2006</td>\n",
              "      <td>...</td>\n",
              "      <td>1190</td>\n",
              "      <td>['Africa', 'Asia', 'Google', 'demo', 'economic...</td>\n",
              "      <td>{2056: \"Own your body's data\", 2296: 'A visual...</td>\n",
              "      <td>https://www.ted.com/talks/hans_rosling_the_bes...</td>\n",
              "      <td>You've never seen data presented like this. Wi...</td>\n",
              "      <td>About 10 years ago, I took on the task to teac...</td>\n",
              "      <td>global health expert; data visionary</td>\n",
              "      <td>1</td>\n",
              "      <td>6</td>\n",
              "      <td>2006</td>\n",
              "    </tr>\n",
              "    <tr>\n",
              "      <th>2</th>\n",
              "      <td>7</td>\n",
              "      <td>Simplicity sells</td>\n",
              "      <td>David Pogue</td>\n",
              "      <td>{0: 'David Pogue'}</td>\n",
              "      <td>{0: ['technology columnist']}</td>\n",
              "      <td>{0: 'David Pogue is the personal technology co...</td>\n",
              "      <td>1920832</td>\n",
              "      <td>2006-02-24</td>\n",
              "      <td>2006-06-27</td>\n",
              "      <td>TED2006</td>\n",
              "      <td>...</td>\n",
              "      <td>1286</td>\n",
              "      <td>['computers', 'entertainment', 'interface desi...</td>\n",
              "      <td>{1725: '10 top time-saving tech tips', 2274: '...</td>\n",
              "      <td>https://www.ted.com/talks/david_pogue_simplici...</td>\n",
              "      <td>New York Times columnist David Pogue takes aim...</td>\n",
              "      <td>(Music: \"The Sound of Silence,\" Simon &amp; Garfun...</td>\n",
              "      <td>technology columnist</td>\n",
              "      <td>1</td>\n",
              "      <td>6</td>\n",
              "      <td>2006</td>\n",
              "    </tr>\n",
              "    <tr>\n",
              "      <th>3</th>\n",
              "      <td>53</td>\n",
              "      <td>Greening the ghetto</td>\n",
              "      <td>Majora Carter</td>\n",
              "      <td>{0: 'Majora Carter'}</td>\n",
              "      <td>{0: ['activist for environmental justice']}</td>\n",
              "      <td>{0: 'Majora Carter redefined the field of envi...</td>\n",
              "      <td>2664069</td>\n",
              "      <td>2006-02-26</td>\n",
              "      <td>2006-06-27</td>\n",
              "      <td>TED2006</td>\n",
              "      <td>...</td>\n",
              "      <td>1116</td>\n",
              "      <td>['MacArthur grant', 'activism', 'business', 'c...</td>\n",
              "      <td>{1041: '3 stories of local eco-entrepreneurshi...</td>\n",
              "      <td>https://www.ted.com/talks/majora_carter_greeni...</td>\n",
              "      <td>In an emotionally charged talk, MacArthur-winn...</td>\n",
              "      <td>If you're here today — and I'm very happy that...</td>\n",
              "      <td>activist for environmental justice</td>\n",
              "      <td>1</td>\n",
              "      <td>6</td>\n",
              "      <td>2006</td>\n",
              "    </tr>\n",
              "    <tr>\n",
              "      <th>4</th>\n",
              "      <td>66</td>\n",
              "      <td>Do schools kill creativity?</td>\n",
              "      <td>Sir Ken Robinson</td>\n",
              "      <td>{0: 'Sir Ken Robinson'}</td>\n",
              "      <td>{0: ['author', 'educator']}</td>\n",
              "      <td>{0: \"Creativity expert Sir Ken Robinson challe...</td>\n",
              "      <td>65051954</td>\n",
              "      <td>2006-02-25</td>\n",
              "      <td>2006-06-27</td>\n",
              "      <td>TED2006</td>\n",
              "      <td>...</td>\n",
              "      <td>1164</td>\n",
              "      <td>['children', 'creativity', 'culture', 'dance',...</td>\n",
              "      <td>{865: 'Bring on the learning revolution!', 173...</td>\n",
              "      <td>https://www.ted.com/talks/sir_ken_robinson_do_...</td>\n",
              "      <td>Sir Ken Robinson makes an entertaining and pro...</td>\n",
              "      <td>Good morning. How are you? (Audience) Good. It...</td>\n",
              "      <td>author</td>\n",
              "      <td>1</td>\n",
              "      <td>6</td>\n",
              "      <td>2006</td>\n",
              "    </tr>\n",
              "  </tbody>\n",
              "</table>\n",
              "<p>5 rows × 22 columns</p>\n",
              "</div>\n",
              "      <button class=\"colab-df-convert\" onclick=\"convertToInteractive('df-449c040a-2d08-4b0a-9662-d0ec2d4fcb92')\"\n",
              "              title=\"Convert this dataframe to an interactive table.\"\n",
              "              style=\"display:none;\">\n",
              "        \n",
              "  <svg xmlns=\"http://www.w3.org/2000/svg\" height=\"24px\"viewBox=\"0 0 24 24\"\n",
              "       width=\"24px\">\n",
              "    <path d=\"M0 0h24v24H0V0z\" fill=\"none\"/>\n",
              "    <path d=\"M18.56 5.44l.94 2.06.94-2.06 2.06-.94-2.06-.94-.94-2.06-.94 2.06-2.06.94zm-11 1L8.5 8.5l.94-2.06 2.06-.94-2.06-.94L8.5 2.5l-.94 2.06-2.06.94zm10 10l.94 2.06.94-2.06 2.06-.94-2.06-.94-.94-2.06-.94 2.06-2.06.94z\"/><path d=\"M17.41 7.96l-1.37-1.37c-.4-.4-.92-.59-1.43-.59-.52 0-1.04.2-1.43.59L10.3 9.45l-7.72 7.72c-.78.78-.78 2.05 0 2.83L4 21.41c.39.39.9.59 1.41.59.51 0 1.02-.2 1.41-.59l7.78-7.78 2.81-2.81c.8-.78.8-2.07 0-2.86zM5.41 20L4 18.59l7.72-7.72 1.47 1.35L5.41 20z\"/>\n",
              "  </svg>\n",
              "      </button>\n",
              "      \n",
              "  <style>\n",
              "    .colab-df-container {\n",
              "      display:flex;\n",
              "      flex-wrap:wrap;\n",
              "      gap: 12px;\n",
              "    }\n",
              "\n",
              "    .colab-df-convert {\n",
              "      background-color: #E8F0FE;\n",
              "      border: none;\n",
              "      border-radius: 50%;\n",
              "      cursor: pointer;\n",
              "      display: none;\n",
              "      fill: #1967D2;\n",
              "      height: 32px;\n",
              "      padding: 0 0 0 0;\n",
              "      width: 32px;\n",
              "    }\n",
              "\n",
              "    .colab-df-convert:hover {\n",
              "      background-color: #E2EBFA;\n",
              "      box-shadow: 0px 1px 2px rgba(60, 64, 67, 0.3), 0px 1px 3px 1px rgba(60, 64, 67, 0.15);\n",
              "      fill: #174EA6;\n",
              "    }\n",
              "\n",
              "    [theme=dark] .colab-df-convert {\n",
              "      background-color: #3B4455;\n",
              "      fill: #D2E3FC;\n",
              "    }\n",
              "\n",
              "    [theme=dark] .colab-df-convert:hover {\n",
              "      background-color: #434B5C;\n",
              "      box-shadow: 0px 1px 3px 1px rgba(0, 0, 0, 0.15);\n",
              "      filter: drop-shadow(0px 1px 2px rgba(0, 0, 0, 0.3));\n",
              "      fill: #FFFFFF;\n",
              "    }\n",
              "  </style>\n",
              "\n",
              "      <script>\n",
              "        const buttonEl =\n",
              "          document.querySelector('#df-449c040a-2d08-4b0a-9662-d0ec2d4fcb92 button.colab-df-convert');\n",
              "        buttonEl.style.display =\n",
              "          google.colab.kernel.accessAllowed ? 'block' : 'none';\n",
              "\n",
              "        async function convertToInteractive(key) {\n",
              "          const element = document.querySelector('#df-449c040a-2d08-4b0a-9662-d0ec2d4fcb92');\n",
              "          const dataTable =\n",
              "            await google.colab.kernel.invokeFunction('convertToInteractive',\n",
              "                                                     [key], {});\n",
              "          if (!dataTable) return;\n",
              "\n",
              "          const docLinkHtml = 'Like what you see? Visit the ' +\n",
              "            '<a target=\"_blank\" href=https://colab.research.google.com/notebooks/data_table.ipynb>data table notebook</a>'\n",
              "            + ' to learn more about interactive tables.';\n",
              "          element.innerHTML = '';\n",
              "          dataTable['output_type'] = 'display_data';\n",
              "          await google.colab.output.renderOutput(dataTable, element);\n",
              "          const docLink = document.createElement('div');\n",
              "          docLink.innerHTML = docLinkHtml;\n",
              "          element.appendChild(docLink);\n",
              "        }\n",
              "      </script>\n",
              "    </div>\n",
              "  </div>\n",
              "  "
            ]
          },
          "metadata": {},
          "execution_count": 23
        }
      ]
    },
    {
      "cell_type": "code",
      "source": [
        "#encoding of release_day column with corresponding week day name\n",
        "week_day={0:'Monday',1:'Tuesday',2:'Wednesday',3:'Thursday',4:'Friday',5:'Saturday',6:'Sunday'}\n",
        "df['release_day']=df['release_day'].map(week_day)"
      ],
      "metadata": {
        "id": "FdiuXdfOZYYt"
      },
      "execution_count": 24,
      "outputs": []
    },
    {
      "cell_type": "markdown",
      "source": [
        "### **Analysis on release_day column.**\n",
        "**Checking the most frequent release day of the week.** "
      ],
      "metadata": {
        "id": "vdoXw7TIZg16"
      }
    },
    {
      "cell_type": "code",
      "source": [
        "#checking the day of the month having maximum release date \n",
        "freq_rel_day=df[['release_day','views']].groupby('release_day').count()['views'].reset_index().sort_values('views',ascending=False)"
      ],
      "metadata": {
        "id": "J1222xyYZeBv"
      },
      "execution_count": 25,
      "outputs": []
    },
    {
      "cell_type": "code",
      "source": [
        "# plotting the day of the week having maximum release date \n",
        "plt.figure(figsize=(10,6))\n",
        "sns.barplot(x='release_day',y='views',data=freq_rel_day)\n",
        "plt.title('Most frequent release days')"
      ],
      "metadata": {
        "colab": {
          "base_uri": "https://localhost:8080/",
          "height": 422
        },
        "id": "_A_Pwu-mZvbi",
        "outputId": "b95001c4-f99b-4059-a665-8a48defd8fdf"
      },
      "execution_count": 26,
      "outputs": [
        {
          "output_type": "execute_result",
          "data": {
            "text/plain": [
              "Text(0.5, 1.0, 'Most frequent release days')"
            ]
          },
          "metadata": {},
          "execution_count": 26
        },
        {
          "output_type": "display_data",
          "data": {
            "text/plain": [
              "<Figure size 720x432 with 1 Axes>"
            ],
            "image/png": "[encoded data removed]"
          },
          "metadata": {
            "needs_background": "light"
          }
        }
      ]
    },
    {
      "cell_type": "markdown",
      "source": [
        "## **Analysis on release_month column**"
      ],
      "metadata": {
        "id": "dxwJpPG0avP1"
      }
    },
    {
      "cell_type": "code",
      "source": [
        "#encoding of release_month column with corresponding month name\n",
        "month_dict={1:'Jan',2:'Feb',3:'March',4:'April',5:'May',6:'June',7:'July',8:'Aug',9:'Sep',10:'Oct',11:'Nov',12:'Dec'}\n",
        "df['release_month']=df['release_month'].map(month_dict)"
      ],
      "metadata": {
        "id": "vZvex9jsaYJB"
      },
      "execution_count": 27,
      "outputs": []
    },
    {
      "cell_type": "code",
      "source": [
        "#checking months having maximum release \n",
        "freq_rel_month=df[['release_month','views']].groupby('release_month').count()['views'].reset_index().sort_values('views',ascending=False)\n",
        "\n",
        "# plotting the months having maximum release \n",
        "plt.figure(figsize=(10,4))\n",
        "sns.barplot(x='release_month',y='views',data=freq_rel_month)\n",
        "plt.title('Most frequent release months')"
      ],
      "metadata": {
        "colab": {
          "base_uri": "https://localhost:8080/",
          "height": 313
        },
        "id": "h-PAc0vQbBH4",
        "outputId": "1b0b7c40-56ae-4f6b-afb9-373ac6fef40b"
      },
      "execution_count": 28,
      "outputs": [
        {
          "output_type": "execute_result",
          "data": {
            "text/plain": [
              "Text(0.5, 1.0, 'Most frequent release months')"
            ]
          },
          "metadata": {},
          "execution_count": 28
        },
        {
          "output_type": "display_data",
          "data": {
            "text/plain": [
              "<Figure size 720x288 with 1 Axes>"
            ],
            "image/png": "[encoded data removed]"
          },
          "metadata": {
            "needs_background": "light"
          }
        }
      ]
    },
    {
      "cell_type": "markdown",
      "source": [
        "**Most videos are released in April followed by March and Feb.**"
      ],
      "metadata": {
        "id": "RakA9GDNbIRW"
      }
    },
    {
      "cell_type": "markdown",
      "source": [
        "## **Analysis on release_year column.**"
      ],
      "metadata": {
        "id": "6H6twtIpbYSg"
      }
    },
    {
      "cell_type": "code",
      "source": [
        "#checking years having maximum release \n",
        "freq_rel_year=df[['release_year','views']].groupby('release_year').count()['views'].reset_index().sort_values('views',ascending=False)\n",
        "\n",
        "#Plotting the years having maximum release \n",
        "plt.figure(figsize=(10,4))\n",
        "sns.barplot(x='release_year',y='views',data=freq_rel_year)\n",
        "plt.title('Most frequent release years')"
      ],
      "metadata": {
        "colab": {
          "base_uri": "https://localhost:8080/",
          "height": 313
        },
        "id": "DCH3F4OSbOut",
        "outputId": "810fa29d-b49c-410a-dff9-d48628e7ecd7"
      },
      "execution_count": 29,
      "outputs": [
        {
          "output_type": "execute_result",
          "data": {
            "text/plain": [
              "Text(0.5, 1.0, 'Most frequent release years')"
            ]
          },
          "metadata": {},
          "execution_count": 29
        },
        {
          "output_type": "display_data",
          "data": {
            "text/plain": [
              "<Figure size 720x288 with 1 Axes>"
            ],
            "image/png": "[encoded data removed]"
          },
          "metadata": {
            "needs_background": "light"
          }
        }
      ]
    },
    {
      "cell_type": "markdown",
      "source": [
        "* **2019 was the most frequent release year.**"
      ],
      "metadata": {
        "id": "4N5mh8TLrdJ4"
      }
    },
    {
      "cell_type": "markdown",
      "source": [
        "## **Analysis on numerical features.**"
      ],
      "metadata": {
        "id": "EC_emOvVbkAX"
      }
    },
    {
      "cell_type": "code",
      "source": [
        "#plotting target variable\n",
        "plt.figure(figsize=(10,4))\n",
        "sns.distplot(df['views'])"
      ],
      "metadata": {
        "colab": {
          "base_uri": "https://localhost:8080/",
          "height": 362
        },
        "id": "HW_NAUl1bhzw",
        "outputId": "53655068-c2d5-4657-de8b-96ba9f82c267"
      },
      "execution_count": 30,
      "outputs": [
        {
          "output_type": "stream",
          "name": "stderr",
          "text": [
            "/usr/local/lib/python3.7/dist-packages/seaborn/distributions.py:2619: FutureWarning: `distplot` is a deprecated function and will be removed in a future version. Please adapt your code to use either `displot` (a figure-level function with similar flexibility) or `histplot` (an axes-level function for histograms).\n",
            "  warnings.warn(msg, FutureWarning)\n"
          ]
        },
        {
          "output_type": "execute_result",
          "data": {
            "text/plain": [
              "<matplotlib.axes._subplots.AxesSubplot at 0x7f15d6c37250>"
            ]
          },
          "metadata": {},
          "execution_count": 30
        },
        {
          "output_type": "display_data",
          "data": {
            "text/plain": [
              "<Figure size 720x288 with 1 Axes>"
            ],
            "image/png": "[encoded data removed]"
          },
          "metadata": {
            "needs_background": "light"
          }
        }
      ]
    },
    {
      "cell_type": "markdown",
      "source": [
        "* **Target variable is rightly skewed.**"
      ],
      "metadata": {
        "id": "WFVrS5VHbsWT"
      }
    },
    {
      "cell_type": "code",
      "source": [
        "##plotting the distplot of comments\n",
        "plt.figure(figsize=(10,5))\n",
        "sns.distplot(df['comments'])"
      ],
      "metadata": {
        "colab": {
          "base_uri": "https://localhost:8080/",
          "height": 406
        },
        "id": "WX-aFvFjbpHi",
        "outputId": "970ece7f-513d-4f1f-f4f5-11aab18e0437"
      },
      "execution_count": 31,
      "outputs": [
        {
          "output_type": "stream",
          "name": "stderr",
          "text": [
            "/usr/local/lib/python3.7/dist-packages/seaborn/distributions.py:2619: FutureWarning: `distplot` is a deprecated function and will be removed in a future version. Please adapt your code to use either `displot` (a figure-level function with similar flexibility) or `histplot` (an axes-level function for histograms).\n",
            "  warnings.warn(msg, FutureWarning)\n"
          ]
        },
        {
          "output_type": "execute_result",
          "data": {
            "text/plain": [
              "<matplotlib.axes._subplots.AxesSubplot at 0x7f15d6ac7510>"
            ]
          },
          "metadata": {},
          "execution_count": 31
        },
        {
          "output_type": "display_data",
          "data": {
            "text/plain": [
              "<Figure size 720x360 with 1 Axes>"
            ],
            "image/png": "[encoded data removed]"
          },
          "metadata": {
            "needs_background": "light"
          }
        }
      ]
    },
    {
      "cell_type": "code",
      "source": [
        "#plotting the distplot of duration\n",
        "plt.figure(figsize=(10,5))\n",
        "sns.distplot(df['duration'])"
      ],
      "metadata": {
        "colab": {
          "base_uri": "https://localhost:8080/",
          "height": 406
        },
        "id": "05-g1eE4bzsG",
        "outputId": "8b51c198-8f10-4a31-aca6-a87845776b07"
      },
      "execution_count": 32,
      "outputs": [
        {
          "output_type": "stream",
          "name": "stderr",
          "text": [
            "/usr/local/lib/python3.7/dist-packages/seaborn/distributions.py:2619: FutureWarning: `distplot` is a deprecated function and will be removed in a future version. Please adapt your code to use either `displot` (a figure-level function with similar flexibility) or `histplot` (an axes-level function for histograms).\n",
            "  warnings.warn(msg, FutureWarning)\n"
          ]
        },
        {
          "output_type": "execute_result",
          "data": {
            "text/plain": [
              "<matplotlib.axes._subplots.AxesSubplot at 0x7f15d6e4ac10>"
            ]
          },
          "metadata": {},
          "execution_count": 32
        },
        {
          "output_type": "display_data",
          "data": {
            "text/plain": [
              "<Figure size 720x360 with 1 Axes>"
            ],
            "image/png": "[encoded data removed]"
          },
          "metadata": {
            "needs_background": "light"
          }
        }
      ]
    },
    {
      "cell_type": "markdown",
      "source": [
        "# **4.Feature Engineering**"
      ],
      "metadata": {
        "id": "xcM5HOKm-gOf"
      }
    },
    {
      "cell_type": "code",
      "source": [
        "len(df['speaker_1'].unique())"
      ],
      "metadata": {
        "colab": {
          "base_uri": "https://localhost:8080/"
        },
        "id": "6o0DsRG0Up_i",
        "outputId": "b3cc3202-c0d2-4bce-a404-adf1ae09ab56"
      },
      "execution_count": 33,
      "outputs": [
        {
          "output_type": "execute_result",
          "data": {
            "text/plain": [
              "3274"
            ]
          },
          "metadata": {},
          "execution_count": 33
        }
      ]
    },
    {
      "cell_type": "code",
      "source": [
        "#target encoding\n",
        "#Doing target encoding on speaker_1 column\n",
        "pop_speaker=df.groupby('speaker_1').agg({'views' : 'mean'}).sort_values(['views'],ascending=False)\n",
        "pop_speaker=pop_speaker.to_dict()\n",
        "pop_speaker=pop_speaker.values()\n",
        "pop_speaker=  list(pop_speaker)[0]\n",
        "df['speaker_1_avg_views']=df['speaker_1'].map(pop_speaker)\n",
        "df['speaker_1_avg_views']"
      ],
      "metadata": {
        "colab": {
          "base_uri": "https://localhost:8080/"
        },
        "id": "eGn4mXwWUpx2",
        "outputId": "f21b6c8a-e3d9-4656-91d9-1cd3e45ad26b"
      },
      "execution_count": 34,
      "outputs": [
        {
          "output_type": "execute_result",
          "data": {
            "text/plain": [
              "0       2.190599e+06\n",
              "1       3.987156e+06\n",
              "2       2.156190e+06\n",
              "3       1.979411e+06\n",
              "4       2.812684e+07\n",
              "            ...     \n",
              "4000    8.569210e+05\n",
              "4001    3.071870e+05\n",
              "4002    4.644140e+05\n",
              "4003    5.658200e+04\n",
              "4004    0.000000e+00\n",
              "Name: speaker_1_avg_views, Length: 4005, dtype: float64"
            ]
          },
          "metadata": {},
          "execution_count": 34
        }
      ]
    },
    {
      "cell_type": "code",
      "source": [
        "#Let's plot the speaker_1_avg_views column\n",
        "plt.figure(figsize=(10,5))\n",
        "sns.distplot(df['speaker_1_avg_views'])"
      ],
      "metadata": {
        "colab": {
          "base_uri": "https://localhost:8080/",
          "height": 418
        },
        "id": "ipTm3FLuUplf",
        "outputId": "687c1fa8-b1d2-4953-c4c3-09f978a30b8b"
      },
      "execution_count": 35,
      "outputs": [
        {
          "output_type": "stream",
          "name": "stderr",
          "text": [
            "/usr/local/lib/python3.7/dist-packages/seaborn/distributions.py:2619: FutureWarning: `distplot` is a deprecated function and will be removed in a future version. Please adapt your code to use either `displot` (a figure-level function with similar flexibility) or `histplot` (an axes-level function for histograms).\n",
            "  warnings.warn(msg, FutureWarning)\n"
          ]
        },
        {
          "output_type": "execute_result",
          "data": {
            "text/plain": [
              "<matplotlib.axes._subplots.AxesSubplot at 0x7f15d69007d0>"
            ]
          },
          "metadata": {},
          "execution_count": 35
        },
        {
          "output_type": "display_data",
          "data": {
            "text/plain": [
              "<Figure size 720x360 with 1 Axes>"
            ],
            "image/png": "[encoded data removed]"
          },
          "metadata": {
            "needs_background": "light"
          }
        }
      ]
    },
    {
      "cell_type": "code",
      "source": [
        "#finding the unique events from the event column.\n",
        "event_list=list(df.event.unique())\n",
        "len(event_list)"
      ],
      "metadata": {
        "colab": {
          "base_uri": "https://localhost:8080/"
        },
        "id": "OjneFDhPUpWp",
        "outputId": "da5ccea1-033d-4547-b0b6-104995a839b0"
      },
      "execution_count": 36,
      "outputs": [
        {
          "output_type": "execute_result",
          "data": {
            "text/plain": [
              "459"
            ]
          },
          "metadata": {},
          "execution_count": 36
        }
      ]
    },
    {
      "cell_type": "code",
      "source": [
        "#applying target encoding on event column\n",
        "pop_event=df.groupby('event').agg({'views' : 'mean'}).sort_values(['views'],ascending=False)\n",
        "pop_event=pop_event.to_dict()\n",
        "pop_event=pop_event.values()\n",
        "pop_event=  list(pop_event)[0]\n",
        "df['event_wise_avg_views']=df['event'].map(pop_event)"
      ],
      "metadata": {
        "id": "CM0LpRtIVPs8"
      },
      "execution_count": 37,
      "outputs": []
    },
    {
      "cell_type": "code",
      "source": [
        "#Plotting the distplot of event_wise_avg_views\n",
        "sns.distplot(df['event_wise_avg_views'])"
      ],
      "metadata": {
        "colab": {
          "base_uri": "https://localhost:8080/",
          "height": 363
        },
        "id": "hNTa7va1VUBc",
        "outputId": "2d343c74-c994-4e3b-809e-2f1f71e61015"
      },
      "execution_count": 38,
      "outputs": [
        {
          "output_type": "stream",
          "name": "stderr",
          "text": [
            "/usr/local/lib/python3.7/dist-packages/seaborn/distributions.py:2619: FutureWarning: `distplot` is a deprecated function and will be removed in a future version. Please adapt your code to use either `displot` (a figure-level function with similar flexibility) or `histplot` (an axes-level function for histograms).\n",
            "  warnings.warn(msg, FutureWarning)\n"
          ]
        },
        {
          "output_type": "execute_result",
          "data": {
            "text/plain": [
              "<matplotlib.axes._subplots.AxesSubplot at 0x7f15d67ab150>"
            ]
          },
          "metadata": {},
          "execution_count": 38
        },
        {
          "output_type": "display_data",
          "data": {
            "text/plain": [
              "<Figure size 432x288 with 1 Axes>"
            ],
            "image/png": "[encoded data removed]"
          },
          "metadata": {
            "needs_background": "light"
          }
        }
      ]
    },
    {
      "cell_type": "markdown",
      "source": [
        "## **Feature Engineering on available_lang column**\n",
        "**In available_lang column we have a list of available languages for each video.**"
      ],
      "metadata": {
        "id": "W2bT1jFmHW_s"
      }
    },
    {
      "cell_type": "code",
      "source": [
        "#applying eval function on available_lang column\n",
        "df['available_lang'] = df.apply(lambda row: eval(row['available_lang']), axis=1)"
      ],
      "metadata": {
        "id": "KBT8RjtFHKMs"
      },
      "execution_count": 39,
      "outputs": []
    },
    {
      "cell_type": "code",
      "source": [
        "len(df['available_lang'][0])"
      ],
      "metadata": {
        "colab": {
          "base_uri": "https://localhost:8080/"
        },
        "id": "cUmL_SEOILDw",
        "outputId": "bee086a8-e4a7-4fd0-8799-25327244188e"
      },
      "execution_count": 40,
      "outputs": [
        {
          "output_type": "execute_result",
          "data": {
            "text/plain": [
              "43"
            ]
          },
          "metadata": {},
          "execution_count": 40
        }
      ]
    },
    {
      "cell_type": "markdown",
      "source": [
        "**Let's add a new feature which contain the count of total no of language for a particular video.**"
      ],
      "metadata": {
        "id": "IGdmCrWVJIFU"
      }
    },
    {
      "cell_type": "code",
      "source": [
        "df['num_of_lang'] = df.apply(lambda x: len(x['available_lang']), axis=1)"
      ],
      "metadata": {
        "id": "fqt0QZp1I2Au"
      },
      "execution_count": 41,
      "outputs": []
    },
    {
      "cell_type": "code",
      "source": [
        "sns.distplot(df['num_of_lang'])"
      ],
      "metadata": {
        "colab": {
          "base_uri": "https://localhost:8080/",
          "height": 352
        },
        "id": "gJzF6OEwJaSZ",
        "outputId": "a04edfb9-c2ac-43bd-e84a-8c6a5c5e77ea"
      },
      "execution_count": 42,
      "outputs": [
        {
          "output_type": "stream",
          "name": "stderr",
          "text": [
            "/usr/local/lib/python3.7/dist-packages/seaborn/distributions.py:2619: FutureWarning: `distplot` is a deprecated function and will be removed in a future version. Please adapt your code to use either `displot` (a figure-level function with similar flexibility) or `histplot` (an axes-level function for histograms).\n",
            "  warnings.warn(msg, FutureWarning)\n"
          ]
        },
        {
          "output_type": "execute_result",
          "data": {
            "text/plain": [
              "<matplotlib.axes._subplots.AxesSubplot at 0x7f15d66ba810>"
            ]
          },
          "metadata": {},
          "execution_count": 42
        },
        {
          "output_type": "display_data",
          "data": {
            "text/plain": [
              "<Figure size 432x288 with 1 Axes>"
            ],
            "image/png": "[encoded data removed]"
          },
          "metadata": {
            "needs_background": "light"
          }
        }
      ]
    },
    {
      "cell_type": "markdown",
      "source": [
        "## **Feature Engineering on published_date column.**\n",
        "**We can add a new column called video_age which is the difference of current year and published year.**"
      ],
      "metadata": {
        "id": "Mz_3ialoM4yA"
      }
    },
    {
      "cell_type": "code",
      "source": [
        "df['video_age']=2022-df['release_year']"
      ],
      "metadata": {
        "id": "cjoURp17M0JA"
      },
      "execution_count": 43,
      "outputs": []
    },
    {
      "cell_type": "markdown",
      "source": [
        "##**Dropping the columns which has no effect on output.**"
      ],
      "metadata": {
        "id": "Me6neH9eoBui"
      }
    },
    {
      "cell_type": "code",
      "source": [
        "#dropping the url column\n",
        "df=df.drop(columns=['url'])\n",
        "#dropping the available_lang column\n",
        "df.drop(columns='available_lang',inplace=True)\n",
        "#dropping published_date columns\n",
        "df=df.drop(columns='published_date')"
      ],
      "metadata": {
        "id": "wQAKrEgf_WMW"
      },
      "execution_count": 44,
      "outputs": []
    },
    {
      "cell_type": "code",
      "source": [
        "#creating a copy of the dataframe\n",
        "gf=df.copy()\n",
        "df=gf.copy()"
      ],
      "metadata": {
        "id": "ENAxFcqjFCfe"
      },
      "execution_count": 45,
      "outputs": []
    },
    {
      "cell_type": "code",
      "source": [
        "#displaying first 5 rows\n",
        "pd.set_option('display.max_columns',None)\n",
        "df.head()"
      ],
      "metadata": {
        "colab": {
          "base_uri": "https://localhost:8080/",
          "height": 634
        },
        "id": "Jwqye-JvFfvN",
        "outputId": "427a23ad-1803-46a9-b793-72c0b61b25d8"
      },
      "execution_count": 46,
      "outputs": [
        {
          "output_type": "execute_result",
          "data": {
            "text/plain": [
              "   talk_id                            title         speaker_1  \\\n",
              "0        1      Averting the climate crisis           Al Gore   \n",
              "1       92  The best stats you've ever seen      Hans Rosling   \n",
              "2        7                 Simplicity sells       David Pogue   \n",
              "3       53              Greening the ghetto     Majora Carter   \n",
              "4       66      Do schools kill creativity?  Sir Ken Robinson   \n",
              "\n",
              "              all_speakers                                    occupations  \\\n",
              "0           {0: 'Al Gore'}                      {0: ['climate advocate']}   \n",
              "1      {0: 'Hans Rosling'}  {0: ['global health expert; data visionary']}   \n",
              "2       {0: 'David Pogue'}                  {0: ['technology columnist']}   \n",
              "3     {0: 'Majora Carter'}    {0: ['activist for environmental justice']}   \n",
              "4  {0: 'Sir Ken Robinson'}                    {0: ['author', 'educator']}   \n",
              "\n",
              "                                      about_speakers     views recorded_date  \\\n",
              "0  {0: 'Nobel Laureate Al Gore focused the world’...   3523392    2006-02-25   \n",
              "1  {0: 'In Hans Rosling’s hands, data sings. Glob...  14501685    2006-02-22   \n",
              "2  {0: 'David Pogue is the personal technology co...   1920832    2006-02-24   \n",
              "3  {0: 'Majora Carter redefined the field of envi...   2664069    2006-02-26   \n",
              "4  {0: \"Creativity expert Sir Ken Robinson challe...  65051954    2006-02-25   \n",
              "\n",
              "     event  comments  duration  \\\n",
              "0  TED2006     272.0       977   \n",
              "1  TED2006     628.0      1190   \n",
              "2  TED2006     124.0      1286   \n",
              "3  TED2006     219.0      1116   \n",
              "4  TED2006    4931.0      1164   \n",
              "\n",
              "                                              topics  \\\n",
              "0  ['alternative energy', 'cars', 'climate change...   \n",
              "1  ['Africa', 'Asia', 'Google', 'demo', 'economic...   \n",
              "2  ['computers', 'entertainment', 'interface desi...   \n",
              "3  ['MacArthur grant', 'activism', 'business', 'c...   \n",
              "4  ['children', 'creativity', 'culture', 'dance',...   \n",
              "\n",
              "                                       related_talks  \\\n",
              "0  {243: 'New thinking on the climate crisis', 54...   \n",
              "1  {2056: \"Own your body's data\", 2296: 'A visual...   \n",
              "2  {1725: '10 top time-saving tech tips', 2274: '...   \n",
              "3  {1041: '3 stories of local eco-entrepreneurshi...   \n",
              "4  {865: 'Bring on the learning revolution!', 173...   \n",
              "\n",
              "                                         description  \\\n",
              "0  With the same humor and humanity he exuded in ...   \n",
              "1  You've never seen data presented like this. Wi...   \n",
              "2  New York Times columnist David Pogue takes aim...   \n",
              "3  In an emotionally charged talk, MacArthur-winn...   \n",
              "4  Sir Ken Robinson makes an entertaining and pro...   \n",
              "\n",
              "                                          transcript  \\\n",
              "0  Thank you so much, Chris. And it's truly a gre...   \n",
              "1  About 10 years ago, I took on the task to teac...   \n",
              "2  (Music: \"The Sound of Silence,\" Simon & Garfun...   \n",
              "3  If you're here today — and I'm very happy that...   \n",
              "4  Good morning. How are you? (Audience) Good. It...   \n",
              "\n",
              "                             occupation release_day release_month  \\\n",
              "0                      climate advocate     Tuesday          June   \n",
              "1  global health expert; data visionary     Tuesday          June   \n",
              "2                  technology columnist     Tuesday          June   \n",
              "3    activist for environmental justice     Tuesday          June   \n",
              "4                                author     Tuesday          June   \n",
              "\n",
              "   release_year  speaker_1_avg_views  event_wise_avg_views  num_of_lang  \\\n",
              "0          2006         2.190599e+06          3.876291e+06           43   \n",
              "1          2006         3.987156e+06          3.876291e+06           49   \n",
              "2          2006         2.156190e+06          3.876291e+06           26   \n",
              "3          2006         1.979411e+06          3.876291e+06           35   \n",
              "4          2006         2.812684e+07          3.876291e+06           62   \n",
              "\n",
              "   video_age  \n",
              "0         16  \n",
              "1         16  \n",
              "2         16  \n",
              "3         16  \n",
              "4         16  "
            ],
            "text/html": [
              "\n",
              "  <div id=\"df-9f421efe-df1a-45d1-b509-c4c34a832097\">\n",
              "    <div class=\"colab-df-container\">\n",
              "      <div>\n",
              "<style scoped>\n",
              "    .dataframe tbody tr th:only-of-type {\n",
              "        vertical-align: middle;\n",
              "    }\n",
              "\n",
              "    .dataframe tbody tr th {\n",
              "        vertical-align: top;\n",
              "    }\n",
              "\n",
              "    .dataframe thead th {\n",
              "        text-align: right;\n",
              "    }\n",
              "</style>\n",
              "<table border=\"1\" class=\"dataframe\">\n",
              "  <thead>\n",
              "    <tr style=\"text-align: right;\">\n",
              "      <th></th>\n",
              "      <th>talk_id</th>\n",
              "      <th>title</th>\n",
              "      <th>speaker_1</th>\n",
              "      <th>all_speakers</th>\n",
              "      <th>occupations</th>\n",
              "      <th>about_speakers</th>\n",
              "      <th>views</th>\n",
              "      <th>recorded_date</th>\n",
              "      <th>event</th>\n",
              "      <th>comments</th>\n",
              "      <th>duration</th>\n",
              "      <th>topics</th>\n",
              "      <th>related_talks</th>\n",
              "      <th>description</th>\n",
              "      <th>transcript</th>\n",
              "      <th>occupation</th>\n",
              "      <th>release_day</th>\n",
              "      <th>release_month</th>\n",
              "      <th>release_year</th>\n",
              "      <th>speaker_1_avg_views</th>\n",
              "      <th>event_wise_avg_views</th>\n",
              "      <th>num_of_lang</th>\n",
              "      <th>video_age</th>\n",
              "    </tr>\n",
              "  </thead>\n",
              "  <tbody>\n",
              "    <tr>\n",
              "      <th>0</th>\n",
              "      <td>1</td>\n",
              "      <td>Averting the climate crisis</td>\n",
              "      <td>Al Gore</td>\n",
              "      <td>{0: 'Al Gore'}</td>\n",
              "      <td>{0: ['climate advocate']}</td>\n",
              "      <td>{0: 'Nobel Laureate Al Gore focused the world’...</td>\n",
              "      <td>3523392</td>\n",
              "      <td>2006-02-25</td>\n",
              "      <td>TED2006</td>\n",
              "      <td>272.0</td>\n",
              "      <td>977</td>\n",
              "      <td>['alternative energy', 'cars', 'climate change...</td>\n",
              "      <td>{243: 'New thinking on the climate crisis', 54...</td>\n",
              "      <td>With the same humor and humanity he exuded in ...</td>\n",
              "      <td>Thank you so much, Chris. And it's truly a gre...</td>\n",
              "      <td>climate advocate</td>\n",
              "      <td>Tuesday</td>\n",
              "      <td>June</td>\n",
              "      <td>2006</td>\n",
              "      <td>2.190599e+06</td>\n",
              "      <td>3.876291e+06</td>\n",
              "      <td>43</td>\n",
              "      <td>16</td>\n",
              "    </tr>\n",
              "    <tr>\n",
              "      <th>1</th>\n",
              "      <td>92</td>\n",
              "      <td>The best stats you've ever seen</td>\n",
              "      <td>Hans Rosling</td>\n",
              "      <td>{0: 'Hans Rosling'}</td>\n",
              "      <td>{0: ['global health expert; data visionary']}</td>\n",
              "      <td>{0: 'In Hans Rosling’s hands, data sings. Glob...</td>\n",
              "      <td>14501685</td>\n",
              "      <td>2006-02-22</td>\n",
              "      <td>TED2006</td>\n",
              "      <td>628.0</td>\n",
              "      <td>1190</td>\n",
              "      <td>['Africa', 'Asia', 'Google', 'demo', 'economic...</td>\n",
              "      <td>{2056: \"Own your body's data\", 2296: 'A visual...</td>\n",
              "      <td>You've never seen data presented like this. Wi...</td>\n",
              "      <td>About 10 years ago, I took on the task to teac...</td>\n",
              "      <td>global health expert; data visionary</td>\n",
              "      <td>Tuesday</td>\n",
              "      <td>June</td>\n",
              "      <td>2006</td>\n",
              "      <td>3.987156e+06</td>\n",
              "      <td>3.876291e+06</td>\n",
              "      <td>49</td>\n",
              "      <td>16</td>\n",
              "    </tr>\n",
              "    <tr>\n",
              "      <th>2</th>\n",
              "      <td>7</td>\n",
              "      <td>Simplicity sells</td>\n",
              "      <td>David Pogue</td>\n",
              "      <td>{0: 'David Pogue'}</td>\n",
              "      <td>{0: ['technology columnist']}</td>\n",
              "      <td>{0: 'David Pogue is the personal technology co...</td>\n",
              "      <td>1920832</td>\n",
              "      <td>2006-02-24</td>\n",
              "      <td>TED2006</td>\n",
              "      <td>124.0</td>\n",
              "      <td>1286</td>\n",
              "      <td>['computers', 'entertainment', 'interface desi...</td>\n",
              "      <td>{1725: '10 top time-saving tech tips', 2274: '...</td>\n",
              "      <td>New York Times columnist David Pogue takes aim...</td>\n",
              "      <td>(Music: \"The Sound of Silence,\" Simon &amp; Garfun...</td>\n",
              "      <td>technology columnist</td>\n",
              "      <td>Tuesday</td>\n",
              "      <td>June</td>\n",
              "      <td>2006</td>\n",
              "      <td>2.156190e+06</td>\n",
              "      <td>3.876291e+06</td>\n",
              "      <td>26</td>\n",
              "      <td>16</td>\n",
              "    </tr>\n",
              "    <tr>\n",
              "      <th>3</th>\n",
              "      <td>53</td>\n",
              "      <td>Greening the ghetto</td>\n",
              "      <td>Majora Carter</td>\n",
              "      <td>{0: 'Majora Carter'}</td>\n",
              "      <td>{0: ['activist for environmental justice']}</td>\n",
              "      <td>{0: 'Majora Carter redefined the field of envi...</td>\n",
              "      <td>2664069</td>\n",
              "      <td>2006-02-26</td>\n",
              "      <td>TED2006</td>\n",
              "      <td>219.0</td>\n",
              "      <td>1116</td>\n",
              "      <td>['MacArthur grant', 'activism', 'business', 'c...</td>\n",
              "      <td>{1041: '3 stories of local eco-entrepreneurshi...</td>\n",
              "      <td>In an emotionally charged talk, MacArthur-winn...</td>\n",
              "      <td>If you're here today — and I'm very happy that...</td>\n",
              "      <td>activist for environmental justice</td>\n",
              "      <td>Tuesday</td>\n",
              "      <td>June</td>\n",
              "      <td>2006</td>\n",
              "      <td>1.979411e+06</td>\n",
              "      <td>3.876291e+06</td>\n",
              "      <td>35</td>\n",
              "      <td>16</td>\n",
              "    </tr>\n",
              "    <tr>\n",
              "      <th>4</th>\n",
              "      <td>66</td>\n",
              "      <td>Do schools kill creativity?</td>\n",
              "      <td>Sir Ken Robinson</td>\n",
              "      <td>{0: 'Sir Ken Robinson'}</td>\n",
              "      <td>{0: ['author', 'educator']}</td>\n",
              "      <td>{0: \"Creativity expert Sir Ken Robinson challe...</td>\n",
              "      <td>65051954</td>\n",
              "      <td>2006-02-25</td>\n",
              "      <td>TED2006</td>\n",
              "      <td>4931.0</td>\n",
              "      <td>1164</td>\n",
              "      <td>['children', 'creativity', 'culture', 'dance',...</td>\n",
              "      <td>{865: 'Bring on the learning revolution!', 173...</td>\n",
              "      <td>Sir Ken Robinson makes an entertaining and pro...</td>\n",
              "      <td>Good morning. How are you? (Audience) Good. It...</td>\n",
              "      <td>author</td>\n",
              "      <td>Tuesday</td>\n",
              "      <td>June</td>\n",
              "      <td>2006</td>\n",
              "      <td>2.812684e+07</td>\n",
              "      <td>3.876291e+06</td>\n",
              "      <td>62</td>\n",
              "      <td>16</td>\n",
              "    </tr>\n",
              "  </tbody>\n",
              "</table>\n",
              "</div>\n",
              "      <button class=\"colab-df-convert\" onclick=\"convertToInteractive('df-9f421efe-df1a-45d1-b509-c4c34a832097')\"\n",
              "              title=\"Convert this dataframe to an interactive table.\"\n",
              "              style=\"display:none;\">\n",
              "        \n",
              "  <svg xmlns=\"http://www.w3.org/2000/svg\" height=\"24px\"viewBox=\"0 0 24 24\"\n",
              "       width=\"24px\">\n",
              "    <path d=\"M0 0h24v24H0V0z\" fill=\"none\"/>\n",
              "    <path d=\"M18.56 5.44l.94 2.06.94-2.06 2.06-.94-2.06-.94-.94-2.06-.94 2.06-2.06.94zm-11 1L8.5 8.5l.94-2.06 2.06-.94-2.06-.94L8.5 2.5l-.94 2.06-2.06.94zm10 10l.94 2.06.94-2.06 2.06-.94-2.06-.94-.94-2.06-.94 2.06-2.06.94z\"/><path d=\"M17.41 7.96l-1.37-1.37c-.4-.4-.92-.59-1.43-.59-.52 0-1.04.2-1.43.59L10.3 9.45l-7.72 7.72c-.78.78-.78 2.05 0 2.83L4 21.41c.39.39.9.59 1.41.59.51 0 1.02-.2 1.41-.59l7.78-7.78 2.81-2.81c.8-.78.8-2.07 0-2.86zM5.41 20L4 18.59l7.72-7.72 1.47 1.35L5.41 20z\"/>\n",
              "  </svg>\n",
              "      </button>\n",
              "      \n",
              "  <style>\n",
              "    .colab-df-container {\n",
              "      display:flex;\n",
              "      flex-wrap:wrap;\n",
              "      gap: 12px;\n",
              "    }\n",
              "\n",
              "    .colab-df-convert {\n",
              "      background-color: #E8F0FE;\n",
              "      border: none;\n",
              "      border-radius: 50%;\n",
              "      cursor: pointer;\n",
              "      display: none;\n",
              "      fill: #1967D2;\n",
              "      height: 32px;\n",
              "      padding: 0 0 0 0;\n",
              "      width: 32px;\n",
              "    }\n",
              "\n",
              "    .colab-df-convert:hover {\n",
              "      background-color: #E2EBFA;\n",
              "      box-shadow: 0px 1px 2px rgba(60, 64, 67, 0.3), 0px 1px 3px 1px rgba(60, 64, 67, 0.15);\n",
              "      fill: #174EA6;\n",
              "    }\n",
              "\n",
              "    [theme=dark] .colab-df-convert {\n",
              "      background-color: #3B4455;\n",
              "      fill: #D2E3FC;\n",
              "    }\n",
              "\n",
              "    [theme=dark] .colab-df-convert:hover {\n",
              "      background-color: #434B5C;\n",
              "      box-shadow: 0px 1px 3px 1px rgba(0, 0, 0, 0.15);\n",
              "      filter: drop-shadow(0px 1px 2px rgba(0, 0, 0, 0.3));\n",
              "      fill: #FFFFFF;\n",
              "    }\n",
              "  </style>\n",
              "\n",
              "      <script>\n",
              "        const buttonEl =\n",
              "          document.querySelector('#df-9f421efe-df1a-45d1-b509-c4c34a832097 button.colab-df-convert');\n",
              "        buttonEl.style.display =\n",
              "          google.colab.kernel.accessAllowed ? 'block' : 'none';\n",
              "\n",
              "        async function convertToInteractive(key) {\n",
              "          const element = document.querySelector('#df-9f421efe-df1a-45d1-b509-c4c34a832097');\n",
              "          const dataTable =\n",
              "            await google.colab.kernel.invokeFunction('convertToInteractive',\n",
              "                                                     [key], {});\n",
              "          if (!dataTable) return;\n",
              "\n",
              "          const docLinkHtml = 'Like what you see? Visit the ' +\n",
              "            '<a target=\"_blank\" href=https://colab.research.google.com/notebooks/data_table.ipynb>data table notebook</a>'\n",
              "            + ' to learn more about interactive tables.';\n",
              "          element.innerHTML = '';\n",
              "          dataTable['output_type'] = 'display_data';\n",
              "          await google.colab.output.renderOutput(dataTable, element);\n",
              "          const docLink = document.createElement('div');\n",
              "          docLink.innerHTML = docLinkHtml;\n",
              "          element.appendChild(docLink);\n",
              "        }\n",
              "      </script>\n",
              "    </div>\n",
              "  </div>\n",
              "  "
            ]
          },
          "metadata": {},
          "execution_count": 46
        }
      ]
    },
    {
      "cell_type": "markdown",
      "source": [
        "# **5. Data Cleaning.**\n",
        "## **Outlier Treatment on numerical columns.**"
      ],
      "metadata": {
        "id": "zY_lDxPyPT_P"
      }
    },
    {
      "cell_type": "code",
      "source": [
        "#checking the outliers\n",
        "Q1 = df.quantile(0.25)\n",
        "Q3 = df.quantile(0.75)\n",
        "IQR = Q3 - Q1\n",
        "((df < (Q1 - 1.5 * IQR)) | (df > (Q3 + 1.5 * IQR))).sum()"
      ],
      "metadata": {
        "id": "BRC6aMr2Pep1",
        "colab": {
          "base_uri": "https://localhost:8080/"
        },
        "outputId": "30848ed5-5ede-4445-b079-1e873711d22f"
      },
      "execution_count": 47,
      "outputs": [
        {
          "output_type": "stream",
          "name": "stderr",
          "text": [
            "/usr/local/lib/python3.7/dist-packages/ipykernel_launcher.py:5: FutureWarning: Automatic reindexing on DataFrame vs Series comparisons is deprecated and will raise ValueError in a future version.  Do `left, right = left.align(right, axis=1, copy=False)` before e.g. `left == right`\n",
            "  \"\"\"\n"
          ]
        },
        {
          "output_type": "execute_result",
          "data": {
            "text/plain": [
              "about_speakers            0\n",
              "all_speakers              0\n",
              "comments                261\n",
              "description               0\n",
              "duration                 21\n",
              "event                     0\n",
              "event_wise_avg_views    156\n",
              "num_of_lang             121\n",
              "occupation                0\n",
              "occupations               0\n",
              "recorded_date             0\n",
              "related_talks             0\n",
              "release_day               0\n",
              "release_month             0\n",
              "release_year              0\n",
              "speaker_1                 0\n",
              "speaker_1_avg_views     373\n",
              "talk_id                 119\n",
              "title                     0\n",
              "topics                    0\n",
              "transcript                0\n",
              "video_age                 0\n",
              "views                   393\n",
              "dtype: int64"
            ]
          },
          "metadata": {},
          "execution_count": 47
        }
      ]
    },
    {
      "cell_type": "markdown",
      "source": [
        "* **We have outliers in few columns which needs to be treated well.**\n",
        "* **I am replacing the outliers with the extreme values.**"
      ],
      "metadata": {
        "id": "-V9yVYPZRfev"
      }
    },
    {
      "cell_type": "code",
      "source": [
        "# Replacing outliers with extreme values\n",
        "for i in ['comments','duration','num_of_lang','views','speaker_1_avg_views','event_wise_avg_views']:\n",
        "  Q1 = df[i].quantile(0.25)\n",
        "  Q3 = df[i].quantile(0.75)\n",
        "  IQR = Q3 - Q1\n",
        " \n",
        "  df[i]=np.where(df[i]<(Q1 - 1.5 * IQR),(Q1 - 1.5 * IQR),np.where(df[i]>(Q3 + 1.5 * IQR),(Q3 + 1.5 * IQR),df[i]))"
      ],
      "metadata": {
        "id": "VmmbjzHWSHZl"
      },
      "execution_count": 48,
      "outputs": []
    },
    {
      "cell_type": "code",
      "source": [
        "#Let's check the outliers again\n",
        "Q1 = df.quantile(0.25)\n",
        "Q3 = df.quantile(0.75)\n",
        "IQR = Q3 - Q1\n",
        "\n",
        "((df < (Q1 - 1.5 * IQR)) | (df > (Q3 + 1.5 * IQR))).sum()"
      ],
      "metadata": {
        "colab": {
          "base_uri": "https://localhost:8080/"
        },
        "id": "0JsbcCjCSJW6",
        "outputId": "ea5497b8-ef09-459b-aa06-8676cb31d845"
      },
      "execution_count": 49,
      "outputs": [
        {
          "output_type": "stream",
          "name": "stderr",
          "text": [
            "/usr/local/lib/python3.7/dist-packages/ipykernel_launcher.py:6: FutureWarning: Automatic reindexing on DataFrame vs Series comparisons is deprecated and will raise ValueError in a future version.  Do `left, right = left.align(right, axis=1, copy=False)` before e.g. `left == right`\n",
            "  \n"
          ]
        },
        {
          "output_type": "execute_result",
          "data": {
            "text/plain": [
              "about_speakers            0\n",
              "all_speakers              0\n",
              "comments                  0\n",
              "description               0\n",
              "duration                  0\n",
              "event                     0\n",
              "event_wise_avg_views      0\n",
              "num_of_lang               0\n",
              "occupation                0\n",
              "occupations               0\n",
              "recorded_date             0\n",
              "related_talks             0\n",
              "release_day               0\n",
              "release_month             0\n",
              "release_year              0\n",
              "speaker_1                 0\n",
              "speaker_1_avg_views       0\n",
              "talk_id                 119\n",
              "title                     0\n",
              "topics                    0\n",
              "transcript                0\n",
              "video_age                 0\n",
              "views                     0\n",
              "dtype: int64"
            ]
          },
          "metadata": {},
          "execution_count": 49
        }
      ]
    },
    {
      "cell_type": "markdown",
      "source": [
        "* **Now, we don't have any outliers.**"
      ],
      "metadata": {
        "id": "xPkQjISfSXXi"
      }
    },
    {
      "cell_type": "code",
      "source": [
        "df.columns"
      ],
      "metadata": {
        "colab": {
          "base_uri": "https://localhost:8080/"
        },
        "id": "jfvBCWAySOU1",
        "outputId": "4bb6c7a7-a115-4a21-8f50-236d21286379"
      },
      "execution_count": 50,
      "outputs": [
        {
          "output_type": "execute_result",
          "data": {
            "text/plain": [
              "Index(['talk_id', 'title', 'speaker_1', 'all_speakers', 'occupations',\n",
              "       'about_speakers', 'views', 'recorded_date', 'event', 'comments',\n",
              "       'duration', 'topics', 'related_talks', 'description', 'transcript',\n",
              "       'occupation', 'release_day', 'release_month', 'release_year',\n",
              "       'speaker_1_avg_views', 'event_wise_avg_views', 'num_of_lang',\n",
              "       'video_age'],\n",
              "      dtype='object')"
            ]
          },
          "metadata": {},
          "execution_count": 50
        }
      ]
    },
    {
      "cell_type": "markdown",
      "source": [
        "**Let's drop unimportant columns.**"
      ],
      "metadata": {
        "id": "pJBUzwCKSgQb"
      }
    },
    {
      "cell_type": "code",
      "source": [
        "#dropping unimportant columns from the dataframe.\n",
        "df.drop(columns=['talk_id','title','speaker_1', 'all_speakers', 'occupations','event',\n",
        "       'recorded_date','topics','related_talks','transcript','description','occupation','release_year','about_speakers'],inplace=True)"
      ],
      "metadata": {
        "id": "K5FEtq1SSdpG"
      },
      "execution_count": 51,
      "outputs": []
    },
    {
      "cell_type": "code",
      "source": [
        "df.head()"
      ],
      "metadata": {
        "colab": {
          "base_uri": "https://localhost:8080/",
          "height": 206
        },
        "id": "_bv393QrSogv",
        "outputId": "bebef0f3-6cf4-4ac2-af05-4089a89991bb"
      },
      "execution_count": 52,
      "outputs": [
        {
          "output_type": "execute_result",
          "data": {
            "text/plain": [
              "       views  comments  duration release_day release_month  \\\n",
              "0  3523392.0     272.0     977.0     Tuesday          June   \n",
              "1  4009671.5     413.0    1190.0     Tuesday          June   \n",
              "2  1920832.0     124.0    1286.0     Tuesday          June   \n",
              "3  2664069.0     219.0    1116.0     Tuesday          June   \n",
              "4  4009671.5     413.0    1164.0     Tuesday          June   \n",
              "\n",
              "   speaker_1_avg_views  event_wise_avg_views  num_of_lang  video_age  \n",
              "0           2190599.25          3.778944e+06         43.0         16  \n",
              "1           3987156.10          3.778944e+06         47.5         16  \n",
              "2           2156189.75          3.778944e+06         26.0         16  \n",
              "3           1979411.00          3.778944e+06         35.0         16  \n",
              "4           4129562.75          3.778944e+06         47.5         16  "
            ],
            "text/html": [
              "\n",
              "  <div id=\"df-549244c2-13a6-4660-a3f5-c48bf15e1d4b\">\n",
              "    <div class=\"colab-df-container\">\n",
              "      <div>\n",
              "<style scoped>\n",
              "    .dataframe tbody tr th:only-of-type {\n",
              "        vertical-align: middle;\n",
              "    }\n",
              "\n",
              "    .dataframe tbody tr th {\n",
              "        vertical-align: top;\n",
              "    }\n",
              "\n",
              "    .dataframe thead th {\n",
              "        text-align: right;\n",
              "    }\n",
              "</style>\n",
              "<table border=\"1\" class=\"dataframe\">\n",
              "  <thead>\n",
              "    <tr style=\"text-align: right;\">\n",
              "      <th></th>\n",
              "      <th>views</th>\n",
              "      <th>comments</th>\n",
              "      <th>duration</th>\n",
              "      <th>release_day</th>\n",
              "      <th>release_month</th>\n",
              "      <th>speaker_1_avg_views</th>\n",
              "      <th>event_wise_avg_views</th>\n",
              "      <th>num_of_lang</th>\n",
              "      <th>video_age</th>\n",
              "    </tr>\n",
              "  </thead>\n",
              "  <tbody>\n",
              "    <tr>\n",
              "      <th>0</th>\n",
              "      <td>3523392.0</td>\n",
              "      <td>272.0</td>\n",
              "      <td>977.0</td>\n",
              "      <td>Tuesday</td>\n",
              "      <td>June</td>\n",
              "      <td>2190599.25</td>\n",
              "      <td>3.778944e+06</td>\n",
              "      <td>43.0</td>\n",
              "      <td>16</td>\n",
              "    </tr>\n",
              "    <tr>\n",
              "      <th>1</th>\n",
              "      <td>4009671.5</td>\n",
              "      <td>413.0</td>\n",
              "      <td>1190.0</td>\n",
              "      <td>Tuesday</td>\n",
              "      <td>June</td>\n",
              "      <td>3987156.10</td>\n",
              "      <td>3.778944e+06</td>\n",
              "      <td>47.5</td>\n",
              "      <td>16</td>\n",
              "    </tr>\n",
              "    <tr>\n",
              "      <th>2</th>\n",
              "      <td>1920832.0</td>\n",
              "      <td>124.0</td>\n",
              "      <td>1286.0</td>\n",
              "      <td>Tuesday</td>\n",
              "      <td>June</td>\n",
              "      <td>2156189.75</td>\n",
              "      <td>3.778944e+06</td>\n",
              "      <td>26.0</td>\n",
              "      <td>16</td>\n",
              "    </tr>\n",
              "    <tr>\n",
              "      <th>3</th>\n",
              "      <td>2664069.0</td>\n",
              "      <td>219.0</td>\n",
              "      <td>1116.0</td>\n",
              "      <td>Tuesday</td>\n",
              "      <td>June</td>\n",
              "      <td>1979411.00</td>\n",
              "      <td>3.778944e+06</td>\n",
              "      <td>35.0</td>\n",
              "      <td>16</td>\n",
              "    </tr>\n",
              "    <tr>\n",
              "      <th>4</th>\n",
              "      <td>4009671.5</td>\n",
              "      <td>413.0</td>\n",
              "      <td>1164.0</td>\n",
              "      <td>Tuesday</td>\n",
              "      <td>June</td>\n",
              "      <td>4129562.75</td>\n",
              "      <td>3.778944e+06</td>\n",
              "      <td>47.5</td>\n",
              "      <td>16</td>\n",
              "    </tr>\n",
              "  </tbody>\n",
              "</table>\n",
              "</div>\n",
              "      <button class=\"colab-df-convert\" onclick=\"convertToInteractive('df-549244c2-13a6-4660-a3f5-c48bf15e1d4b')\"\n",
              "              title=\"Convert this dataframe to an interactive table.\"\n",
              "              style=\"display:none;\">\n",
              "        \n",
              "  <svg xmlns=\"http://www.w3.org/2000/svg\" height=\"24px\"viewBox=\"0 0 24 24\"\n",
              "       width=\"24px\">\n",
              "    <path d=\"M0 0h24v24H0V0z\" fill=\"none\"/>\n",
              "    <path d=\"M18.56 5.44l.94 2.06.94-2.06 2.06-.94-2.06-.94-.94-2.06-.94 2.06-2.06.94zm-11 1L8.5 8.5l.94-2.06 2.06-.94-2.06-.94L8.5 2.5l-.94 2.06-2.06.94zm10 10l.94 2.06.94-2.06 2.06-.94-2.06-.94-.94-2.06-.94 2.06-2.06.94z\"/><path d=\"M17.41 7.96l-1.37-1.37c-.4-.4-.92-.59-1.43-.59-.52 0-1.04.2-1.43.59L10.3 9.45l-7.72 7.72c-.78.78-.78 2.05 0 2.83L4 21.41c.39.39.9.59 1.41.59.51 0 1.02-.2 1.41-.59l7.78-7.78 2.81-2.81c.8-.78.8-2.07 0-2.86zM5.41 20L4 18.59l7.72-7.72 1.47 1.35L5.41 20z\"/>\n",
              "  </svg>\n",
              "      </button>\n",
              "      \n",
              "  <style>\n",
              "    .colab-df-container {\n",
              "      display:flex;\n",
              "      flex-wrap:wrap;\n",
              "      gap: 12px;\n",
              "    }\n",
              "\n",
              "    .colab-df-convert {\n",
              "      background-color: #E8F0FE;\n",
              "      border: none;\n",
              "      border-radius: 50%;\n",
              "      cursor: pointer;\n",
              "      display: none;\n",
              "      fill: #1967D2;\n",
              "      height: 32px;\n",
              "      padding: 0 0 0 0;\n",
              "      width: 32px;\n",
              "    }\n",
              "\n",
              "    .colab-df-convert:hover {\n",
              "      background-color: #E2EBFA;\n",
              "      box-shadow: 0px 1px 2px rgba(60, 64, 67, 0.3), 0px 1px 3px 1px rgba(60, 64, 67, 0.15);\n",
              "      fill: #174EA6;\n",
              "    }\n",
              "\n",
              "    [theme=dark] .colab-df-convert {\n",
              "      background-color: #3B4455;\n",
              "      fill: #D2E3FC;\n",
              "    }\n",
              "\n",
              "    [theme=dark] .colab-df-convert:hover {\n",
              "      background-color: #434B5C;\n",
              "      box-shadow: 0px 1px 3px 1px rgba(0, 0, 0, 0.15);\n",
              "      filter: drop-shadow(0px 1px 2px rgba(0, 0, 0, 0.3));\n",
              "      fill: #FFFFFF;\n",
              "    }\n",
              "  </style>\n",
              "\n",
              "      <script>\n",
              "        const buttonEl =\n",
              "          document.querySelector('#df-549244c2-13a6-4660-a3f5-c48bf15e1d4b button.colab-df-convert');\n",
              "        buttonEl.style.display =\n",
              "          google.colab.kernel.accessAllowed ? 'block' : 'none';\n",
              "\n",
              "        async function convertToInteractive(key) {\n",
              "          const element = document.querySelector('#df-549244c2-13a6-4660-a3f5-c48bf15e1d4b');\n",
              "          const dataTable =\n",
              "            await google.colab.kernel.invokeFunction('convertToInteractive',\n",
              "                                                     [key], {});\n",
              "          if (!dataTable) return;\n",
              "\n",
              "          const docLinkHtml = 'Like what you see? Visit the ' +\n",
              "            '<a target=\"_blank\" href=https://colab.research.google.com/notebooks/data_table.ipynb>data table notebook</a>'\n",
              "            + ' to learn more about interactive tables.';\n",
              "          element.innerHTML = '';\n",
              "          dataTable['output_type'] = 'display_data';\n",
              "          await google.colab.output.renderOutput(dataTable, element);\n",
              "          const docLink = document.createElement('div');\n",
              "          docLink.innerHTML = docLinkHtml;\n",
              "          element.appendChild(docLink);\n",
              "        }\n",
              "      </script>\n",
              "    </div>\n",
              "  </div>\n",
              "  "
            ]
          },
          "metadata": {},
          "execution_count": 52
        }
      ]
    },
    {
      "cell_type": "markdown",
      "source": [
        "**Let's separate the dependent and independent variables.**"
      ],
      "metadata": {
        "id": "eBudaLFqS3yj"
      }
    },
    {
      "cell_type": "code",
      "source": [
        "#separating the dependent and independent variables\n",
        "y=df['views']\n",
        "X=df.drop(columns='views')"
      ],
      "metadata": {
        "id": "tuJzlZ0HSrj2"
      },
      "execution_count": 53,
      "outputs": []
    },
    {
      "cell_type": "code",
      "source": [
        "X"
      ],
      "metadata": {
        "colab": {
          "base_uri": "https://localhost:8080/",
          "height": 424
        },
        "id": "rXkQ4PxNS0U9",
        "outputId": "9311ea52-2a9c-431a-d3f1-df5ec0d08dec"
      },
      "execution_count": 54,
      "outputs": [
        {
          "output_type": "execute_result",
          "data": {
            "text/plain": [
              "      comments  duration release_day release_month  speaker_1_avg_views  \\\n",
              "0        272.0     977.0     Tuesday          June           2190599.25   \n",
              "1        413.0    1190.0     Tuesday          June           3987156.10   \n",
              "2        124.0    1286.0     Tuesday          June           2156189.75   \n",
              "3        219.0    1116.0     Tuesday          June           1979411.00   \n",
              "4        413.0    1164.0     Tuesday          June           4129562.75   \n",
              "...        ...       ...         ...           ...                  ...   \n",
              "4000       6.0     690.0      Monday         April            856921.00   \n",
              "4001       NaN     346.0      Monday         April            307187.00   \n",
              "4002       9.0     774.0     Tuesday         April            464414.00   \n",
              "4003       NaN     257.0    Thursday         April             56582.00   \n",
              "4004       NaN     281.0    Thursday         April                 0.00   \n",
              "\n",
              "      event_wise_avg_views  num_of_lang  video_age  \n",
              "0             3.778944e+06         43.0         16  \n",
              "1             3.778944e+06         47.5         16  \n",
              "2             3.778944e+06         26.0         16  \n",
              "3             3.778944e+06         35.0         16  \n",
              "4             3.778944e+06         47.5         16  \n",
              "...                    ...          ...        ...  \n",
              "4000          6.772082e+05          3.5          2  \n",
              "4001          2.059996e+06          4.0          2  \n",
              "4002          1.556845e+06          3.5          2  \n",
              "4003          2.059996e+06          3.5          2  \n",
              "4004          2.059996e+06          3.5          2  \n",
              "\n",
              "[4005 rows x 8 columns]"
            ],
            "text/html": [
              "\n",
              "  <div id=\"df-6833d33f-6680-4135-a628-090b3f0b20a0\">\n",
              "    <div class=\"colab-df-container\">\n",
              "      <div>\n",
              "<style scoped>\n",
              "    .dataframe tbody tr th:only-of-type {\n",
              "        vertical-align: middle;\n",
              "    }\n",
              "\n",
              "    .dataframe tbody tr th {\n",
              "        vertical-align: top;\n",
              "    }\n",
              "\n",
              "    .dataframe thead th {\n",
              "        text-align: right;\n",
              "    }\n",
              "</style>\n",
              "<table border=\"1\" class=\"dataframe\">\n",
              "  <thead>\n",
              "    <tr style=\"text-align: right;\">\n",
              "      <th></th>\n",
              "      <th>comments</th>\n",
              "      <th>duration</th>\n",
              "      <th>release_day</th>\n",
              "      <th>release_month</th>\n",
              "      <th>speaker_1_avg_views</th>\n",
              "      <th>event_wise_avg_views</th>\n",
              "      <th>num_of_lang</th>\n",
              "      <th>video_age</th>\n",
              "    </tr>\n",
              "  </thead>\n",
              "  <tbody>\n",
              "    <tr>\n",
              "      <th>0</th>\n",
              "      <td>272.0</td>\n",
              "      <td>977.0</td>\n",
              "      <td>Tuesday</td>\n",
              "      <td>June</td>\n",
              "      <td>2190599.25</td>\n",
              "      <td>3.778944e+06</td>\n",
              "      <td>43.0</td>\n",
              "      <td>16</td>\n",
              "    </tr>\n",
              "    <tr>\n",
              "      <th>1</th>\n",
              "      <td>413.0</td>\n",
              "      <td>1190.0</td>\n",
              "      <td>Tuesday</td>\n",
              "      <td>June</td>\n",
              "      <td>3987156.10</td>\n",
              "      <td>3.778944e+06</td>\n",
              "      <td>47.5</td>\n",
              "      <td>16</td>\n",
              "    </tr>\n",
              "    <tr>\n",
              "      <th>2</th>\n",
              "      <td>124.0</td>\n",
              "      <td>1286.0</td>\n",
              "      <td>Tuesday</td>\n",
              "      <td>June</td>\n",
              "      <td>2156189.75</td>\n",
              "      <td>3.778944e+06</td>\n",
              "      <td>26.0</td>\n",
              "      <td>16</td>\n",
              "    </tr>\n",
              "    <tr>\n",
              "      <th>3</th>\n",
              "      <td>219.0</td>\n",
              "      <td>1116.0</td>\n",
              "      <td>Tuesday</td>\n",
              "      <td>June</td>\n",
              "      <td>1979411.00</td>\n",
              "      <td>3.778944e+06</td>\n",
              "      <td>35.0</td>\n",
              "      <td>16</td>\n",
              "    </tr>\n",
              "    <tr>\n",
              "      <th>4</th>\n",
              "      <td>413.0</td>\n",
              "      <td>1164.0</td>\n",
              "      <td>Tuesday</td>\n",
              "      <td>June</td>\n",
              "      <td>4129562.75</td>\n",
              "      <td>3.778944e+06</td>\n",
              "      <td>47.5</td>\n",
              "      <td>16</td>\n",
              "    </tr>\n",
              "    <tr>\n",
              "      <th>...</th>\n",
              "      <td>...</td>\n",
              "      <td>...</td>\n",
              "      <td>...</td>\n",
              "      <td>...</td>\n",
              "      <td>...</td>\n",
              "      <td>...</td>\n",
              "      <td>...</td>\n",
              "      <td>...</td>\n",
              "    </tr>\n",
              "    <tr>\n",
              "      <th>4000</th>\n",
              "      <td>6.0</td>\n",
              "      <td>690.0</td>\n",
              "      <td>Monday</td>\n",
              "      <td>April</td>\n",
              "      <td>856921.00</td>\n",
              "      <td>6.772082e+05</td>\n",
              "      <td>3.5</td>\n",
              "      <td>2</td>\n",
              "    </tr>\n",
              "    <tr>\n",
              "      <th>4001</th>\n",
              "      <td>NaN</td>\n",
              "      <td>346.0</td>\n",
              "      <td>Monday</td>\n",
              "      <td>April</td>\n",
              "      <td>307187.00</td>\n",
              "      <td>2.059996e+06</td>\n",
              "      <td>4.0</td>\n",
              "      <td>2</td>\n",
              "    </tr>\n",
              "    <tr>\n",
              "      <th>4002</th>\n",
              "      <td>9.0</td>\n",
              "      <td>774.0</td>\n",
              "      <td>Tuesday</td>\n",
              "      <td>April</td>\n",
              "      <td>464414.00</td>\n",
              "      <td>1.556845e+06</td>\n",
              "      <td>3.5</td>\n",
              "      <td>2</td>\n",
              "    </tr>\n",
              "    <tr>\n",
              "      <th>4003</th>\n",
              "      <td>NaN</td>\n",
              "      <td>257.0</td>\n",
              "      <td>Thursday</td>\n",
              "      <td>April</td>\n",
              "      <td>56582.00</td>\n",
              "      <td>2.059996e+06</td>\n",
              "      <td>3.5</td>\n",
              "      <td>2</td>\n",
              "    </tr>\n",
              "    <tr>\n",
              "      <th>4004</th>\n",
              "      <td>NaN</td>\n",
              "      <td>281.0</td>\n",
              "      <td>Thursday</td>\n",
              "      <td>April</td>\n",
              "      <td>0.00</td>\n",
              "      <td>2.059996e+06</td>\n",
              "      <td>3.5</td>\n",
              "      <td>2</td>\n",
              "    </tr>\n",
              "  </tbody>\n",
              "</table>\n",
              "<p>4005 rows × 8 columns</p>\n",
              "</div>\n",
              "      <button class=\"colab-df-convert\" onclick=\"convertToInteractive('df-6833d33f-6680-4135-a628-090b3f0b20a0')\"\n",
              "              title=\"Convert this dataframe to an interactive table.\"\n",
              "              style=\"display:none;\">\n",
              "        \n",
              "  <svg xmlns=\"http://www.w3.org/2000/svg\" height=\"24px\"viewBox=\"0 0 24 24\"\n",
              "       width=\"24px\">\n",
              "    <path d=\"M0 0h24v24H0V0z\" fill=\"none\"/>\n",
              "    <path d=\"M18.56 5.44l.94 2.06.94-2.06 2.06-.94-2.06-.94-.94-2.06-.94 2.06-2.06.94zm-11 1L8.5 8.5l.94-2.06 2.06-.94-2.06-.94L8.5 2.5l-.94 2.06-2.06.94zm10 10l.94 2.06.94-2.06 2.06-.94-2.06-.94-.94-2.06-.94 2.06-2.06.94z\"/><path d=\"M17.41 7.96l-1.37-1.37c-.4-.4-.92-.59-1.43-.59-.52 0-1.04.2-1.43.59L10.3 9.45l-7.72 7.72c-.78.78-.78 2.05 0 2.83L4 21.41c.39.39.9.59 1.41.59.51 0 1.02-.2 1.41-.59l7.78-7.78 2.81-2.81c.8-.78.8-2.07 0-2.86zM5.41 20L4 18.59l7.72-7.72 1.47 1.35L5.41 20z\"/>\n",
              "  </svg>\n",
              "      </button>\n",
              "      \n",
              "  <style>\n",
              "    .colab-df-container {\n",
              "      display:flex;\n",
              "      flex-wrap:wrap;\n",
              "      gap: 12px;\n",
              "    }\n",
              "\n",
              "    .colab-df-convert {\n",
              "      background-color: #E8F0FE;\n",
              "      border: none;\n",
              "      border-radius: 50%;\n",
              "      cursor: pointer;\n",
              "      display: none;\n",
              "      fill: #1967D2;\n",
              "      height: 32px;\n",
              "      padding: 0 0 0 0;\n",
              "      width: 32px;\n",
              "    }\n",
              "\n",
              "    .colab-df-convert:hover {\n",
              "      background-color: #E2EBFA;\n",
              "      box-shadow: 0px 1px 2px rgba(60, 64, 67, 0.3), 0px 1px 3px 1px rgba(60, 64, 67, 0.15);\n",
              "      fill: #174EA6;\n",
              "    }\n",
              "\n",
              "    [theme=dark] .colab-df-convert {\n",
              "      background-color: #3B4455;\n",
              "      fill: #D2E3FC;\n",
              "    }\n",
              "\n",
              "    [theme=dark] .colab-df-convert:hover {\n",
              "      background-color: #434B5C;\n",
              "      box-shadow: 0px 1px 3px 1px rgba(0, 0, 0, 0.15);\n",
              "      filter: drop-shadow(0px 1px 2px rgba(0, 0, 0, 0.3));\n",
              "      fill: #FFFFFF;\n",
              "    }\n",
              "  </style>\n",
              "\n",
              "      <script>\n",
              "        const buttonEl =\n",
              "          document.querySelector('#df-6833d33f-6680-4135-a628-090b3f0b20a0 button.colab-df-convert');\n",
              "        buttonEl.style.display =\n",
              "          google.colab.kernel.accessAllowed ? 'block' : 'none';\n",
              "\n",
              "        async function convertToInteractive(key) {\n",
              "          const element = document.querySelector('#df-6833d33f-6680-4135-a628-090b3f0b20a0');\n",
              "          const dataTable =\n",
              "            await google.colab.kernel.invokeFunction('convertToInteractive',\n",
              "                                                     [key], {});\n",
              "          if (!dataTable) return;\n",
              "\n",
              "          const docLinkHtml = 'Like what you see? Visit the ' +\n",
              "            '<a target=\"_blank\" href=https://colab.research.google.com/notebooks/data_table.ipynb>data table notebook</a>'\n",
              "            + ' to learn more about interactive tables.';\n",
              "          element.innerHTML = '';\n",
              "          dataTable['output_type'] = 'display_data';\n",
              "          await google.colab.output.renderOutput(dataTable, element);\n",
              "          const docLink = document.createElement('div');\n",
              "          docLink.innerHTML = docLinkHtml;\n",
              "          element.appendChild(docLink);\n",
              "        }\n",
              "      </script>\n",
              "    </div>\n",
              "  </div>\n",
              "  "
            ]
          },
          "metadata": {},
          "execution_count": 54
        }
      ]
    },
    {
      "cell_type": "markdown",
      "source": [
        "**Doing one hot encoding using get_dummies function.**"
      ],
      "metadata": {
        "id": "RDmtfQ-6TCbi"
      }
    },
    {
      "cell_type": "code",
      "source": [
        "#one hot encoding on categorical features\n",
        "X=pd.get_dummies(X)\n",
        "X.shape"
      ],
      "metadata": {
        "colab": {
          "base_uri": "https://localhost:8080/"
        },
        "id": "2ryi7w2xS9ot",
        "outputId": "5da62f63-e476-4628-c869-85fc57ee70e6"
      },
      "execution_count": 55,
      "outputs": [
        {
          "output_type": "execute_result",
          "data": {
            "text/plain": [
              "(4005, 25)"
            ]
          },
          "metadata": {},
          "execution_count": 55
        }
      ]
    },
    {
      "cell_type": "code",
      "source": [
        "X.head()"
      ],
      "metadata": {
        "colab": {
          "base_uri": "https://localhost:8080/",
          "height": 270
        },
        "id": "cn7u1bdETGH5",
        "outputId": "c3482566-e5d2-4260-8c05-2ca91f847c80"
      },
      "execution_count": 56,
      "outputs": [
        {
          "output_type": "execute_result",
          "data": {
            "text/plain": [
              "   comments  duration  speaker_1_avg_views  event_wise_avg_views  num_of_lang  \\\n",
              "0     272.0     977.0           2190599.25          3.778944e+06         43.0   \n",
              "1     413.0    1190.0           3987156.10          3.778944e+06         47.5   \n",
              "2     124.0    1286.0           2156189.75          3.778944e+06         26.0   \n",
              "3     219.0    1116.0           1979411.00          3.778944e+06         35.0   \n",
              "4     413.0    1164.0           4129562.75          3.778944e+06         47.5   \n",
              "\n",
              "   video_age  release_day_Friday  release_day_Monday  release_day_Saturday  \\\n",
              "0         16                   0                   0                     0   \n",
              "1         16                   0                   0                     0   \n",
              "2         16                   0                   0                     0   \n",
              "3         16                   0                   0                     0   \n",
              "4         16                   0                   0                     0   \n",
              "\n",
              "   release_day_Sunday  release_day_Thursday  release_day_Tuesday  \\\n",
              "0                   0                     0                    1   \n",
              "1                   0                     0                    1   \n",
              "2                   0                     0                    1   \n",
              "3                   0                     0                    1   \n",
              "4                   0                     0                    1   \n",
              "\n",
              "   release_day_Wednesday  release_month_April  release_month_Aug  \\\n",
              "0                      0                    0                  0   \n",
              "1                      0                    0                  0   \n",
              "2                      0                    0                  0   \n",
              "3                      0                    0                  0   \n",
              "4                      0                    0                  0   \n",
              "\n",
              "   release_month_Dec  release_month_Feb  release_month_Jan  \\\n",
              "0                  0                  0                  0   \n",
              "1                  0                  0                  0   \n",
              "2                  0                  0                  0   \n",
              "3                  0                  0                  0   \n",
              "4                  0                  0                  0   \n",
              "\n",
              "   release_month_July  release_month_June  release_month_March  \\\n",
              "0                   0                   1                    0   \n",
              "1                   0                   1                    0   \n",
              "2                   0                   1                    0   \n",
              "3                   0                   1                    0   \n",
              "4                   0                   1                    0   \n",
              "\n",
              "   release_month_May  release_month_Nov  release_month_Oct  release_month_Sep  \n",
              "0                  0                  0                  0                  0  \n",
              "1                  0                  0                  0                  0  \n",
              "2                  0                  0                  0                  0  \n",
              "3                  0                  0                  0                  0  \n",
              "4                  0                  0                  0                  0  "
            ],
            "text/html": [
              "\n",
              "  <div id=\"df-d84d7561-b0ac-456d-9a5c-79d10b86b655\">\n",
              "    <div class=\"colab-df-container\">\n",
              "      <div>\n",
              "<style scoped>\n",
              "    .dataframe tbody tr th:only-of-type {\n",
              "        vertical-align: middle;\n",
              "    }\n",
              "\n",
              "    .dataframe tbody tr th {\n",
              "        vertical-align: top;\n",
              "    }\n",
              "\n",
              "    .dataframe thead th {\n",
              "        text-align: right;\n",
              "    }\n",
              "</style>\n",
              "<table border=\"1\" class=\"dataframe\">\n",
              "  <thead>\n",
              "    <tr style=\"text-align: right;\">\n",
              "      <th></th>\n",
              "      <th>comments</th>\n",
              "      <th>duration</th>\n",
              "      <th>speaker_1_avg_views</th>\n",
              "      <th>event_wise_avg_views</th>\n",
              "      <th>num_of_lang</th>\n",
              "      <th>video_age</th>\n",
              "      <th>release_day_Friday</th>\n",
              "      <th>release_day_Monday</th>\n",
              "      <th>release_day_Saturday</th>\n",
              "      <th>release_day_Sunday</th>\n",
              "      <th>release_day_Thursday</th>\n",
              "      <th>release_day_Tuesday</th>\n",
              "      <th>release_day_Wednesday</th>\n",
              "      <th>release_month_April</th>\n",
              "      <th>release_month_Aug</th>\n",
              "      <th>release_month_Dec</th>\n",
              "      <th>release_month_Feb</th>\n",
              "      <th>release_month_Jan</th>\n",
              "      <th>release_month_July</th>\n",
              "      <th>release_month_June</th>\n",
              "      <th>release_month_March</th>\n",
              "      <th>release_month_May</th>\n",
              "      <th>release_month_Nov</th>\n",
              "      <th>release_month_Oct</th>\n",
              "      <th>release_month_Sep</th>\n",
              "    </tr>\n",
              "  </thead>\n",
              "  <tbody>\n",
              "    <tr>\n",
              "      <th>0</th>\n",
              "      <td>272.0</td>\n",
              "      <td>977.0</td>\n",
              "      <td>2190599.25</td>\n",
              "      <td>3.778944e+06</td>\n",
              "      <td>43.0</td>\n",
              "      <td>16</td>\n",
              "      <td>0</td>\n",
              "      <td>0</td>\n",
              "      <td>0</td>\n",
              "      <td>0</td>\n",
              "      <td>0</td>\n",
              "      <td>1</td>\n",
              "      <td>0</td>\n",
              "      <td>0</td>\n",
              "      <td>0</td>\n",
              "      <td>0</td>\n",
              "      <td>0</td>\n",
              "      <td>0</td>\n",
              "      <td>0</td>\n",
              "      <td>1</td>\n",
              "      <td>0</td>\n",
              "      <td>0</td>\n",
              "      <td>0</td>\n",
              "      <td>0</td>\n",
              "      <td>0</td>\n",
              "    </tr>\n",
              "    <tr>\n",
              "      <th>1</th>\n",
              "      <td>413.0</td>\n",
              "      <td>1190.0</td>\n",
              "      <td>3987156.10</td>\n",
              "      <td>3.778944e+06</td>\n",
              "      <td>47.5</td>\n",
              "      <td>16</td>\n",
              "      <td>0</td>\n",
              "      <td>0</td>\n",
              "      <td>0</td>\n",
              "      <td>0</td>\n",
              "      <td>0</td>\n",
              "      <td>1</td>\n",
              "      <td>0</td>\n",
              "      <td>0</td>\n",
              "      <td>0</td>\n",
              "      <td>0</td>\n",
              "      <td>0</td>\n",
              "      <td>0</td>\n",
              "      <td>0</td>\n",
              "      <td>1</td>\n",
              "      <td>0</td>\n",
              "      <td>0</td>\n",
              "      <td>0</td>\n",
              "      <td>0</td>\n",
              "      <td>0</td>\n",
              "    </tr>\n",
              "    <tr>\n",
              "      <th>2</th>\n",
              "      <td>124.0</td>\n",
              "      <td>1286.0</td>\n",
              "      <td>2156189.75</td>\n",
              "      <td>3.778944e+06</td>\n",
              "      <td>26.0</td>\n",
              "      <td>16</td>\n",
              "      <td>0</td>\n",
              "      <td>0</td>\n",
              "      <td>0</td>\n",
              "      <td>0</td>\n",
              "      <td>0</td>\n",
              "      <td>1</td>\n",
              "      <td>0</td>\n",
              "      <td>0</td>\n",
              "      <td>0</td>\n",
              "      <td>0</td>\n",
              "      <td>0</td>\n",
              "      <td>0</td>\n",
              "      <td>0</td>\n",
              "      <td>1</td>\n",
              "      <td>0</td>\n",
              "      <td>0</td>\n",
              "      <td>0</td>\n",
              "      <td>0</td>\n",
              "      <td>0</td>\n",
              "    </tr>\n",
              "    <tr>\n",
              "      <th>3</th>\n",
              "      <td>219.0</td>\n",
              "      <td>1116.0</td>\n",
              "      <td>1979411.00</td>\n",
              "      <td>3.778944e+06</td>\n",
              "      <td>35.0</td>\n",
              "      <td>16</td>\n",
              "      <td>0</td>\n",
              "      <td>0</td>\n",
              "      <td>0</td>\n",
              "      <td>0</td>\n",
              "      <td>0</td>\n",
              "      <td>1</td>\n",
              "      <td>0</td>\n",
              "      <td>0</td>\n",
              "      <td>0</td>\n",
              "      <td>0</td>\n",
              "      <td>0</td>\n",
              "      <td>0</td>\n",
              "      <td>0</td>\n",
              "      <td>1</td>\n",
              "      <td>0</td>\n",
              "      <td>0</td>\n",
              "      <td>0</td>\n",
              "      <td>0</td>\n",
              "      <td>0</td>\n",
              "    </tr>\n",
              "    <tr>\n",
              "      <th>4</th>\n",
              "      <td>413.0</td>\n",
              "      <td>1164.0</td>\n",
              "      <td>4129562.75</td>\n",
              "      <td>3.778944e+06</td>\n",
              "      <td>47.5</td>\n",
              "      <td>16</td>\n",
              "      <td>0</td>\n",
              "      <td>0</td>\n",
              "      <td>0</td>\n",
              "      <td>0</td>\n",
              "      <td>0</td>\n",
              "      <td>1</td>\n",
              "      <td>0</td>\n",
              "      <td>0</td>\n",
              "      <td>0</td>\n",
              "      <td>0</td>\n",
              "      <td>0</td>\n",
              "      <td>0</td>\n",
              "      <td>0</td>\n",
              "      <td>1</td>\n",
              "      <td>0</td>\n",
              "      <td>0</td>\n",
              "      <td>0</td>\n",
              "      <td>0</td>\n",
              "      <td>0</td>\n",
              "    </tr>\n",
              "  </tbody>\n",
              "</table>\n",
              "</div>\n",
              "      <button class=\"colab-df-convert\" onclick=\"convertToInteractive('df-d84d7561-b0ac-456d-9a5c-79d10b86b655')\"\n",
              "              title=\"Convert this dataframe to an interactive table.\"\n",
              "              style=\"display:none;\">\n",
              "        \n",
              "  <svg xmlns=\"http://www.w3.org/2000/svg\" height=\"24px\"viewBox=\"0 0 24 24\"\n",
              "       width=\"24px\">\n",
              "    <path d=\"M0 0h24v24H0V0z\" fill=\"none\"/>\n",
              "    <path d=\"M18.56 5.44l.94 2.06.94-2.06 2.06-.94-2.06-.94-.94-2.06-.94 2.06-2.06.94zm-11 1L8.5 8.5l.94-2.06 2.06-.94-2.06-.94L8.5 2.5l-.94 2.06-2.06.94zm10 10l.94 2.06.94-2.06 2.06-.94-2.06-.94-.94-2.06-.94 2.06-2.06.94z\"/><path d=\"M17.41 7.96l-1.37-1.37c-.4-.4-.92-.59-1.43-.59-.52 0-1.04.2-1.43.59L10.3 9.45l-7.72 7.72c-.78.78-.78 2.05 0 2.83L4 21.41c.39.39.9.59 1.41.59.51 0 1.02-.2 1.41-.59l7.78-7.78 2.81-2.81c.8-.78.8-2.07 0-2.86zM5.41 20L4 18.59l7.72-7.72 1.47 1.35L5.41 20z\"/>\n",
              "  </svg>\n",
              "      </button>\n",
              "      \n",
              "  <style>\n",
              "    .colab-df-container {\n",
              "      display:flex;\n",
              "      flex-wrap:wrap;\n",
              "      gap: 12px;\n",
              "    }\n",
              "\n",
              "    .colab-df-convert {\n",
              "      background-color: #E8F0FE;\n",
              "      border: none;\n",
              "      border-radius: 50%;\n",
              "      cursor: pointer;\n",
              "      display: none;\n",
              "      fill: #1967D2;\n",
              "      height: 32px;\n",
              "      padding: 0 0 0 0;\n",
              "      width: 32px;\n",
              "    }\n",
              "\n",
              "    .colab-df-convert:hover {\n",
              "      background-color: #E2EBFA;\n",
              "      box-shadow: 0px 1px 2px rgba(60, 64, 67, 0.3), 0px 1px 3px 1px rgba(60, 64, 67, 0.15);\n",
              "      fill: #174EA6;\n",
              "    }\n",
              "\n",
              "    [theme=dark] .colab-df-convert {\n",
              "      background-color: #3B4455;\n",
              "      fill: #D2E3FC;\n",
              "    }\n",
              "\n",
              "    [theme=dark] .colab-df-convert:hover {\n",
              "      background-color: #434B5C;\n",
              "      box-shadow: 0px 1px 3px 1px rgba(0, 0, 0, 0.15);\n",
              "      filter: drop-shadow(0px 1px 2px rgba(0, 0, 0, 0.3));\n",
              "      fill: #FFFFFF;\n",
              "    }\n",
              "  </style>\n",
              "\n",
              "      <script>\n",
              "        const buttonEl =\n",
              "          document.querySelector('#df-d84d7561-b0ac-456d-9a5c-79d10b86b655 button.colab-df-convert');\n",
              "        buttonEl.style.display =\n",
              "          google.colab.kernel.accessAllowed ? 'block' : 'none';\n",
              "\n",
              "        async function convertToInteractive(key) {\n",
              "          const element = document.querySelector('#df-d84d7561-b0ac-456d-9a5c-79d10b86b655');\n",
              "          const dataTable =\n",
              "            await google.colab.kernel.invokeFunction('convertToInteractive',\n",
              "                                                     [key], {});\n",
              "          if (!dataTable) return;\n",
              "\n",
              "          const docLinkHtml = 'Like what you see? Visit the ' +\n",
              "            '<a target=\"_blank\" href=https://colab.research.google.com/notebooks/data_table.ipynb>data table notebook</a>'\n",
              "            + ' to learn more about interactive tables.';\n",
              "          element.innerHTML = '';\n",
              "          dataTable['output_type'] = 'display_data';\n",
              "          await google.colab.output.renderOutput(dataTable, element);\n",
              "          const docLink = document.createElement('div');\n",
              "          docLink.innerHTML = docLinkHtml;\n",
              "          element.appendChild(docLink);\n",
              "        }\n",
              "      </script>\n",
              "    </div>\n",
              "  </div>\n",
              "  "
            ]
          },
          "metadata": {},
          "execution_count": 56
        }
      ]
    },
    {
      "cell_type": "markdown",
      "source": [
        "* **Now, we have around 25 features after one hot encoding.**\n",
        "* **Applying proper feature selection is must here to get rid of unimportant features.**"
      ],
      "metadata": {
        "id": "Xg6wfKRzTW7N"
      }
    },
    {
      "cell_type": "markdown",
      "source": [
        "## **Let's treat nan values of numerical columns using KNNImputer**"
      ],
      "metadata": {
        "id": "R0hArZNZTfPw"
      }
    },
    {
      "cell_type": "code",
      "source": [
        "#checking for null values\n",
        "X[['duration','comments']].isna().sum()"
      ],
      "metadata": {
        "colab": {
          "base_uri": "https://localhost:8080/"
        },
        "id": "1TCAuzjfTKOd",
        "outputId": "ae42afaf-6650-4ecf-d05f-800185bd7256"
      },
      "execution_count": 57,
      "outputs": [
        {
          "output_type": "execute_result",
          "data": {
            "text/plain": [
              "duration      0\n",
              "comments    655\n",
              "dtype: int64"
            ]
          },
          "metadata": {},
          "execution_count": 57
        }
      ]
    },
    {
      "cell_type": "markdown",
      "source": [
        "* **Here, we have around 655 NaN values in comments column.**\n",
        "* **Let's treat it using KNNImputer.**"
      ],
      "metadata": {
        "id": "NjcSJnYyTs_S"
      }
    },
    {
      "cell_type": "code",
      "source": [
        "#Taking features for using in KNNImputer\n",
        "outlier_df=['duration','comments','speaker_1_avg_views',\t'event_wise_avg_views']"
      ],
      "metadata": {
        "id": "tW6tOHFNTkpO"
      },
      "execution_count": 58,
      "outputs": []
    },
    {
      "cell_type": "code",
      "source": [
        "from sklearn.preprocessing import StandardScaler, MinMaxScaler"
      ],
      "metadata": {
        "id": "IuImzU2LHf4x"
      },
      "execution_count": 59,
      "outputs": []
    },
    {
      "cell_type": "code",
      "source": [
        "# Before applying KNNImputer, we have to scale features so avoid bias.\n",
        "scaler = MinMaxScaler()\n",
        "#Import libraries\n",
        "from sklearn.impute import KNNImputer\n",
        "# define imputer\n",
        "imputer = KNNImputer()\n",
        "#fitting the model\n",
        "imputer.fit(scaler.fit_transform(X[outlier_df]))\n",
        "# transform the dataset\n",
        "X[outlier_df] = imputer.transform(scaler.fit_transform(X[outlier_df]))\n",
        "#again applying inverse_transform on the data\n",
        "X[outlier_df] = scaler.inverse_transform(X[outlier_df])"
      ],
      "metadata": {
        "id": "XNPdJrrQT4RC"
      },
      "execution_count": 60,
      "outputs": []
    },
    {
      "cell_type": "code",
      "source": [
        "#let's check for nan values again\n",
        "X[['duration','comments']].isna().sum()"
      ],
      "metadata": {
        "colab": {
          "base_uri": "https://localhost:8080/"
        },
        "id": "vAi97s8hUHV2",
        "outputId": "698eaaa0-641c-443b-d889-d538962e2c34"
      },
      "execution_count": 61,
      "outputs": [
        {
          "output_type": "execute_result",
          "data": {
            "text/plain": [
              "duration    0\n",
              "comments    0\n",
              "dtype: int64"
            ]
          },
          "metadata": {},
          "execution_count": 61
        }
      ]
    },
    {
      "cell_type": "markdown",
      "source": [
        "* **Now we don't have any nan values in comments column.**"
      ],
      "metadata": {
        "id": "FIkLVOAXUVar"
      }
    },
    {
      "cell_type": "code",
      "source": [
        "X.head()"
      ],
      "metadata": {
        "colab": {
          "base_uri": "https://localhost:8080/",
          "height": 270
        },
        "id": "6BujW--GUU8m",
        "outputId": "a3f7b96b-ab08-4270-99be-21ff6e6f38db"
      },
      "execution_count": 62,
      "outputs": [
        {
          "output_type": "execute_result",
          "data": {
            "text/plain": [
              "   comments  duration  speaker_1_avg_views  event_wise_avg_views  num_of_lang  \\\n",
              "0     272.0     977.0           2190599.25          3.778944e+06         43.0   \n",
              "1     413.0    1190.0           3987156.10          3.778944e+06         47.5   \n",
              "2     124.0    1286.0           2156189.75          3.778944e+06         26.0   \n",
              "3     219.0    1116.0           1979411.00          3.778944e+06         35.0   \n",
              "4     413.0    1164.0           4129562.75          3.778944e+06         47.5   \n",
              "\n",
              "   video_age  release_day_Friday  release_day_Monday  release_day_Saturday  \\\n",
              "0         16                   0                   0                     0   \n",
              "1         16                   0                   0                     0   \n",
              "2         16                   0                   0                     0   \n",
              "3         16                   0                   0                     0   \n",
              "4         16                   0                   0                     0   \n",
              "\n",
              "   release_day_Sunday  release_day_Thursday  release_day_Tuesday  \\\n",
              "0                   0                     0                    1   \n",
              "1                   0                     0                    1   \n",
              "2                   0                     0                    1   \n",
              "3                   0                     0                    1   \n",
              "4                   0                     0                    1   \n",
              "\n",
              "   release_day_Wednesday  release_month_April  release_month_Aug  \\\n",
              "0                      0                    0                  0   \n",
              "1                      0                    0                  0   \n",
              "2                      0                    0                  0   \n",
              "3                      0                    0                  0   \n",
              "4                      0                    0                  0   \n",
              "\n",
              "   release_month_Dec  release_month_Feb  release_month_Jan  \\\n",
              "0                  0                  0                  0   \n",
              "1                  0                  0                  0   \n",
              "2                  0                  0                  0   \n",
              "3                  0                  0                  0   \n",
              "4                  0                  0                  0   \n",
              "\n",
              "   release_month_July  release_month_June  release_month_March  \\\n",
              "0                   0                   1                    0   \n",
              "1                   0                   1                    0   \n",
              "2                   0                   1                    0   \n",
              "3                   0                   1                    0   \n",
              "4                   0                   1                    0   \n",
              "\n",
              "   release_month_May  release_month_Nov  release_month_Oct  release_month_Sep  \n",
              "0                  0                  0                  0                  0  \n",
              "1                  0                  0                  0                  0  \n",
              "2                  0                  0                  0                  0  \n",
              "3                  0                  0                  0                  0  \n",
              "4                  0                  0                  0                  0  "
            ],
            "text/html": [
              "\n",
              "  <div id=\"df-3a67b913-0d2f-4c79-8e2b-ba97c911b48b\">\n",
              "    <div class=\"colab-df-container\">\n",
              "      <div>\n",
              "<style scoped>\n",
              "    .dataframe tbody tr th:only-of-type {\n",
              "        vertical-align: middle;\n",
              "    }\n",
              "\n",
              "    .dataframe tbody tr th {\n",
              "        vertical-align: top;\n",
              "    }\n",
              "\n",
              "    .dataframe thead th {\n",
              "        text-align: right;\n",
              "    }\n",
              "</style>\n",
              "<table border=\"1\" class=\"dataframe\">\n",
              "  <thead>\n",
              "    <tr style=\"text-align: right;\">\n",
              "      <th></th>\n",
              "      <th>comments</th>\n",
              "      <th>duration</th>\n",
              "      <th>speaker_1_avg_views</th>\n",
              "      <th>event_wise_avg_views</th>\n",
              "      <th>num_of_lang</th>\n",
              "      <th>video_age</th>\n",
              "      <th>release_day_Friday</th>\n",
              "      <th>release_day_Monday</th>\n",
              "      <th>release_day_Saturday</th>\n",
              "      <th>release_day_Sunday</th>\n",
              "      <th>release_day_Thursday</th>\n",
              "      <th>release_day_Tuesday</th>\n",
              "      <th>release_day_Wednesday</th>\n",
              "      <th>release_month_April</th>\n",
              "      <th>release_month_Aug</th>\n",
              "      <th>release_month_Dec</th>\n",
              "      <th>release_month_Feb</th>\n",
              "      <th>release_month_Jan</th>\n",
              "      <th>release_month_July</th>\n",
              "      <th>release_month_June</th>\n",
              "      <th>release_month_March</th>\n",
              "      <th>release_month_May</th>\n",
              "      <th>release_month_Nov</th>\n",
              "      <th>release_month_Oct</th>\n",
              "      <th>release_month_Sep</th>\n",
              "    </tr>\n",
              "  </thead>\n",
              "  <tbody>\n",
              "    <tr>\n",
              "      <th>0</th>\n",
              "      <td>272.0</td>\n",
              "      <td>977.0</td>\n",
              "      <td>2190599.25</td>\n",
              "      <td>3.778944e+06</td>\n",
              "      <td>43.0</td>\n",
              "      <td>16</td>\n",
              "      <td>0</td>\n",
              "      <td>0</td>\n",
              "      <td>0</td>\n",
              "      <td>0</td>\n",
              "      <td>0</td>\n",
              "      <td>1</td>\n",
              "      <td>0</td>\n",
              "      <td>0</td>\n",
              "      <td>0</td>\n",
              "      <td>0</td>\n",
              "      <td>0</td>\n",
              "      <td>0</td>\n",
              "      <td>0</td>\n",
              "      <td>1</td>\n",
              "      <td>0</td>\n",
              "      <td>0</td>\n",
              "      <td>0</td>\n",
              "      <td>0</td>\n",
              "      <td>0</td>\n",
              "    </tr>\n",
              "    <tr>\n",
              "      <th>1</th>\n",
              "      <td>413.0</td>\n",
              "      <td>1190.0</td>\n",
              "      <td>3987156.10</td>\n",
              "      <td>3.778944e+06</td>\n",
              "      <td>47.5</td>\n",
              "      <td>16</td>\n",
              "      <td>0</td>\n",
              "      <td>0</td>\n",
              "      <td>0</td>\n",
              "      <td>0</td>\n",
              "      <td>0</td>\n",
              "      <td>1</td>\n",
              "      <td>0</td>\n",
              "      <td>0</td>\n",
              "      <td>0</td>\n",
              "      <td>0</td>\n",
              "      <td>0</td>\n",
              "      <td>0</td>\n",
              "      <td>0</td>\n",
              "      <td>1</td>\n",
              "      <td>0</td>\n",
              "      <td>0</td>\n",
              "      <td>0</td>\n",
              "      <td>0</td>\n",
              "      <td>0</td>\n",
              "    </tr>\n",
              "    <tr>\n",
              "      <th>2</th>\n",
              "      <td>124.0</td>\n",
              "      <td>1286.0</td>\n",
              "      <td>2156189.75</td>\n",
              "      <td>3.778944e+06</td>\n",
              "      <td>26.0</td>\n",
              "      <td>16</td>\n",
              "      <td>0</td>\n",
              "      <td>0</td>\n",
              "      <td>0</td>\n",
              "      <td>0</td>\n",
              "      <td>0</td>\n",
              "      <td>1</td>\n",
              "      <td>0</td>\n",
              "      <td>0</td>\n",
              "      <td>0</td>\n",
              "      <td>0</td>\n",
              "      <td>0</td>\n",
              "      <td>0</td>\n",
              "      <td>0</td>\n",
              "      <td>1</td>\n",
              "      <td>0</td>\n",
              "      <td>0</td>\n",
              "      <td>0</td>\n",
              "      <td>0</td>\n",
              "      <td>0</td>\n",
              "    </tr>\n",
              "    <tr>\n",
              "      <th>3</th>\n",
              "      <td>219.0</td>\n",
              "      <td>1116.0</td>\n",
              "      <td>1979411.00</td>\n",
              "      <td>3.778944e+06</td>\n",
              "      <td>35.0</td>\n",
              "      <td>16</td>\n",
              "      <td>0</td>\n",
              "      <td>0</td>\n",
              "      <td>0</td>\n",
              "      <td>0</td>\n",
              "      <td>0</td>\n",
              "      <td>1</td>\n",
              "      <td>0</td>\n",
              "      <td>0</td>\n",
              "      <td>0</td>\n",
              "      <td>0</td>\n",
              "      <td>0</td>\n",
              "      <td>0</td>\n",
              "      <td>0</td>\n",
              "      <td>1</td>\n",
              "      <td>0</td>\n",
              "      <td>0</td>\n",
              "      <td>0</td>\n",
              "      <td>0</td>\n",
              "      <td>0</td>\n",
              "    </tr>\n",
              "    <tr>\n",
              "      <th>4</th>\n",
              "      <td>413.0</td>\n",
              "      <td>1164.0</td>\n",
              "      <td>4129562.75</td>\n",
              "      <td>3.778944e+06</td>\n",
              "      <td>47.5</td>\n",
              "      <td>16</td>\n",
              "      <td>0</td>\n",
              "      <td>0</td>\n",
              "      <td>0</td>\n",
              "      <td>0</td>\n",
              "      <td>0</td>\n",
              "      <td>1</td>\n",
              "      <td>0</td>\n",
              "      <td>0</td>\n",
              "      <td>0</td>\n",
              "      <td>0</td>\n",
              "      <td>0</td>\n",
              "      <td>0</td>\n",
              "      <td>0</td>\n",
              "      <td>1</td>\n",
              "      <td>0</td>\n",
              "      <td>0</td>\n",
              "      <td>0</td>\n",
              "      <td>0</td>\n",
              "      <td>0</td>\n",
              "    </tr>\n",
              "  </tbody>\n",
              "</table>\n",
              "</div>\n",
              "      <button class=\"colab-df-convert\" onclick=\"convertToInteractive('df-3a67b913-0d2f-4c79-8e2b-ba97c911b48b')\"\n",
              "              title=\"Convert this dataframe to an interactive table.\"\n",
              "              style=\"display:none;\">\n",
              "        \n",
              "  <svg xmlns=\"http://www.w3.org/2000/svg\" height=\"24px\"viewBox=\"0 0 24 24\"\n",
              "       width=\"24px\">\n",
              "    <path d=\"M0 0h24v24H0V0z\" fill=\"none\"/>\n",
              "    <path d=\"M18.56 5.44l.94 2.06.94-2.06 2.06-.94-2.06-.94-.94-2.06-.94 2.06-2.06.94zm-11 1L8.5 8.5l.94-2.06 2.06-.94-2.06-.94L8.5 2.5l-.94 2.06-2.06.94zm10 10l.94 2.06.94-2.06 2.06-.94-2.06-.94-.94-2.06-.94 2.06-2.06.94z\"/><path d=\"M17.41 7.96l-1.37-1.37c-.4-.4-.92-.59-1.43-.59-.52 0-1.04.2-1.43.59L10.3 9.45l-7.72 7.72c-.78.78-.78 2.05 0 2.83L4 21.41c.39.39.9.59 1.41.59.51 0 1.02-.2 1.41-.59l7.78-7.78 2.81-2.81c.8-.78.8-2.07 0-2.86zM5.41 20L4 18.59l7.72-7.72 1.47 1.35L5.41 20z\"/>\n",
              "  </svg>\n",
              "      </button>\n",
              "      \n",
              "  <style>\n",
              "    .colab-df-container {\n",
              "      display:flex;\n",
              "      flex-wrap:wrap;\n",
              "      gap: 12px;\n",
              "    }\n",
              "\n",
              "    .colab-df-convert {\n",
              "      background-color: #E8F0FE;\n",
              "      border: none;\n",
              "      border-radius: 50%;\n",
              "      cursor: pointer;\n",
              "      display: none;\n",
              "      fill: #1967D2;\n",
              "      height: 32px;\n",
              "      padding: 0 0 0 0;\n",
              "      width: 32px;\n",
              "    }\n",
              "\n",
              "    .colab-df-convert:hover {\n",
              "      background-color: #E2EBFA;\n",
              "      box-shadow: 0px 1px 2px rgba(60, 64, 67, 0.3), 0px 1px 3px 1px rgba(60, 64, 67, 0.15);\n",
              "      fill: #174EA6;\n",
              "    }\n",
              "\n",
              "    [theme=dark] .colab-df-convert {\n",
              "      background-color: #3B4455;\n",
              "      fill: #D2E3FC;\n",
              "    }\n",
              "\n",
              "    [theme=dark] .colab-df-convert:hover {\n",
              "      background-color: #434B5C;\n",
              "      box-shadow: 0px 1px 3px 1px rgba(0, 0, 0, 0.15);\n",
              "      filter: drop-shadow(0px 1px 2px rgba(0, 0, 0, 0.3));\n",
              "      fill: #FFFFFF;\n",
              "    }\n",
              "  </style>\n",
              "\n",
              "      <script>\n",
              "        const buttonEl =\n",
              "          document.querySelector('#df-3a67b913-0d2f-4c79-8e2b-ba97c911b48b button.colab-df-convert');\n",
              "        buttonEl.style.display =\n",
              "          google.colab.kernel.accessAllowed ? 'block' : 'none';\n",
              "\n",
              "        async function convertToInteractive(key) {\n",
              "          const element = document.querySelector('#df-3a67b913-0d2f-4c79-8e2b-ba97c911b48b');\n",
              "          const dataTable =\n",
              "            await google.colab.kernel.invokeFunction('convertToInteractive',\n",
              "                                                     [key], {});\n",
              "          if (!dataTable) return;\n",
              "\n",
              "          const docLinkHtml = 'Like what you see? Visit the ' +\n",
              "            '<a target=\"_blank\" href=https://colab.research.google.com/notebooks/data_table.ipynb>data table notebook</a>'\n",
              "            + ' to learn more about interactive tables.';\n",
              "          element.innerHTML = '';\n",
              "          dataTable['output_type'] = 'display_data';\n",
              "          await google.colab.output.renderOutput(dataTable, element);\n",
              "          const docLink = document.createElement('div');\n",
              "          docLink.innerHTML = docLinkHtml;\n",
              "          element.appendChild(docLink);\n",
              "        }\n",
              "      </script>\n",
              "    </div>\n",
              "  </div>\n",
              "  "
            ]
          },
          "metadata": {},
          "execution_count": 62
        }
      ]
    },
    {
      "cell_type": "markdown",
      "source": [
        "# **6. Feature Selection**"
      ],
      "metadata": {
        "id": "tatrtF4eMTf5"
      }
    },
    {
      "cell_type": "code",
      "source": [
        "#printing the shape of features\n",
        "X.shape"
      ],
      "metadata": {
        "id": "cCOyKbCZVH6G",
        "colab": {
          "base_uri": "https://localhost:8080/"
        },
        "outputId": "9343af1a-50f8-4989-f97a-1097f17a8976"
      },
      "execution_count": 63,
      "outputs": [
        {
          "output_type": "execute_result",
          "data": {
            "text/plain": [
              "(4005, 25)"
            ]
          },
          "metadata": {},
          "execution_count": 63
        }
      ]
    },
    {
      "cell_type": "markdown",
      "source": [
        "## **Feature selection for numerical features using f_regression.**"
      ],
      "metadata": {
        "id": "03_9mJexNTbJ"
      }
    },
    {
      "cell_type": "code",
      "source": [
        "#importing the libraries\n",
        "from sklearn.feature_selection import SelectKBest\n",
        "from sklearn.feature_selection import f_regression"
      ],
      "metadata": {
        "id": "jE9fR_WyMWzF"
      },
      "execution_count": 64,
      "outputs": []
    },
    {
      "cell_type": "code",
      "source": [
        "#finding the f scores of each features\n",
        "f_scores = f_regression(X, y)\n",
        "f_scores"
      ],
      "metadata": {
        "colab": {
          "base_uri": "https://localhost:8080/"
        },
        "id": "_-MQV-5DNZQZ",
        "outputId": "bae98164-3aaa-4897-ece6-f9a4c34caaf2"
      },
      "execution_count": 65,
      "outputs": [
        {
          "output_type": "execute_result",
          "data": {
            "text/plain": [
              "(array([1.56930257e+03, 3.63920086e+01, 1.61894391e+04, 6.21645241e+02,\n",
              "        9.43117088e+02, 7.26280093e-01, 4.93457071e+01, 2.14095360e+00,\n",
              "        1.69801520e+01, 1.32688878e+01, 4.22782469e+00, 1.54608611e+00,\n",
              "        5.17596240e-03, 4.42937898e+00, 5.29481408e-01, 3.19042540e+00,\n",
              "        9.10855944e-01, 3.61273001e+00, 1.59320065e+00, 7.00546927e-01,\n",
              "        1.20164944e+01, 3.34840829e+00, 3.24993722e+00, 6.69041425e+00,\n",
              "        1.59197663e+00]),\n",
              " array([7.27669071e-290, 1.75975910e-009, 0.00000000e+000, 1.13785436e-127,\n",
              "        3.67017071e-186, 3.94142602e-001, 2.51061953e-012, 1.43491232e-001,\n",
              "        3.85368618e-005, 2.73265521e-004, 3.98310726e-002, 2.13786984e-001,\n",
              "        9.42649939e-001, 3.53875418e-002, 4.66867525e-001, 7.41463988e-002,\n",
              "        3.39945041e-001, 5.74106856e-002, 2.06942978e-001, 4.02649944e-001,\n",
              "        5.32863676e-004, 6.73443607e-002, 7.15013746e-002, 9.72823723e-003,\n",
              "        2.07117470e-001]))"
            ]
          },
          "metadata": {},
          "execution_count": 65
        }
      ]
    },
    {
      "cell_type": "code",
      "source": [
        "#The second array consists of p-values that we need. let's plot it\n",
        "p_values= pd.Series(f_scores[1],index= X.columns)\n",
        "p_values.plot(kind='bar',color='pink',figsize=(16,6))\n",
        "plt.title('P-value scores for numerical features')\n",
        "plt.show()"
      ],
      "metadata": {
        "colab": {
          "base_uri": "https://localhost:8080/",
          "height": 503
        },
        "id": "cMDNSh2sNz-2",
        "outputId": "04b8de65-4ca8-4d27-882b-114520bb806b"
      },
      "execution_count": 66,
      "outputs": [
        {
          "output_type": "display_data",
          "data": {
            "text/plain": [
              "<Figure size 1152x432 with 1 Axes>"
            ],
            "image/png": "[encoded data removed]"
          },
          "metadata": {
            "needs_background": "light"
          }
        }
      ]
    },
    {
      "cell_type": "markdown",
      "source": [
        "* **From here using p value analysis we can drop those features having high p values.**"
      ],
      "metadata": {
        "id": "Z8PyvBV_N4QP"
      }
    },
    {
      "cell_type": "code",
      "source": [
        "X.columns"
      ],
      "metadata": {
        "colab": {
          "base_uri": "https://localhost:8080/"
        },
        "id": "4fi-4oMHN02V",
        "outputId": "b912572e-a7c4-45f5-a3c0-a34c407e208b"
      },
      "execution_count": 67,
      "outputs": [
        {
          "output_type": "execute_result",
          "data": {
            "text/plain": [
              "Index(['comments', 'duration', 'speaker_1_avg_views', 'event_wise_avg_views',\n",
              "       'num_of_lang', 'video_age', 'release_day_Friday', 'release_day_Monday',\n",
              "       'release_day_Saturday', 'release_day_Sunday', 'release_day_Thursday',\n",
              "       'release_day_Tuesday', 'release_day_Wednesday', 'release_month_April',\n",
              "       'release_month_Aug', 'release_month_Dec', 'release_month_Feb',\n",
              "       'release_month_Jan', 'release_month_July', 'release_month_June',\n",
              "       'release_month_March', 'release_month_May', 'release_month_Nov',\n",
              "       'release_month_Oct', 'release_month_Sep'],\n",
              "      dtype='object')"
            ]
          },
          "metadata": {},
          "execution_count": 67
        }
      ]
    },
    {
      "cell_type": "code",
      "source": [
        "#Let's take all the important features in a list.\n",
        "ll=['comments', 'duration', 'num_of_lang', \n",
        "       'release_day_Friday','speaker_1_avg_views',\t'event_wise_avg_views']\n",
        "len(ll)"
      ],
      "metadata": {
        "colab": {
          "base_uri": "https://localhost:8080/"
        },
        "id": "6pqeQ9gNN87L",
        "outputId": "1c0f69d9-febe-49d2-bd9d-83601d4ac6ba"
      },
      "execution_count": 68,
      "outputs": [
        {
          "output_type": "execute_result",
          "data": {
            "text/plain": [
              "6"
            ]
          },
          "metadata": {},
          "execution_count": 68
        }
      ]
    },
    {
      "cell_type": "code",
      "source": [
        "#let's take the important features\n",
        "X=X[ll]"
      ],
      "metadata": {
        "id": "pzFmSl9TOAOc"
      },
      "execution_count": 69,
      "outputs": []
    },
    {
      "cell_type": "markdown",
      "source": [
        "**Plotting the correlation matrix.**"
      ],
      "metadata": {
        "id": "LGudFihqOEwj"
      }
    },
    {
      "cell_type": "code",
      "source": [
        "# Lets look at the correlation matrix now.\n",
        "fig = plt.figure(figsize=(8,8))\n",
        "sns.heatmap(X.corr(),annot=True, cmap='Spectral_r')"
      ],
      "metadata": {
        "colab": {
          "base_uri": "https://localhost:8080/",
          "height": 606
        },
        "id": "8AYBvSdnODDZ",
        "outputId": "7075160a-9c34-4a08-a2c3-58fd686466bb"
      },
      "execution_count": 70,
      "outputs": [
        {
          "output_type": "execute_result",
          "data": {
            "text/plain": [
              "<matplotlib.axes._subplots.AxesSubplot at 0x7f15d5548450>"
            ]
          },
          "metadata": {},
          "execution_count": 70
        },
        {
          "output_type": "display_data",
          "data": {
            "text/plain": [
              "<Figure size 576x576 with 2 Axes>"
            ],
            "image/png": "[encoded data removed]"
          },
          "metadata": {
            "needs_background": "light"
          }
        }
      ]
    },
    {
      "cell_type": "markdown",
      "source": [
        "**Applying train test split**"
      ],
      "metadata": {
        "id": "1KVEd4YEOP_m"
      }
    },
    {
      "cell_type": "code",
      "source": [
        "from sklearn.model_selection import train_test_split, KFold"
      ],
      "metadata": {
        "id": "3mmoxlUBI9vK"
      },
      "execution_count": 71,
      "outputs": []
    },
    {
      "cell_type": "code",
      "source": [
        "X_train, X_test, y_train, y_test = train_test_split(X, y, test_size=0.3, random_state=42)"
      ],
      "metadata": {
        "id": "ocChbPKyOM4W"
      },
      "execution_count": 72,
      "outputs": []
    },
    {
      "cell_type": "markdown",
      "source": [
        "# **7. HyperParameter Tuning and modeling**"
      ],
      "metadata": {
        "id": "N2ivCFtROoGw"
      }
    },
    {
      "cell_type": "code",
      "source": [
        "#fitting the model\n",
        "from sklearn.linear_model import LinearRegression\n",
        "reg = LinearRegression().fit(X_train, y_train)"
      ],
      "metadata": {
        "id": "EfJaTbsOOnur"
      },
      "execution_count": 73,
      "outputs": []
    },
    {
      "cell_type": "code",
      "source": [
        "from sklearn.metrics import mean_squared_error, r2_score,mean_absolute_error"
      ],
      "metadata": {
        "id": "ZjzrWsJ9Jwri"
      },
      "execution_count": 74,
      "outputs": []
    },
    {
      "cell_type": "code",
      "source": [
        "#predicting the values for train and test set\n",
        "y_pred = reg.predict(X_train)\n",
        "y_test_pred = reg.predict(X_test)\n",
        " \n",
        "MSE  = mean_squared_error(y_test, y_test_pred)\n",
        "print(\"MSE on test is\" , MSE)\n",
        " \n",
        "RMSE = np.sqrt(MSE)\n",
        "print(\"RMSE on test is\" ,RMSE)\n",
        " \n",
        "y_pred = reg.predict(X_train)\n",
        "y_test_pred = reg.predict(X_test)\n",
        "print('Training MAE: {:0.2f}'.format(mean_absolute_error(y_train, y_pred)))\n",
        "print('Test MAE: {:0.2f}'.format(mean_absolute_error(y_test, y_test_pred)))"
      ],
      "metadata": {
        "colab": {
          "base_uri": "https://localhost:8080/"
        },
        "id": "6pdELCeyOTUx",
        "outputId": "51028e2b-c65a-4b29-f80e-417abc164f82"
      },
      "execution_count": 75,
      "outputs": [
        {
          "output_type": "stream",
          "name": "stdout",
          "text": [
            "MSE on test is 222175176405.42508\n",
            "RMSE on test is 471354.6185256119\n",
            "Training MAE: 268717.46\n",
            "Test MAE: 262289.16\n"
          ]
        }
      ]
    },
    {
      "cell_type": "markdown",
      "source": [
        "## **7.2 Random Forest Regressor**"
      ],
      "metadata": {
        "id": "JiUhXnYRO6-R"
      }
    },
    {
      "cell_type": "code",
      "source": [
        "from sklearn.ensemble import RandomForestRegressor, GradientBoostingRegressor, ExtraTreesRegressor"
      ],
      "metadata": {
        "id": "e3EqSslMOZzx"
      },
      "execution_count": 76,
      "outputs": []
    },
    {
      "cell_type": "code",
      "source": [
        "from sklearn import metrics"
      ],
      "metadata": {
        "id": "-FIue-hROfu4"
      },
      "execution_count": 77,
      "outputs": []
    },
    {
      "cell_type": "code",
      "source": [
        "#applying RandomForestRegressor on default parameters\n",
        "rf = RandomForestRegressor(criterion='mae')\n",
        "rf.fit(X_train, y_train)\n",
        "y_pred = rf.predict(X_train)\n",
        "y_test_pred = rf.predict(X_test)\n",
        "print('Training MAE: {:0.2f}'.format(metrics.mean_absolute_error(y_train, y_pred)))\n",
        "print('Test MAE: {:0.2f}'.format(metrics.mean_absolute_error(y_test, y_test_pred)))\n",
        "print('Target mean: {:0.2f}'.format(y.mean()))\n",
        "print('Target std: {:0.2f}'.format(y.std()))"
      ],
      "metadata": {
        "colab": {
          "base_uri": "https://localhost:8080/"
        },
        "id": "8du0Dd2qOzhl",
        "outputId": "d075f4e2-5fab-4c27-d435-431bb2ac7dea"
      },
      "execution_count": 78,
      "outputs": [
        {
          "output_type": "stream",
          "name": "stderr",
          "text": [
            "/usr/local/lib/python3.7/dist-packages/sklearn/ensemble/_forest.py:407: FutureWarning: Criterion 'mae' was deprecated in v1.0 and will be removed in version 1.2. Use `criterion='absolute_error'` which is equivalent.\n",
            "  FutureWarning,\n"
          ]
        },
        {
          "output_type": "stream",
          "name": "stdout",
          "text": [
            "Training MAE: 96576.05\n",
            "Test MAE: 231746.60\n",
            "Target mean: 1661354.12\n",
            "Target std: 1102595.71\n"
          ]
        }
      ]
    },
    {
      "cell_type": "markdown",
      "source": [
        "* **It's not a good score but we can improve by doing some feature selection and by hyperparameter tuning.**\n",
        "\n",
        "**Defining Parameter Dict for Hyperparameter Tuning**"
      ],
      "metadata": {
        "id": "5O0IYuPZPKhi"
      }
    },
    {
      "cell_type": "code",
      "source": [
        "#Random Forest Regressor param_dict\n",
        "n_estimators = [30,50,80,100,120,150]\n",
        "max_depth = [4,6,8,10,12]\n",
        "min_samples_split = [50,80,100,150,200]\n",
        "min_samples_leaf = [10,30,40,50,60,80]\n",
        "# HYperparameter Dict\n",
        "param_dict = {'n_estimators' : n_estimators,\n",
        "              'max_depth' : max_depth,\n",
        "              'min_samples_split' : min_samples_split,\n",
        "              'min_samples_leaf' : min_samples_leaf}"
      ],
      "metadata": {
        "id": "JtbV0i_0PHWQ"
      },
      "execution_count": 79,
      "outputs": []
    },
    {
      "cell_type": "markdown",
      "source": [
        "**1. Hyperparameter Tuning using Randomized Search CV**"
      ],
      "metadata": {
        "id": "N-IUPN69PdyY"
      }
    },
    {
      "cell_type": "code",
      "source": [
        "from sklearn.model_selection import RandomizedSearchCV"
      ],
      "metadata": {
        "id": "HX7Vvg-XO6xV"
      },
      "execution_count": 80,
      "outputs": []
    },
    {
      "cell_type": "code",
      "source": [
        "# Create an instance of the random forest regressor\n",
        "rf_model = RandomForestRegressor(criterion='mae')\n",
        " \n",
        "#RandomSearch\n",
        "rf_random = RandomizedSearchCV(rf_model,param_dict,verbose=0,cv=5)\n",
        "rf_random.fit(X_train,y_train)"
      ],
      "metadata": {
        "colab": {
          "base_uri": "https://localhost:8080/"
        },
        "id": "Lw-2mfqyPZig",
        "outputId": "d87b124f-30bc-41f6-a96f-9eac68a3ede5"
      },
      "execution_count": 81,
      "outputs": [
        {
          "output_type": "stream",
          "name": "stderr",
          "text": [
            "/usr/local/lib/python3.7/dist-packages/sklearn/ensemble/_forest.py:407: FutureWarning: Criterion 'mae' was deprecated in v1.0 and will be removed in version 1.2. Use `criterion='absolute_error'` which is equivalent.\n",
            "  FutureWarning,\n",
            "/usr/local/lib/python3.7/dist-packages/sklearn/ensemble/_forest.py:407: FutureWarning: Criterion 'mae' was deprecated in v1.0 and will be removed in version 1.2. Use `criterion='absolute_error'` which is equivalent.\n",
            "  FutureWarning,\n",
            "/usr/local/lib/python3.7/dist-packages/sklearn/ensemble/_forest.py:407: FutureWarning: Criterion 'mae' was deprecated in v1.0 and will be removed in version 1.2. Use `criterion='absolute_error'` which is equivalent.\n",
            "  FutureWarning,\n",
            "/usr/local/lib/python3.7/dist-packages/sklearn/ensemble/_forest.py:407: FutureWarning: Criterion 'mae' was deprecated in v1.0 and will be removed in version 1.2. Use `criterion='absolute_error'` which is equivalent.\n",
            "  FutureWarning,\n",
            "/usr/local/lib/python3.7/dist-packages/sklearn/ensemble/_forest.py:407: FutureWarning: Criterion 'mae' was deprecated in v1.0 and will be removed in version 1.2. Use `criterion='absolute_error'` which is equivalent.\n",
            "  FutureWarning,\n",
            "/usr/local/lib/python3.7/dist-packages/sklearn/ensemble/_forest.py:407: FutureWarning: Criterion 'mae' was deprecated in v1.0 and will be removed in version 1.2. Use `criterion='absolute_error'` which is equivalent.\n",
            "  FutureWarning,\n",
            "/usr/local/lib/python3.7/dist-packages/sklearn/ensemble/_forest.py:407: FutureWarning: Criterion 'mae' was deprecated in v1.0 and will be removed in version 1.2. Use `criterion='absolute_error'` which is equivalent.\n",
            "  FutureWarning,\n",
            "/usr/local/lib/python3.7/dist-packages/sklearn/ensemble/_forest.py:407: FutureWarning: Criterion 'mae' was deprecated in v1.0 and will be removed in version 1.2. Use `criterion='absolute_error'` which is equivalent.\n",
            "  FutureWarning,\n",
            "/usr/local/lib/python3.7/dist-packages/sklearn/ensemble/_forest.py:407: FutureWarning: Criterion 'mae' was deprecated in v1.0 and will be removed in version 1.2. Use `criterion='absolute_error'` which is equivalent.\n",
            "  FutureWarning,\n",
            "/usr/local/lib/python3.7/dist-packages/sklearn/ensemble/_forest.py:407: FutureWarning: Criterion 'mae' was deprecated in v1.0 and will be removed in version 1.2. Use `criterion='absolute_error'` which is equivalent.\n",
            "  FutureWarning,\n",
            "/usr/local/lib/python3.7/dist-packages/sklearn/ensemble/_forest.py:407: FutureWarning: Criterion 'mae' was deprecated in v1.0 and will be removed in version 1.2. Use `criterion='absolute_error'` which is equivalent.\n",
            "  FutureWarning,\n",
            "/usr/local/lib/python3.7/dist-packages/sklearn/ensemble/_forest.py:407: FutureWarning: Criterion 'mae' was deprecated in v1.0 and will be removed in version 1.2. Use `criterion='absolute_error'` which is equivalent.\n",
            "  FutureWarning,\n",
            "/usr/local/lib/python3.7/dist-packages/sklearn/ensemble/_forest.py:407: FutureWarning: Criterion 'mae' was deprecated in v1.0 and will be removed in version 1.2. Use `criterion='absolute_error'` which is equivalent.\n",
            "  FutureWarning,\n",
            "/usr/local/lib/python3.7/dist-packages/sklearn/ensemble/_forest.py:407: FutureWarning: Criterion 'mae' was deprecated in v1.0 and will be removed in version 1.2. Use `criterion='absolute_error'` which is equivalent.\n",
            "  FutureWarning,\n",
            "/usr/local/lib/python3.7/dist-packages/sklearn/ensemble/_forest.py:407: FutureWarning: Criterion 'mae' was deprecated in v1.0 and will be removed in version 1.2. Use `criterion='absolute_error'` which is equivalent.\n",
            "  FutureWarning,\n",
            "/usr/local/lib/python3.7/dist-packages/sklearn/ensemble/_forest.py:407: FutureWarning: Criterion 'mae' was deprecated in v1.0 and will be removed in version 1.2. Use `criterion='absolute_error'` which is equivalent.\n",
            "  FutureWarning,\n",
            "/usr/local/lib/python3.7/dist-packages/sklearn/ensemble/_forest.py:407: FutureWarning: Criterion 'mae' was deprecated in v1.0 and will be removed in version 1.2. Use `criterion='absolute_error'` which is equivalent.\n",
            "  FutureWarning,\n",
            "/usr/local/lib/python3.7/dist-packages/sklearn/ensemble/_forest.py:407: FutureWarning: Criterion 'mae' was deprecated in v1.0 and will be removed in version 1.2. Use `criterion='absolute_error'` which is equivalent.\n",
            "  FutureWarning,\n",
            "/usr/local/lib/python3.7/dist-packages/sklearn/ensemble/_forest.py:407: FutureWarning: Criterion 'mae' was deprecated in v1.0 and will be removed in version 1.2. Use `criterion='absolute_error'` which is equivalent.\n",
            "  FutureWarning,\n",
            "/usr/local/lib/python3.7/dist-packages/sklearn/ensemble/_forest.py:407: FutureWarning: Criterion 'mae' was deprecated in v1.0 and will be removed in version 1.2. Use `criterion='absolute_error'` which is equivalent.\n",
            "  FutureWarning,\n",
            "/usr/local/lib/python3.7/dist-packages/sklearn/ensemble/_forest.py:407: FutureWarning: Criterion 'mae' was deprecated in v1.0 and will be removed in version 1.2. Use `criterion='absolute_error'` which is equivalent.\n",
            "  FutureWarning,\n",
            "/usr/local/lib/python3.7/dist-packages/sklearn/ensemble/_forest.py:407: FutureWarning: Criterion 'mae' was deprecated in v1.0 and will be removed in version 1.2. Use `criterion='absolute_error'` which is equivalent.\n",
            "  FutureWarning,\n",
            "/usr/local/lib/python3.7/dist-packages/sklearn/ensemble/_forest.py:407: FutureWarning: Criterion 'mae' was deprecated in v1.0 and will be removed in version 1.2. Use `criterion='absolute_error'` which is equivalent.\n",
            "  FutureWarning,\n",
            "/usr/local/lib/python3.7/dist-packages/sklearn/ensemble/_forest.py:407: FutureWarning: Criterion 'mae' was deprecated in v1.0 and will be removed in version 1.2. Use `criterion='absolute_error'` which is equivalent.\n",
            "  FutureWarning,\n",
            "/usr/local/lib/python3.7/dist-packages/sklearn/ensemble/_forest.py:407: FutureWarning: Criterion 'mae' was deprecated in v1.0 and will be removed in version 1.2. Use `criterion='absolute_error'` which is equivalent.\n",
            "  FutureWarning,\n",
            "/usr/local/lib/python3.7/dist-packages/sklearn/ensemble/_forest.py:407: FutureWarning: Criterion 'mae' was deprecated in v1.0 and will be removed in version 1.2. Use `criterion='absolute_error'` which is equivalent.\n",
            "  FutureWarning,\n",
            "/usr/local/lib/python3.7/dist-packages/sklearn/ensemble/_forest.py:407: FutureWarning: Criterion 'mae' was deprecated in v1.0 and will be removed in version 1.2. Use `criterion='absolute_error'` which is equivalent.\n",
            "  FutureWarning,\n",
            "/usr/local/lib/python3.7/dist-packages/sklearn/ensemble/_forest.py:407: FutureWarning: Criterion 'mae' was deprecated in v1.0 and will be removed in version 1.2. Use `criterion='absolute_error'` which is equivalent.\n",
            "  FutureWarning,\n",
            "/usr/local/lib/python3.7/dist-packages/sklearn/ensemble/_forest.py:407: FutureWarning: Criterion 'mae' was deprecated in v1.0 and will be removed in version 1.2. Use `criterion='absolute_error'` which is equivalent.\n",
            "  FutureWarning,\n",
            "/usr/local/lib/python3.7/dist-packages/sklearn/ensemble/_forest.py:407: FutureWarning: Criterion 'mae' was deprecated in v1.0 and will be removed in version 1.2. Use `criterion='absolute_error'` which is equivalent.\n",
            "  FutureWarning,\n",
            "/usr/local/lib/python3.7/dist-packages/sklearn/ensemble/_forest.py:407: FutureWarning: Criterion 'mae' was deprecated in v1.0 and will be removed in version 1.2. Use `criterion='absolute_error'` which is equivalent.\n",
            "  FutureWarning,\n",
            "/usr/local/lib/python3.7/dist-packages/sklearn/ensemble/_forest.py:407: FutureWarning: Criterion 'mae' was deprecated in v1.0 and will be removed in version 1.2. Use `criterion='absolute_error'` which is equivalent.\n",
            "  FutureWarning,\n",
            "/usr/local/lib/python3.7/dist-packages/sklearn/ensemble/_forest.py:407: FutureWarning: Criterion 'mae' was deprecated in v1.0 and will be removed in version 1.2. Use `criterion='absolute_error'` which is equivalent.\n",
            "  FutureWarning,\n",
            "/usr/local/lib/python3.7/dist-packages/sklearn/ensemble/_forest.py:407: FutureWarning: Criterion 'mae' was deprecated in v1.0 and will be removed in version 1.2. Use `criterion='absolute_error'` which is equivalent.\n",
            "  FutureWarning,\n",
            "/usr/local/lib/python3.7/dist-packages/sklearn/ensemble/_forest.py:407: FutureWarning: Criterion 'mae' was deprecated in v1.0 and will be removed in version 1.2. Use `criterion='absolute_error'` which is equivalent.\n",
            "  FutureWarning,\n",
            "/usr/local/lib/python3.7/dist-packages/sklearn/ensemble/_forest.py:407: FutureWarning: Criterion 'mae' was deprecated in v1.0 and will be removed in version 1.2. Use `criterion='absolute_error'` which is equivalent.\n",
            "  FutureWarning,\n",
            "/usr/local/lib/python3.7/dist-packages/sklearn/ensemble/_forest.py:407: FutureWarning: Criterion 'mae' was deprecated in v1.0 and will be removed in version 1.2. Use `criterion='absolute_error'` which is equivalent.\n",
            "  FutureWarning,\n",
            "/usr/local/lib/python3.7/dist-packages/sklearn/ensemble/_forest.py:407: FutureWarning: Criterion 'mae' was deprecated in v1.0 and will be removed in version 1.2. Use `criterion='absolute_error'` which is equivalent.\n",
            "  FutureWarning,\n",
            "/usr/local/lib/python3.7/dist-packages/sklearn/ensemble/_forest.py:407: FutureWarning: Criterion 'mae' was deprecated in v1.0 and will be removed in version 1.2. Use `criterion='absolute_error'` which is equivalent.\n",
            "  FutureWarning,\n",
            "/usr/local/lib/python3.7/dist-packages/sklearn/ensemble/_forest.py:407: FutureWarning: Criterion 'mae' was deprecated in v1.0 and will be removed in version 1.2. Use `criterion='absolute_error'` which is equivalent.\n",
            "  FutureWarning,\n",
            "/usr/local/lib/python3.7/dist-packages/sklearn/ensemble/_forest.py:407: FutureWarning: Criterion 'mae' was deprecated in v1.0 and will be removed in version 1.2. Use `criterion='absolute_error'` which is equivalent.\n",
            "  FutureWarning,\n",
            "/usr/local/lib/python3.7/dist-packages/sklearn/ensemble/_forest.py:407: FutureWarning: Criterion 'mae' was deprecated in v1.0 and will be removed in version 1.2. Use `criterion='absolute_error'` which is equivalent.\n",
            "  FutureWarning,\n",
            "/usr/local/lib/python3.7/dist-packages/sklearn/ensemble/_forest.py:407: FutureWarning: Criterion 'mae' was deprecated in v1.0 and will be removed in version 1.2. Use `criterion='absolute_error'` which is equivalent.\n",
            "  FutureWarning,\n",
            "/usr/local/lib/python3.7/dist-packages/sklearn/ensemble/_forest.py:407: FutureWarning: Criterion 'mae' was deprecated in v1.0 and will be removed in version 1.2. Use `criterion='absolute_error'` which is equivalent.\n",
            "  FutureWarning,\n",
            "/usr/local/lib/python3.7/dist-packages/sklearn/ensemble/_forest.py:407: FutureWarning: Criterion 'mae' was deprecated in v1.0 and will be removed in version 1.2. Use `criterion='absolute_error'` which is equivalent.\n",
            "  FutureWarning,\n",
            "/usr/local/lib/python3.7/dist-packages/sklearn/ensemble/_forest.py:407: FutureWarning: Criterion 'mae' was deprecated in v1.0 and will be removed in version 1.2. Use `criterion='absolute_error'` which is equivalent.\n",
            "  FutureWarning,\n",
            "/usr/local/lib/python3.7/dist-packages/sklearn/ensemble/_forest.py:407: FutureWarning: Criterion 'mae' was deprecated in v1.0 and will be removed in version 1.2. Use `criterion='absolute_error'` which is equivalent.\n",
            "  FutureWarning,\n",
            "/usr/local/lib/python3.7/dist-packages/sklearn/ensemble/_forest.py:407: FutureWarning: Criterion 'mae' was deprecated in v1.0 and will be removed in version 1.2. Use `criterion='absolute_error'` which is equivalent.\n",
            "  FutureWarning,\n",
            "/usr/local/lib/python3.7/dist-packages/sklearn/ensemble/_forest.py:407: FutureWarning: Criterion 'mae' was deprecated in v1.0 and will be removed in version 1.2. Use `criterion='absolute_error'` which is equivalent.\n",
            "  FutureWarning,\n",
            "/usr/local/lib/python3.7/dist-packages/sklearn/ensemble/_forest.py:407: FutureWarning: Criterion 'mae' was deprecated in v1.0 and will be removed in version 1.2. Use `criterion='absolute_error'` which is equivalent.\n",
            "  FutureWarning,\n",
            "/usr/local/lib/python3.7/dist-packages/sklearn/ensemble/_forest.py:407: FutureWarning: Criterion 'mae' was deprecated in v1.0 and will be removed in version 1.2. Use `criterion='absolute_error'` which is equivalent.\n",
            "  FutureWarning,\n"
          ]
        },
        {
          "output_type": "execute_result",
          "data": {
            "text/plain": [
              "RandomizedSearchCV(cv=5, estimator=RandomForestRegressor(criterion='mae'),\n",
              "                   param_distributions={'max_depth': [4, 6, 8, 10, 12],\n",
              "                                        'min_samples_leaf': [10, 30, 40, 50, 60,\n",
              "                                                             80],\n",
              "                                        'min_samples_split': [50, 80, 100, 150,\n",
              "                                                              200],\n",
              "                                        'n_estimators': [30, 50, 80, 100, 120,\n",
              "                                                         150]})"
            ]
          },
          "metadata": {},
          "execution_count": 81
        }
      ]
    },
    {
      "cell_type": "code",
      "source": [
        "#finding the optimal model w.r.t. best_estimator_\n",
        "rf_optimal_model = rf_random.best_estimator_"
      ],
      "metadata": {
        "id": "k_XmjhcPPkZT"
      },
      "execution_count": 82,
      "outputs": []
    },
    {
      "cell_type": "code",
      "source": [
        "rf_optimal_model"
      ],
      "metadata": {
        "colab": {
          "base_uri": "https://localhost:8080/"
        },
        "id": "lV4aV6ATPxhX",
        "outputId": "d6231e74-5135-4b69-c3c2-5a2c9cda9a9b"
      },
      "execution_count": 83,
      "outputs": [
        {
          "output_type": "execute_result",
          "data": {
            "text/plain": [
              "RandomForestRegressor(criterion='mae', max_depth=4, min_samples_leaf=30,\n",
              "                      min_samples_split=50, n_estimators=120)"
            ]
          },
          "metadata": {},
          "execution_count": 83
        }
      ]
    },
    {
      "cell_type": "code",
      "source": [
        "#calculating the MAE on train and test set\n",
        "y_pred = rf_optimal_model.predict(X_train)\n",
        "y_test_pred = rf_optimal_model.predict(X_test)\n",
        "print('Training MAE: {:0.2f}'.format(metrics.mean_absolute_error(y_train, y_pred)))\n",
        "print('Test MAE: {:0.2f}'.format(metrics.mean_absolute_error(y_test, y_test_pred)))"
      ],
      "metadata": {
        "colab": {
          "base_uri": "https://localhost:8080/"
        },
        "id": "0_f4f4JOP2b-",
        "outputId": "62bcaa24-20ec-4cf7-ad26-c7b155f61c81"
      },
      "execution_count": 84,
      "outputs": [
        {
          "output_type": "stream",
          "name": "stdout",
          "text": [
            "Training MAE: 204689.99\n",
            "Test MAE: 212584.47\n"
          ]
        }
      ]
    },
    {
      "cell_type": "markdown",
      "source": [
        "## **7.3 Applying XGboost regressor model**"
      ],
      "metadata": {
        "id": "7SVYLEmkQeng"
      }
    },
    {
      "cell_type": "code",
      "source": [
        "#XGBoost Regressor\n",
        "# Number of trees\n",
        "n_estimators = [50,80,100]\n",
        "# Maximum depth of trees\n",
        "max_depth = [4,6,8]\n",
        "# Minimum number of samples required to split a node\n",
        "min_samples_split = [50,100,150]\n",
        "# Minimum number of samples required at each leaf node\n",
        "min_samples_leaf = [40,50]\n",
        "# HYperparameter Dict\n",
        "param_dict = {'n_estimators' : n_estimators,\n",
        "              'max_depth' : max_depth,\n",
        "              'min_samples_split' : min_samples_split,\n",
        "              'min_samples_leaf' : min_samples_leaf}"
      ],
      "metadata": {
        "id": "yLLdE9RKQTLz"
      },
      "execution_count": 85,
      "outputs": []
    },
    {
      "cell_type": "code",
      "source": [
        "from xgboost import XGBRegressor\n",
        "# Create an instance of the XGBoost\n",
        "xgb_model = XGBRegressor(learning_rate=0.1)\n",
        "#RandomSearch\n",
        "xgb_random = RandomizedSearchCV(xgb_model,param_dict,verbose=2,cv=5)\n",
        "xgb_random.fit(X_train,y_train)"
      ],
      "metadata": {
        "colab": {
          "base_uri": "https://localhost:8080/"
        },
        "id": "KyjFGOFCQRbZ",
        "outputId": "5d017319-e636-4b5b-bd46-c85fceb4c6c4"
      },
      "execution_count": 86,
      "outputs": [
        {
          "output_type": "stream",
          "name": "stdout",
          "text": [
            "Fitting 5 folds for each of 10 candidates, totalling 50 fits\n",
            "[08:04:29] WARNING: /workspace/src/objective/regression_obj.cu:152: reg:linear is now deprecated in favor of reg:squarederror.\n",
            "[CV] END max_depth=6, min_samples_leaf=50, min_samples_split=50, n_estimators=50; total time=   0.2s\n",
            "[08:04:29] WARNING: /workspace/src/objective/regression_obj.cu:152: reg:linear is now deprecated in favor of reg:squarederror.\n",
            "[CV] END max_depth=6, min_samples_leaf=50, min_samples_split=50, n_estimators=50; total time=   0.1s\n",
            "[08:04:29] WARNING: /workspace/src/objective/regression_obj.cu:152: reg:linear is now deprecated in favor of reg:squarederror.\n",
            "[CV] END max_depth=6, min_samples_leaf=50, min_samples_split=50, n_estimators=50; total time=   0.1s\n",
            "[08:04:29] WARNING: /workspace/src/objective/regression_obj.cu:152: reg:linear is now deprecated in favor of reg:squarederror.\n",
            "[CV] END max_depth=6, min_samples_leaf=50, min_samples_split=50, n_estimators=50; total time=   0.1s\n",
            "[08:04:29] WARNING: /workspace/src/objective/regression_obj.cu:152: reg:linear is now deprecated in favor of reg:squarederror.\n",
            "[CV] END max_depth=6, min_samples_leaf=50, min_samples_split=50, n_estimators=50; total time=   0.1s\n",
            "[08:04:29] WARNING: /workspace/src/objective/regression_obj.cu:152: reg:linear is now deprecated in favor of reg:squarederror.\n",
            "[CV] END max_depth=8, min_samples_leaf=50, min_samples_split=50, n_estimators=80; total time=   0.2s\n",
            "[08:04:29] WARNING: /workspace/src/objective/regression_obj.cu:152: reg:linear is now deprecated in favor of reg:squarederror.\n",
            "[CV] END max_depth=8, min_samples_leaf=50, min_samples_split=50, n_estimators=80; total time=   0.2s\n",
            "[08:04:30] WARNING: /workspace/src/objective/regression_obj.cu:152: reg:linear is now deprecated in favor of reg:squarederror.\n",
            "[CV] END max_depth=8, min_samples_leaf=50, min_samples_split=50, n_estimators=80; total time=   0.2s\n",
            "[08:04:30] WARNING: /workspace/src/objective/regression_obj.cu:152: reg:linear is now deprecated in favor of reg:squarederror.\n",
            "[CV] END max_depth=8, min_samples_leaf=50, min_samples_split=50, n_estimators=80; total time=   0.2s\n",
            "[08:04:30] WARNING: /workspace/src/objective/regression_obj.cu:152: reg:linear is now deprecated in favor of reg:squarederror.\n",
            "[CV] END max_depth=8, min_samples_leaf=50, min_samples_split=50, n_estimators=80; total time=   0.2s\n",
            "[08:04:30] WARNING: /workspace/src/objective/regression_obj.cu:152: reg:linear is now deprecated in favor of reg:squarederror.\n",
            "[CV] END max_depth=8, min_samples_leaf=50, min_samples_split=100, n_estimators=80; total time=   0.2s\n",
            "[08:04:30] WARNING: /workspace/src/objective/regression_obj.cu:152: reg:linear is now deprecated in favor of reg:squarederror.\n",
            "[CV] END max_depth=8, min_samples_leaf=50, min_samples_split=100, n_estimators=80; total time=   0.2s\n",
            "[08:04:31] WARNING: /workspace/src/objective/regression_obj.cu:152: reg:linear is now deprecated in favor of reg:squarederror.\n",
            "[CV] END max_depth=8, min_samples_leaf=50, min_samples_split=100, n_estimators=80; total time=   0.2s\n",
            "[08:04:31] WARNING: /workspace/src/objective/regression_obj.cu:152: reg:linear is now deprecated in favor of reg:squarederror.\n",
            "[CV] END max_depth=8, min_samples_leaf=50, min_samples_split=100, n_estimators=80; total time=   0.2s\n",
            "[08:04:31] WARNING: /workspace/src/objective/regression_obj.cu:152: reg:linear is now deprecated in favor of reg:squarederror.\n",
            "[CV] END max_depth=8, min_samples_leaf=50, min_samples_split=100, n_estimators=80; total time=   0.2s\n",
            "[08:04:31] WARNING: /workspace/src/objective/regression_obj.cu:152: reg:linear is now deprecated in favor of reg:squarederror.\n",
            "[CV] END max_depth=8, min_samples_leaf=50, min_samples_split=50, n_estimators=50; total time=   0.1s\n",
            "[08:04:31] WARNING: /workspace/src/objective/regression_obj.cu:152: reg:linear is now deprecated in favor of reg:squarederror.\n",
            "[CV] END max_depth=8, min_samples_leaf=50, min_samples_split=50, n_estimators=50; total time=   0.1s\n",
            "[08:04:32] WARNING: /workspace/src/objective/regression_obj.cu:152: reg:linear is now deprecated in favor of reg:squarederror.\n",
            "[CV] END max_depth=8, min_samples_leaf=50, min_samples_split=50, n_estimators=50; total time=   0.1s\n",
            "[08:04:32] WARNING: /workspace/src/objective/regression_obj.cu:152: reg:linear is now deprecated in favor of reg:squarederror.\n",
            "[CV] END max_depth=8, min_samples_leaf=50, min_samples_split=50, n_estimators=50; total time=   0.1s\n",
            "[08:04:32] WARNING: /workspace/src/objective/regression_obj.cu:152: reg:linear is now deprecated in favor of reg:squarederror.\n",
            "[CV] END max_depth=8, min_samples_leaf=50, min_samples_split=50, n_estimators=50; total time=   0.1s\n",
            "[08:04:32] WARNING: /workspace/src/objective/regression_obj.cu:152: reg:linear is now deprecated in favor of reg:squarederror.\n",
            "[CV] END max_depth=4, min_samples_leaf=50, min_samples_split=150, n_estimators=50; total time=   0.1s\n",
            "[08:04:32] WARNING: /workspace/src/objective/regression_obj.cu:152: reg:linear is now deprecated in favor of reg:squarederror.\n",
            "[CV] END max_depth=4, min_samples_leaf=50, min_samples_split=150, n_estimators=50; total time=   0.1s\n",
            "[08:04:32] WARNING: /workspace/src/objective/regression_obj.cu:152: reg:linear is now deprecated in favor of reg:squarederror.\n",
            "[CV] END max_depth=4, min_samples_leaf=50, min_samples_split=150, n_estimators=50; total time=   0.1s\n",
            "[08:04:32] WARNING: /workspace/src/objective/regression_obj.cu:152: reg:linear is now deprecated in favor of reg:squarederror.\n",
            "[CV] END max_depth=4, min_samples_leaf=50, min_samples_split=150, n_estimators=50; total time=   0.1s\n",
            "[08:04:32] WARNING: /workspace/src/objective/regression_obj.cu:152: reg:linear is now deprecated in favor of reg:squarederror.\n",
            "[CV] END max_depth=4, min_samples_leaf=50, min_samples_split=150, n_estimators=50; total time=   0.1s\n",
            "[08:04:32] WARNING: /workspace/src/objective/regression_obj.cu:152: reg:linear is now deprecated in favor of reg:squarederror.\n",
            "[CV] END max_depth=4, min_samples_leaf=50, min_samples_split=50, n_estimators=50; total time=   0.1s\n",
            "[08:04:32] WARNING: /workspace/src/objective/regression_obj.cu:152: reg:linear is now deprecated in favor of reg:squarederror.\n",
            "[CV] END max_depth=4, min_samples_leaf=50, min_samples_split=50, n_estimators=50; total time=   0.1s\n",
            "[08:04:32] WARNING: /workspace/src/objective/regression_obj.cu:152: reg:linear is now deprecated in favor of reg:squarederror.\n",
            "[CV] END max_depth=4, min_samples_leaf=50, min_samples_split=50, n_estimators=50; total time=   0.1s\n",
            "[08:04:32] WARNING: /workspace/src/objective/regression_obj.cu:152: reg:linear is now deprecated in favor of reg:squarederror.\n",
            "[CV] END max_depth=4, min_samples_leaf=50, min_samples_split=50, n_estimators=50; total time=   0.1s\n",
            "[08:04:32] WARNING: /workspace/src/objective/regression_obj.cu:152: reg:linear is now deprecated in favor of reg:squarederror.\n",
            "[CV] END max_depth=4, min_samples_leaf=50, min_samples_split=50, n_estimators=50; total time=   0.1s\n",
            "[08:04:33] WARNING: /workspace/src/objective/regression_obj.cu:152: reg:linear is now deprecated in favor of reg:squarederror.\n",
            "[CV] END max_depth=4, min_samples_leaf=50, min_samples_split=50, n_estimators=80; total time=   0.1s\n",
            "[08:04:33] WARNING: /workspace/src/objective/regression_obj.cu:152: reg:linear is now deprecated in favor of reg:squarederror.\n",
            "[CV] END max_depth=4, min_samples_leaf=50, min_samples_split=50, n_estimators=80; total time=   0.1s\n",
            "[08:04:33] WARNING: /workspace/src/objective/regression_obj.cu:152: reg:linear is now deprecated in favor of reg:squarederror.\n",
            "[CV] END max_depth=4, min_samples_leaf=50, min_samples_split=50, n_estimators=80; total time=   0.1s\n",
            "[08:04:33] WARNING: /workspace/src/objective/regression_obj.cu:152: reg:linear is now deprecated in favor of reg:squarederror.\n",
            "[CV] END max_depth=4, min_samples_leaf=50, min_samples_split=50, n_estimators=80; total time=   0.1s\n",
            "[08:04:33] WARNING: /workspace/src/objective/regression_obj.cu:152: reg:linear is now deprecated in favor of reg:squarederror.\n",
            "[CV] END max_depth=4, min_samples_leaf=50, min_samples_split=50, n_estimators=80; total time=   0.1s\n",
            "[08:04:33] WARNING: /workspace/src/objective/regression_obj.cu:152: reg:linear is now deprecated in favor of reg:squarederror.\n",
            "[CV] END max_depth=4, min_samples_leaf=40, min_samples_split=50, n_estimators=100; total time=   0.1s\n",
            "[08:04:33] WARNING: /workspace/src/objective/regression_obj.cu:152: reg:linear is now deprecated in favor of reg:squarederror.\n",
            "[CV] END max_depth=4, min_samples_leaf=40, min_samples_split=50, n_estimators=100; total time=   0.1s\n",
            "[08:04:33] WARNING: /workspace/src/objective/regression_obj.cu:152: reg:linear is now deprecated in favor of reg:squarederror.\n",
            "[CV] END max_depth=4, min_samples_leaf=40, min_samples_split=50, n_estimators=100; total time=   0.1s\n",
            "[08:04:33] WARNING: /workspace/src/objective/regression_obj.cu:152: reg:linear is now deprecated in favor of reg:squarederror.\n",
            "[CV] END max_depth=4, min_samples_leaf=40, min_samples_split=50, n_estimators=100; total time=   0.1s\n",
            "[08:04:34] WARNING: /workspace/src/objective/regression_obj.cu:152: reg:linear is now deprecated in favor of reg:squarederror.\n",
            "[CV] END max_depth=4, min_samples_leaf=40, min_samples_split=50, n_estimators=100; total time=   0.1s\n",
            "[08:04:34] WARNING: /workspace/src/objective/regression_obj.cu:152: reg:linear is now deprecated in favor of reg:squarederror.\n",
            "[CV] END max_depth=6, min_samples_leaf=50, min_samples_split=50, n_estimators=100; total time=   0.2s\n",
            "[08:04:34] WARNING: /workspace/src/objective/regression_obj.cu:152: reg:linear is now deprecated in favor of reg:squarederror.\n",
            "[CV] END max_depth=6, min_samples_leaf=50, min_samples_split=50, n_estimators=100; total time=   0.2s\n",
            "[08:04:34] WARNING: /workspace/src/objective/regression_obj.cu:152: reg:linear is now deprecated in favor of reg:squarederror.\n",
            "[CV] END max_depth=6, min_samples_leaf=50, min_samples_split=50, n_estimators=100; total time=   0.2s\n",
            "[08:04:34] WARNING: /workspace/src/objective/regression_obj.cu:152: reg:linear is now deprecated in favor of reg:squarederror.\n",
            "[CV] END max_depth=6, min_samples_leaf=50, min_samples_split=50, n_estimators=100; total time=   0.2s\n",
            "[08:04:34] WARNING: /workspace/src/objective/regression_obj.cu:152: reg:linear is now deprecated in favor of reg:squarederror.\n",
            "[CV] END max_depth=6, min_samples_leaf=50, min_samples_split=50, n_estimators=100; total time=   0.2s\n",
            "[08:04:35] WARNING: /workspace/src/objective/regression_obj.cu:152: reg:linear is now deprecated in favor of reg:squarederror.\n",
            "[CV] END max_depth=6, min_samples_leaf=40, min_samples_split=150, n_estimators=50; total time=   0.1s\n",
            "[08:04:35] WARNING: /workspace/src/objective/regression_obj.cu:152: reg:linear is now deprecated in favor of reg:squarederror.\n",
            "[CV] END max_depth=6, min_samples_leaf=40, min_samples_split=150, n_estimators=50; total time=   0.1s\n",
            "[08:04:35] WARNING: /workspace/src/objective/regression_obj.cu:152: reg:linear is now deprecated in favor of reg:squarederror.\n",
            "[CV] END max_depth=6, min_samples_leaf=40, min_samples_split=150, n_estimators=50; total time=   0.1s\n",
            "[08:04:35] WARNING: /workspace/src/objective/regression_obj.cu:152: reg:linear is now deprecated in favor of reg:squarederror.\n",
            "[CV] END max_depth=6, min_samples_leaf=40, min_samples_split=150, n_estimators=50; total time=   0.1s\n",
            "[08:04:35] WARNING: /workspace/src/objective/regression_obj.cu:152: reg:linear is now deprecated in favor of reg:squarederror.\n",
            "[CV] END max_depth=6, min_samples_leaf=40, min_samples_split=150, n_estimators=50; total time=   0.1s\n",
            "[08:04:35] WARNING: /workspace/src/objective/regression_obj.cu:152: reg:linear is now deprecated in favor of reg:squarederror.\n"
          ]
        },
        {
          "output_type": "execute_result",
          "data": {
            "text/plain": [
              "RandomizedSearchCV(cv=5, estimator=XGBRegressor(),\n",
              "                   param_distributions={'max_depth': [4, 6, 8],\n",
              "                                        'min_samples_leaf': [40, 50],\n",
              "                                        'min_samples_split': [50, 100, 150],\n",
              "                                        'n_estimators': [50, 80, 100]},\n",
              "                   verbose=2)"
            ]
          },
          "metadata": {},
          "execution_count": 86
        }
      ]
    },
    {
      "cell_type": "code",
      "source": [
        "#finding xgb_optimal_model\n",
        "xgb_optimal_model = xgb_random.best_estimator_"
      ],
      "metadata": {
        "id": "Ovg-JZe_QVAN"
      },
      "execution_count": 87,
      "outputs": []
    },
    {
      "cell_type": "code",
      "source": [
        "xgb_optimal_model"
      ],
      "metadata": {
        "colab": {
          "base_uri": "https://localhost:8080/"
        },
        "id": "71gyzlyAQWvP",
        "outputId": "7a7be0b2-23a6-4d7e-a937-6f18cf6fd5b3"
      },
      "execution_count": 88,
      "outputs": [
        {
          "output_type": "execute_result",
          "data": {
            "text/plain": [
              "XGBRegressor(max_depth=4, min_samples_leaf=50, min_samples_split=50,\n",
              "             n_estimators=80)"
            ]
          },
          "metadata": {},
          "execution_count": 88
        }
      ]
    },
    {
      "cell_type": "code",
      "source": [
        "y_pred = xgb_optimal_model.predict(X_train)\n",
        "y_test_pred = xgb_optimal_model.predict(X_test)\n",
        "print('Training MAE: {:0.2f}'.format(metrics.mean_absolute_error(y_train, y_pred)))\n",
        "print('Test MAE: {:0.2f}'.format(metrics.mean_absolute_error(y_test, y_test_pred)))"
      ],
      "metadata": {
        "colab": {
          "base_uri": "https://localhost:8080/"
        },
        "id": "1pNrZneYQa_N",
        "outputId": "dbfa28ce-c5b3-47de-feb8-8857f3ab48a6"
      },
      "execution_count": 89,
      "outputs": [
        {
          "output_type": "stream",
          "name": "stdout",
          "text": [
            "Training MAE: 169262.81\n",
            "Test MAE: 220553.09\n"
          ]
        }
      ]
    },
    {
      "cell_type": "markdown",
      "source": [
        "# **8. Comparison of different regressor Models**\n",
        "## **The ML regressor models that we have used are :**\n",
        "* Lasso Regressor\n",
        "* Ridge Regressor\n",
        "* KNearestNeighbors Regressor\n",
        "* Random Forest Regressor\n",
        "* XGB Regressor\n",
        "\n",
        "**Let's try all these models together and store the scores in a new dataframe.**"
      ],
      "metadata": {
        "id": "ZyEkFQRORZla"
      }
    },
    {
      "cell_type": "code",
      "source": [
        "from sklearn.linear_model import Ridge, Lasso\n",
        "from sklearn import neighbors\n",
        "import xgboost as xgb"
      ],
      "metadata": {
        "id": "fF-5xPv_S6NI"
      },
      "execution_count": 90,
      "outputs": []
    },
    {
      "cell_type": "code",
      "source": [
        "#Defining all these models\n",
        "models = [\n",
        "           ['Lasso: ', Lasso()],\n",
        "           ['Ridge: ', Ridge()],\n",
        "           ['KNeighborsRegressor: ',  neighbors.KNeighborsRegressor()],\n",
        "           ['RandomForest ',RandomForestRegressor(criterion='mae',max_depth=4,min_samples_leaf=30,min_samples_split=50,n_estimators=120,random_state=42)],\n",
        "           ['XGBRegressor: ', xgb.XGBRegressor(base_score=0.5, booster='gbtree',colsample_bytree=1, gamma=0,importance_type='gain', learning_rate=0.1,max_depth=4, min_samples_leaf=50,\n",
        "             min_samples_split=50, n_estimators=80)]          \n",
        "        ]"
      ],
      "metadata": {
        "id": "AhhvmkpTRQ-L"
      },
      "execution_count": 94,
      "outputs": []
    },
    {
      "cell_type": "code",
      "source": [
        "#Let's run all the models and store the scores\n",
        "model_data = []\n",
        "for name,curr_model in models :\n",
        "    curr_model_data = {}\n",
        "    curr_model.random_state = 78\n",
        "    curr_model_data[\"Name\"] = name\n",
        "    curr_model.fit(X_train,y_train)\n",
        "    curr_model_data[\"MAE_train\"] =metrics.mean_absolute_error(y_train, curr_model.predict(X_train))\n",
        "    curr_model_data[\"MAE_test\"] =metrics.mean_absolute_error(y_test, curr_model.predict(X_test))\n",
        "    curr_model_data[\"R2_Score_train\"] = r2_score(y_train,curr_model.predict(X_train))\n",
        "    curr_model_data[\"R2_Score_test\"] = r2_score(y_test,curr_model.predict(X_test))\n",
        "    curr_model_data[\"RMSE_Score_train\"] = np.sqrt(mean_squared_error(y_train,curr_model.predict(X_train)))\n",
        "    curr_model_data[\"RMSE_Score_test\"] = np.sqrt(mean_squared_error(y_test,curr_model.predict(X_test)))\n",
        "    model_data.append(curr_model_data)"
      ],
      "metadata": {
        "colab": {
          "base_uri": "https://localhost:8080/"
        },
        "id": "CtjFQY31RsTT",
        "outputId": "b7cbd45a-354c-4752-832c-8167990d76df"
      },
      "execution_count": 95,
      "outputs": [
        {
          "output_type": "stream",
          "name": "stderr",
          "text": [
            "/usr/local/lib/python3.7/dist-packages/sklearn/ensemble/_forest.py:407: FutureWarning: Criterion 'mae' was deprecated in v1.0 and will be removed in version 1.2. Use `criterion='absolute_error'` which is equivalent.\n",
            "  FutureWarning,\n"
          ]
        },
        {
          "output_type": "stream",
          "name": "stdout",
          "text": [
            "[08:17:38] WARNING: /workspace/src/objective/regression_obj.cu:152: reg:linear is now deprecated in favor of reg:squarederror.\n"
          ]
        }
      ]
    },
    {
      "cell_type": "code",
      "source": [
        "#printing the results dataframe\n",
        "results_df = pd.DataFrame(model_data)\n",
        "results_df"
      ],
      "metadata": {
        "colab": {
          "base_uri": "https://localhost:8080/",
          "height": 206
        },
        "id": "1YXfzVbsRuaK",
        "outputId": "cd4f1564-411c-43c5-ee34-09e998586bac"
      },
      "execution_count": 96,
      "outputs": [
        {
          "output_type": "execute_result",
          "data": {
            "text/plain": [
              "                    Name      MAE_train       MAE_test  R2_Score_train  \\\n",
              "0                Lasso:   268717.185695  262288.757920        0.812195   \n",
              "1                Ridge:   268711.464451  262280.220163        0.812195   \n",
              "2  KNeighborsRegressor:   203726.273279  239920.932280        0.864798   \n",
              "3          RandomForest   203703.785753  210610.538512        0.805132   \n",
              "4         XGBRegressor:   169262.805385  220553.085433        0.908343   \n",
              "\n",
              "   R2_Score_test  RMSE_Score_train  RMSE_Score_test  \n",
              "0       0.817135     477797.484675    471354.485835  \n",
              "1       0.817138     477797.488634    471351.534800  \n",
              "2       0.805532     405397.317943    486078.477742  \n",
              "3       0.800267     486698.622559    492614.788850  \n",
              "4       0.835552     333788.787008    446989.161918  "
            ],
            "text/html": [
              "\n",
              "  <div id=\"df-d47b956a-54c8-4824-8754-9fdf4a6ccef3\">\n",
              "    <div class=\"colab-df-container\">\n",
              "      <div>\n",
              "<style scoped>\n",
              "    .dataframe tbody tr th:only-of-type {\n",
              "        vertical-align: middle;\n",
              "    }\n",
              "\n",
              "    .dataframe tbody tr th {\n",
              "        vertical-align: top;\n",
              "    }\n",
              "\n",
              "    .dataframe thead th {\n",
              "        text-align: right;\n",
              "    }\n",
              "</style>\n",
              "<table border=\"1\" class=\"dataframe\">\n",
              "  <thead>\n",
              "    <tr style=\"text-align: right;\">\n",
              "      <th></th>\n",
              "      <th>Name</th>\n",
              "      <th>MAE_train</th>\n",
              "      <th>MAE_test</th>\n",
              "      <th>R2_Score_train</th>\n",
              "      <th>R2_Score_test</th>\n",
              "      <th>RMSE_Score_train</th>\n",
              "      <th>RMSE_Score_test</th>\n",
              "    </tr>\n",
              "  </thead>\n",
              "  <tbody>\n",
              "    <tr>\n",
              "      <th>0</th>\n",
              "      <td>Lasso:</td>\n",
              "      <td>268717.185695</td>\n",
              "      <td>262288.757920</td>\n",
              "      <td>0.812195</td>\n",
              "      <td>0.817135</td>\n",
              "      <td>477797.484675</td>\n",
              "      <td>471354.485835</td>\n",
              "    </tr>\n",
              "    <tr>\n",
              "      <th>1</th>\n",
              "      <td>Ridge:</td>\n",
              "      <td>268711.464451</td>\n",
              "      <td>262280.220163</td>\n",
              "      <td>0.812195</td>\n",
              "      <td>0.817138</td>\n",
              "      <td>477797.488634</td>\n",
              "      <td>471351.534800</td>\n",
              "    </tr>\n",
              "    <tr>\n",
              "      <th>2</th>\n",
              "      <td>KNeighborsRegressor:</td>\n",
              "      <td>203726.273279</td>\n",
              "      <td>239920.932280</td>\n",
              "      <td>0.864798</td>\n",
              "      <td>0.805532</td>\n",
              "      <td>405397.317943</td>\n",
              "      <td>486078.477742</td>\n",
              "    </tr>\n",
              "    <tr>\n",
              "      <th>3</th>\n",
              "      <td>RandomForest</td>\n",
              "      <td>203703.785753</td>\n",
              "      <td>210610.538512</td>\n",
              "      <td>0.805132</td>\n",
              "      <td>0.800267</td>\n",
              "      <td>486698.622559</td>\n",
              "      <td>492614.788850</td>\n",
              "    </tr>\n",
              "    <tr>\n",
              "      <th>4</th>\n",
              "      <td>XGBRegressor:</td>\n",
              "      <td>169262.805385</td>\n",
              "      <td>220553.085433</td>\n",
              "      <td>0.908343</td>\n",
              "      <td>0.835552</td>\n",
              "      <td>333788.787008</td>\n",
              "      <td>446989.161918</td>\n",
              "    </tr>\n",
              "  </tbody>\n",
              "</table>\n",
              "</div>\n",
              "      <button class=\"colab-df-convert\" onclick=\"convertToInteractive('df-d47b956a-54c8-4824-8754-9fdf4a6ccef3')\"\n",
              "              title=\"Convert this dataframe to an interactive table.\"\n",
              "              style=\"display:none;\">\n",
              "        \n",
              "  <svg xmlns=\"http://www.w3.org/2000/svg\" height=\"24px\"viewBox=\"0 0 24 24\"\n",
              "       width=\"24px\">\n",
              "    <path d=\"M0 0h24v24H0V0z\" fill=\"none\"/>\n",
              "    <path d=\"M18.56 5.44l.94 2.06.94-2.06 2.06-.94-2.06-.94-.94-2.06-.94 2.06-2.06.94zm-11 1L8.5 8.5l.94-2.06 2.06-.94-2.06-.94L8.5 2.5l-.94 2.06-2.06.94zm10 10l.94 2.06.94-2.06 2.06-.94-2.06-.94-.94-2.06-.94 2.06-2.06.94z\"/><path d=\"M17.41 7.96l-1.37-1.37c-.4-.4-.92-.59-1.43-.59-.52 0-1.04.2-1.43.59L10.3 9.45l-7.72 7.72c-.78.78-.78 2.05 0 2.83L4 21.41c.39.39.9.59 1.41.59.51 0 1.02-.2 1.41-.59l7.78-7.78 2.81-2.81c.8-.78.8-2.07 0-2.86zM5.41 20L4 18.59l7.72-7.72 1.47 1.35L5.41 20z\"/>\n",
              "  </svg>\n",
              "      </button>\n",
              "      \n",
              "  <style>\n",
              "    .colab-df-container {\n",
              "      display:flex;\n",
              "      flex-wrap:wrap;\n",
              "      gap: 12px;\n",
              "    }\n",
              "\n",
              "    .colab-df-convert {\n",
              "      background-color: #E8F0FE;\n",
              "      border: none;\n",
              "      border-radius: 50%;\n",
              "      cursor: pointer;\n",
              "      display: none;\n",
              "      fill: #1967D2;\n",
              "      height: 32px;\n",
              "      padding: 0 0 0 0;\n",
              "      width: 32px;\n",
              "    }\n",
              "\n",
              "    .colab-df-convert:hover {\n",
              "      background-color: #E2EBFA;\n",
              "      box-shadow: 0px 1px 2px rgba(60, 64, 67, 0.3), 0px 1px 3px 1px rgba(60, 64, 67, 0.15);\n",
              "      fill: #174EA6;\n",
              "    }\n",
              "\n",
              "    [theme=dark] .colab-df-convert {\n",
              "      background-color: #3B4455;\n",
              "      fill: #D2E3FC;\n",
              "    }\n",
              "\n",
              "    [theme=dark] .colab-df-convert:hover {\n",
              "      background-color: #434B5C;\n",
              "      box-shadow: 0px 1px 3px 1px rgba(0, 0, 0, 0.15);\n",
              "      filter: drop-shadow(0px 1px 2px rgba(0, 0, 0, 0.3));\n",
              "      fill: #FFFFFF;\n",
              "    }\n",
              "  </style>\n",
              "\n",
              "      <script>\n",
              "        const buttonEl =\n",
              "          document.querySelector('#df-d47b956a-54c8-4824-8754-9fdf4a6ccef3 button.colab-df-convert');\n",
              "        buttonEl.style.display =\n",
              "          google.colab.kernel.accessAllowed ? 'block' : 'none';\n",
              "\n",
              "        async function convertToInteractive(key) {\n",
              "          const element = document.querySelector('#df-d47b956a-54c8-4824-8754-9fdf4a6ccef3');\n",
              "          const dataTable =\n",
              "            await google.colab.kernel.invokeFunction('convertToInteractive',\n",
              "                                                     [key], {});\n",
              "          if (!dataTable) return;\n",
              "\n",
              "          const docLinkHtml = 'Like what you see? Visit the ' +\n",
              "            '<a target=\"_blank\" href=https://colab.research.google.com/notebooks/data_table.ipynb>data table notebook</a>'\n",
              "            + ' to learn more about interactive tables.';\n",
              "          element.innerHTML = '';\n",
              "          dataTable['output_type'] = 'display_data';\n",
              "          await google.colab.output.renderOutput(dataTable, element);\n",
              "          const docLink = document.createElement('div');\n",
              "          docLink.innerHTML = docLinkHtml;\n",
              "          element.appendChild(docLink);\n",
              "        }\n",
              "      </script>\n",
              "    </div>\n",
              "  </div>\n",
              "  "
            ]
          },
          "metadata": {},
          "execution_count": 96
        }
      ]
    },
    {
      "cell_type": "markdown",
      "source": [
        "# **9. Final selection of the model**\n",
        "### **We choose MAE and not RMSE as the deciding factor of our model selection because of the following reasons:**\n",
        "\n",
        "* RMSE is heavily influenced by outliers as in the higher the values get the more the RMSE increases.\n",
        "\n",
        "* MAE doesn’t increase with outliers. MAE is linear and RMSE is quadratically increasing.\n",
        "\n",
        "* The best performing regressor model for this dataset is Random Forest Regressor on the basis of MAE."
      ],
      "metadata": {
        "id": "v2wTuP6dRy0o"
      }
    },
    {
      "cell_type": "markdown",
      "source": [
        "# **10. Conclusion**\n",
        "## **That's it! We reached the end of our exercise.**\n",
        "### **Started with loading the data so far we have done EDA ,feature engineering , data cleaning, target encoding and one hot encoding of categorical columns, feature selection and then model building.**\n",
        "**So far we have modelled on**\n",
        "* Lasso Regressor\n",
        "* Ridge Regressor\n",
        "* KNearestNeighbors Regressor\n",
        "* Random Forest Regressor\n",
        "* XGB Regressor\n",
        "\n",
        "**In all of these models our errors have been in the range of 2,00,000 which is around 5% of the average views. We have been able to correctly predict views 95% of the time.**\n",
        "\n",
        "**After hyper parameter tuning, we have prevented overfitting and decreased errors by regularizing and reducing learning rate.**\n",
        "\n",
        "**Given that only have 5% errors, our models have performed very well on unseen data due to various factors like feature selection,correct model selection,etc.**\n",
        "**Out of all these models RandomForestRegressor is the best performer in terms of MAE.** \n",
        "\n",
        "**In all the features speaker_wise_avg_views is most important this implies that speakers are directly impacting the views.**"
      ],
      "metadata": {
        "id": "u7AJmgzmSFCu"
      }
    },
    {
      "cell_type": "code",
      "source": [],
      "metadata": {
        "id": "jIbtf3V4V6p0"
      },
      "execution_count": null,
      "outputs": []
    }
  ]
}